{
  "nbformat": 4,
  "nbformat_minor": 0,
  "metadata": {
    "kernelspec": {
      "display_name": "Python 3",
      "language": "python",
      "name": "python3"
    },
    "language_info": {
      "codemirror_mode": {
        "name": "ipython",
        "version": 3
      },
      "file_extension": ".py",
      "mimetype": "text/x-python",
      "name": "python",
      "nbconvert_exporter": "python",
      "pygments_lexer": "ipython3",
      "version": "3.6.6"
    },
    "colab": {
      "provenance": [],
      "collapsed_sections": [],
      "include_colab_link": true
    }
  },
  "cells": [
    {
      "cell_type": "markdown",
      "metadata": {
        "id": "view-in-github",
        "colab_type": "text"
      },
      "source": [
        "<a href=\"https://colab.research.google.com/github/Jeetesh-KumarM/CAPSTONE-PROJECT-1/blob/main/Copy_of_Airbnb_Bookings_Analysis_Capstone_Project.ipynb\" target=\"_parent\"><img src=\"https://colab.research.google.com/assets/colab-badge.svg\" alt=\"Open In Colab\"/></a>"
      ]
    },
    {
      "cell_type": "markdown",
      "metadata": {
        "id": "Y06xIdG26kRF"
      },
      "source": [
        "## <b> Since 2008, guests and hosts have used Airbnb to expand on traveling possibilities and present a more unique, personalized way of experiencing the world. Today, Airbnb became one of a kind service that is used and recognized by the whole world. Data analysis on millions of listings provided through Airbnb is a crucial factor for the company. These millions of listings generate a lot of data - data that can be analyzed and used for security, business decisions, understanding of customers' and providers' (hosts) behavior and performance on the platform, guiding marketing initiatives, implementation of innovative additional services and much more. </b>\n",
        "\n",
        "## <b>This dataset has around 49,000 observations in it with 16 columns and it is a mix between categorical and numeric values. </b>\n",
        "\n",
        "## <b> Explore and analyze the data to discover key understandings (not limited to these) such as : \n",
        "* What can we learn about different hosts and areas?\n",
        "* What can we learn from predictions? (ex: locations, prices, reviews, etc)\n",
        "* Which hosts are the busiest and why?\n",
        "* Is there any noticeable difference of traffic among different areas and what could be the reason for it? </b>"
      ]
    },
    {
      "cell_type": "code",
      "metadata": {
        "id": "dByMsuzT8Tnw"
      },
      "source": [
        "import numpy as np\n",
        "import pandas as pd\n",
        "import matplotlib.pyplot as plt\n",
        "import seaborn as sns\n",
        "%matplotlib inline\n",
        "import datetime as dt"
      ],
      "execution_count": null,
      "outputs": []
    },
    {
      "cell_type": "code",
      "source": [
        "from google.colab import drive\n",
        "drive.mount('/content/drive')"
      ],
      "metadata": {
        "id": "PCnVbgaq69-5",
        "outputId": "6e6b9ae7-e06a-4afa-d0c8-ef16615aa5ad",
        "colab": {
          "base_uri": "https://localhost:8080/"
        }
      },
      "execution_count": null,
      "outputs": [
        {
          "output_type": "stream",
          "name": "stdout",
          "text": [
            "Mounted at /content/drive\n"
          ]
        }
      ]
    },
    {
      "cell_type": "code",
      "source": [
        "df=pd.read_csv(\"/content/drive/MyDrive/AlmaBetter/AirBnB/AirBnB Bookings Analysis/Airbnb NYC 2019.csv\")"
      ],
      "metadata": {
        "id": "qOf6w0r164C1"
      },
      "execution_count": null,
      "outputs": []
    },
    {
      "cell_type": "code",
      "source": [
        "df.info()"
      ],
      "metadata": {
        "id": "Et6jaxVen4Xd",
        "colab": {
          "base_uri": "https://localhost:8080/"
        },
        "outputId": "b09e2190-187e-4189-d4cf-62d421aeacbd"
      },
      "execution_count": null,
      "outputs": [
        {
          "output_type": "stream",
          "name": "stdout",
          "text": [
            "<class 'pandas.core.frame.DataFrame'>\n",
            "RangeIndex: 48895 entries, 0 to 48894\n",
            "Data columns (total 16 columns):\n",
            " #   Column                          Non-Null Count  Dtype  \n",
            "---  ------                          --------------  -----  \n",
            " 0   id                              48895 non-null  int64  \n",
            " 1   name                            48879 non-null  object \n",
            " 2   host_id                         48895 non-null  int64  \n",
            " 3   host_name                       48874 non-null  object \n",
            " 4   neighbourhood_group             48895 non-null  object \n",
            " 5   neighbourhood                   48895 non-null  object \n",
            " 6   latitude                        48895 non-null  float64\n",
            " 7   longitude                       48895 non-null  float64\n",
            " 8   room_type                       48895 non-null  object \n",
            " 9   price                           48895 non-null  int64  \n",
            " 10  minimum_nights                  48895 non-null  int64  \n",
            " 11  number_of_reviews               48895 non-null  int64  \n",
            " 12  last_review                     38843 non-null  object \n",
            " 13  reviews_per_month               38843 non-null  float64\n",
            " 14  calculated_host_listings_count  48895 non-null  int64  \n",
            " 15  availability_365                48895 non-null  int64  \n",
            "dtypes: float64(3), int64(7), object(6)\n",
            "memory usage: 6.0+ MB\n"
          ]
        }
      ]
    },
    {
      "cell_type": "markdown",
      "source": [
        "**DATA CLEANING:**\n",
        "Checking whether same host id is present multiple times"
      ],
      "metadata": {
        "id": "ANusWqR9q4R6"
      }
    },
    {
      "cell_type": "code",
      "source": [
        "df.isnull().sum()"
      ],
      "metadata": {
        "id": "Io8sXNALX5Zi",
        "colab": {
          "base_uri": "https://localhost:8080/"
        },
        "outputId": "2bd425f2-fd01-4ed3-dcf1-1c757a3aa381"
      },
      "execution_count": null,
      "outputs": [
        {
          "output_type": "execute_result",
          "data": {
            "text/plain": [
              "id                                    0\n",
              "name                                 16\n",
              "host_id                               0\n",
              "host_name                            21\n",
              "neighbourhood_group                   0\n",
              "neighbourhood                         0\n",
              "latitude                              0\n",
              "longitude                             0\n",
              "room_type                             0\n",
              "price                                 0\n",
              "minimum_nights                        0\n",
              "number_of_reviews                     0\n",
              "last_review                       10052\n",
              "reviews_per_month                 10052\n",
              "calculated_host_listings_count        0\n",
              "availability_365                      0\n",
              "dtype: int64"
            ]
          },
          "metadata": {},
          "execution_count": 5
        }
      ]
    },
    {
      "cell_type": "code",
      "source": [
        "df['id'].duplicated().unique() #Host id dupicate has only 1 unique value i.e false. Hence no multiple data with same id exists"
      ],
      "metadata": {
        "id": "3-ea32BhXnMA",
        "colab": {
          "base_uri": "https://localhost:8080/"
        },
        "outputId": "39d3b006-2e01-4368-e28b-aea9ddf7d1ef"
      },
      "execution_count": null,
      "outputs": [
        {
          "output_type": "execute_result",
          "data": {
            "text/plain": [
              "array([False])"
            ]
          },
          "metadata": {},
          "execution_count": 6
        }
      ]
    },
    {
      "cell_type": "code",
      "source": [
        "df['id'].isnull().unique()#No null value in id"
      ],
      "metadata": {
        "colab": {
          "base_uri": "https://localhost:8080/"
        },
        "id": "ZcE19XSeIvRe",
        "outputId": "c8a6e197-1d1c-4a45-f3bb-331e3b3a0fff"
      },
      "execution_count": null,
      "outputs": [
        {
          "output_type": "execute_result",
          "data": {
            "text/plain": [
              "array([False])"
            ]
          },
          "metadata": {},
          "execution_count": 7
        }
      ]
    },
    {
      "cell_type": "code",
      "source": [
        "print(df['host_name'].isnull().unique())#Host name has null values\n",
        "name_null=df[df['host_name'].isnull()==True]\n",
        "name_null['id'].shape[0]# 21 entries with name as null\n",
        "s=df.name.fillna(df.host_id,inplace=True)#Replace the null host name with the host id\n",
        "df.name.isnull().unique()"
      ],
      "metadata": {
        "colab": {
          "base_uri": "https://localhost:8080/"
        },
        "id": "M1V2ftgEJP5t",
        "outputId": "844c1890-877f-4e91-bf70-041ea3319e58"
      },
      "execution_count": null,
      "outputs": [
        {
          "output_type": "stream",
          "name": "stdout",
          "text": [
            "[False  True]\n"
          ]
        },
        {
          "output_type": "execute_result",
          "data": {
            "text/plain": [
              "array([False])"
            ]
          },
          "metadata": {},
          "execution_count": 8
        }
      ]
    },
    {
      "cell_type": "code",
      "source": [
        "df1=df.copy()\n",
        "def check(x):\n",
        "    if 0 in x.values:\n",
        "      return \"0 is present\"\n",
        "    else:\n",
        "      return \"0 is absent\"\n",
        "#Price Values\n",
        "print(\"Price Column\")\n",
        "print(\"\\tNull values:\",df1['price'].isnull().unique())\n",
        "print(\"\\t\",check(df1['price']))\n",
        "#Minimum Nights Values\n",
        "print(\"\\nMinimum Nights Column\")\n",
        "print(\"\\tNull values:\",df1['minimum_nights'].isnull().unique())\n",
        "print(\"\\t\",check(df1['minimum_nights']))\n",
        "#Number of Reviews Values\n",
        "print(\"\\nNumber of reviews Column\")\n",
        "print(\"\\tNull values:\",df1['number_of_reviews'].isnull().unique())\n",
        "print('\\t',check(df1['number_of_reviews']))\n",
        "#Last Review Values\n",
        "print(\"\\nLast review Column\")\n",
        "print(\"\\tNull values:\",df1['last_review'].isnull().unique())\n",
        "print(\"\\t\",check(df1['last_review']))\n",
        "#df1['last_review'].fillna(0,inplace=True)\n",
        "#Reviews per Month Column\n",
        "print(\"\\nReviews Per Month Column\")\n",
        "print(\"\\tNull values:\",df1['reviews_per_month'].isnull().unique())\n",
        "print(\"\\t\",check(df1['reviews_per_month']))\n",
        "df1['reviews_per_month'].fillna(0,inplace=True)"
      ],
      "metadata": {
        "colab": {
          "base_uri": "https://localhost:8080/"
        },
        "id": "PaceEi7jitfD",
        "outputId": "53c309c0-8801-49d6-ba34-8d0d08bdff3b"
      },
      "execution_count": null,
      "outputs": [
        {
          "output_type": "stream",
          "name": "stdout",
          "text": [
            "Price Column\n",
            "\tNull values: [False]\n",
            "\t 0 is present\n",
            "\n",
            "Minimum Nights Column\n",
            "\tNull values: [False]\n",
            "\t 0 is absent\n",
            "\n",
            "Number of reviews Column\n",
            "\tNull values: [False]\n",
            "\t 0 is present\n",
            "\n",
            "Last review Column\n",
            "\tNull values: [False  True]\n",
            "\t 0 is absent\n",
            "\n",
            "Reviews Per Month Column\n",
            "\tNull values: [False  True]\n",
            "\t 0 is absent\n"
          ]
        }
      ]
    },
    {
      "cell_type": "markdown",
      "source": [],
      "metadata": {
        "id": "mI85NINyU-q0"
      }
    },
    {
      "cell_type": "code",
      "source": [
        "df2=df1.copy()\n",
        "new=df2.groupby(['neighbourhood_group','room_type']).agg({'price':\"mean\"})\n",
        "new"
      ],
      "metadata": {
        "id": "s9FTF6CTPy9p",
        "colab": {
          "base_uri": "https://localhost:8080/",
          "height": 551
        },
        "outputId": "461a8b54-9e27-46f0-9b19-a981e827ef6b"
      },
      "execution_count": null,
      "outputs": [
        {
          "output_type": "execute_result",
          "data": {
            "text/plain": [
              "                                          price\n",
              "neighbourhood_group room_type                  \n",
              "Bronx               Entire home/apt  127.506596\n",
              "                    Private room      66.788344\n",
              "                    Shared room       59.800000\n",
              "Brooklyn            Entire home/apt  178.327545\n",
              "                    Private room      76.500099\n",
              "                    Shared room       50.527845\n",
              "Manhattan           Entire home/apt  249.239109\n",
              "                    Private room     116.776622\n",
              "                    Shared room       88.977083\n",
              "Queens              Entire home/apt  147.050573\n",
              "                    Private room      71.762456\n",
              "                    Shared room       69.020202\n",
              "Staten Island       Entire home/apt  173.846591\n",
              "                    Private room      62.292553\n",
              "                    Shared room       57.444444"
            ],
            "text/html": [
              "\n",
              "  <div id=\"df-5c6b121c-76d5-4c51-8086-72fa8bb08721\">\n",
              "    <div class=\"colab-df-container\">\n",
              "      <div>\n",
              "<style scoped>\n",
              "    .dataframe tbody tr th:only-of-type {\n",
              "        vertical-align: middle;\n",
              "    }\n",
              "\n",
              "    .dataframe tbody tr th {\n",
              "        vertical-align: top;\n",
              "    }\n",
              "\n",
              "    .dataframe thead th {\n",
              "        text-align: right;\n",
              "    }\n",
              "</style>\n",
              "<table border=\"1\" class=\"dataframe\">\n",
              "  <thead>\n",
              "    <tr style=\"text-align: right;\">\n",
              "      <th></th>\n",
              "      <th></th>\n",
              "      <th>price</th>\n",
              "    </tr>\n",
              "    <tr>\n",
              "      <th>neighbourhood_group</th>\n",
              "      <th>room_type</th>\n",
              "      <th></th>\n",
              "    </tr>\n",
              "  </thead>\n",
              "  <tbody>\n",
              "    <tr>\n",
              "      <th rowspan=\"3\" valign=\"top\">Bronx</th>\n",
              "      <th>Entire home/apt</th>\n",
              "      <td>127.506596</td>\n",
              "    </tr>\n",
              "    <tr>\n",
              "      <th>Private room</th>\n",
              "      <td>66.788344</td>\n",
              "    </tr>\n",
              "    <tr>\n",
              "      <th>Shared room</th>\n",
              "      <td>59.800000</td>\n",
              "    </tr>\n",
              "    <tr>\n",
              "      <th rowspan=\"3\" valign=\"top\">Brooklyn</th>\n",
              "      <th>Entire home/apt</th>\n",
              "      <td>178.327545</td>\n",
              "    </tr>\n",
              "    <tr>\n",
              "      <th>Private room</th>\n",
              "      <td>76.500099</td>\n",
              "    </tr>\n",
              "    <tr>\n",
              "      <th>Shared room</th>\n",
              "      <td>50.527845</td>\n",
              "    </tr>\n",
              "    <tr>\n",
              "      <th rowspan=\"3\" valign=\"top\">Manhattan</th>\n",
              "      <th>Entire home/apt</th>\n",
              "      <td>249.239109</td>\n",
              "    </tr>\n",
              "    <tr>\n",
              "      <th>Private room</th>\n",
              "      <td>116.776622</td>\n",
              "    </tr>\n",
              "    <tr>\n",
              "      <th>Shared room</th>\n",
              "      <td>88.977083</td>\n",
              "    </tr>\n",
              "    <tr>\n",
              "      <th rowspan=\"3\" valign=\"top\">Queens</th>\n",
              "      <th>Entire home/apt</th>\n",
              "      <td>147.050573</td>\n",
              "    </tr>\n",
              "    <tr>\n",
              "      <th>Private room</th>\n",
              "      <td>71.762456</td>\n",
              "    </tr>\n",
              "    <tr>\n",
              "      <th>Shared room</th>\n",
              "      <td>69.020202</td>\n",
              "    </tr>\n",
              "    <tr>\n",
              "      <th rowspan=\"3\" valign=\"top\">Staten Island</th>\n",
              "      <th>Entire home/apt</th>\n",
              "      <td>173.846591</td>\n",
              "    </tr>\n",
              "    <tr>\n",
              "      <th>Private room</th>\n",
              "      <td>62.292553</td>\n",
              "    </tr>\n",
              "    <tr>\n",
              "      <th>Shared room</th>\n",
              "      <td>57.444444</td>\n",
              "    </tr>\n",
              "  </tbody>\n",
              "</table>\n",
              "</div>\n",
              "      <button class=\"colab-df-convert\" onclick=\"convertToInteractive('df-5c6b121c-76d5-4c51-8086-72fa8bb08721')\"\n",
              "              title=\"Convert this dataframe to an interactive table.\"\n",
              "              style=\"display:none;\">\n",
              "        \n",
              "  <svg xmlns=\"http://www.w3.org/2000/svg\" height=\"24px\"viewBox=\"0 0 24 24\"\n",
              "       width=\"24px\">\n",
              "    <path d=\"M0 0h24v24H0V0z\" fill=\"none\"/>\n",
              "    <path d=\"M18.56 5.44l.94 2.06.94-2.06 2.06-.94-2.06-.94-.94-2.06-.94 2.06-2.06.94zm-11 1L8.5 8.5l.94-2.06 2.06-.94-2.06-.94L8.5 2.5l-.94 2.06-2.06.94zm10 10l.94 2.06.94-2.06 2.06-.94-2.06-.94-.94-2.06-.94 2.06-2.06.94z\"/><path d=\"M17.41 7.96l-1.37-1.37c-.4-.4-.92-.59-1.43-.59-.52 0-1.04.2-1.43.59L10.3 9.45l-7.72 7.72c-.78.78-.78 2.05 0 2.83L4 21.41c.39.39.9.59 1.41.59.51 0 1.02-.2 1.41-.59l7.78-7.78 2.81-2.81c.8-.78.8-2.07 0-2.86zM5.41 20L4 18.59l7.72-7.72 1.47 1.35L5.41 20z\"/>\n",
              "  </svg>\n",
              "      </button>\n",
              "      \n",
              "  <style>\n",
              "    .colab-df-container {\n",
              "      display:flex;\n",
              "      flex-wrap:wrap;\n",
              "      gap: 12px;\n",
              "    }\n",
              "\n",
              "    .colab-df-convert {\n",
              "      background-color: #E8F0FE;\n",
              "      border: none;\n",
              "      border-radius: 50%;\n",
              "      cursor: pointer;\n",
              "      display: none;\n",
              "      fill: #1967D2;\n",
              "      height: 32px;\n",
              "      padding: 0 0 0 0;\n",
              "      width: 32px;\n",
              "    }\n",
              "\n",
              "    .colab-df-convert:hover {\n",
              "      background-color: #E2EBFA;\n",
              "      box-shadow: 0px 1px 2px rgba(60, 64, 67, 0.3), 0px 1px 3px 1px rgba(60, 64, 67, 0.15);\n",
              "      fill: #174EA6;\n",
              "    }\n",
              "\n",
              "    [theme=dark] .colab-df-convert {\n",
              "      background-color: #3B4455;\n",
              "      fill: #D2E3FC;\n",
              "    }\n",
              "\n",
              "    [theme=dark] .colab-df-convert:hover {\n",
              "      background-color: #434B5C;\n",
              "      box-shadow: 0px 1px 3px 1px rgba(0, 0, 0, 0.15);\n",
              "      filter: drop-shadow(0px 1px 2px rgba(0, 0, 0, 0.3));\n",
              "      fill: #FFFFFF;\n",
              "    }\n",
              "  </style>\n",
              "\n",
              "      <script>\n",
              "        const buttonEl =\n",
              "          document.querySelector('#df-5c6b121c-76d5-4c51-8086-72fa8bb08721 button.colab-df-convert');\n",
              "        buttonEl.style.display =\n",
              "          google.colab.kernel.accessAllowed ? 'block' : 'none';\n",
              "\n",
              "        async function convertToInteractive(key) {\n",
              "          const element = document.querySelector('#df-5c6b121c-76d5-4c51-8086-72fa8bb08721');\n",
              "          const dataTable =\n",
              "            await google.colab.kernel.invokeFunction('convertToInteractive',\n",
              "                                                     [key], {});\n",
              "          if (!dataTable) return;\n",
              "\n",
              "          const docLinkHtml = 'Like what you see? Visit the ' +\n",
              "            '<a target=\"_blank\" href=https://colab.research.google.com/notebooks/data_table.ipynb>data table notebook</a>'\n",
              "            + ' to learn more about interactive tables.';\n",
              "          element.innerHTML = '';\n",
              "          dataTable['output_type'] = 'display_data';\n",
              "          await google.colab.output.renderOutput(dataTable, element);\n",
              "          const docLink = document.createElement('div');\n",
              "          docLink.innerHTML = docLinkHtml;\n",
              "          element.appendChild(docLink);\n",
              "        }\n",
              "      </script>\n",
              "    </div>\n",
              "  </div>\n",
              "  "
            ]
          },
          "metadata": {},
          "execution_count": 37
        }
      ]
    },
    {
      "cell_type": "code",
      "source": [
        " new=df2.groupby(['neighbourhood_group','room_type']).agg({'neighbourhood_group':'unique','room_type':'unique','price':\"mean\"})\n",
        " #Include neighbourhood_group and room_type into the table\n"
      ],
      "metadata": {
        "id": "WJRBQga5rSbs"
      },
      "execution_count": null,
      "outputs": []
    },
    {
      "cell_type": "code",
      "source": [
        "df1[df1['price']==0][0:3]"
      ],
      "metadata": {
        "colab": {
          "base_uri": "https://localhost:8080/",
          "height": 381
        },
        "id": "YK6aSXC3965i",
        "outputId": "7f978057-5337-40ec-d7c5-f2274ec9bf75"
      },
      "execution_count": null,
      "outputs": [
        {
          "output_type": "execute_result",
          "data": {
            "text/plain": [
              "             id                                               name    host_id  \\\n",
              "23161  18750597  Huge Brooklyn Brownstone Living, Close to it all.    8993084   \n",
              "25433  20333471      ★Hostel Style Room | Ideal Traveling Buddies★  131697576   \n",
              "25634  20523843    MARTIAL LOFT 3: REDEMPTION (upstairs, 2nd room)   15787004   \n",
              "\n",
              "          host_name neighbourhood_group       neighbourhood  latitude  \\\n",
              "23161      Kimberly            Brooklyn  Bedford-Stuyvesant  40.69023   \n",
              "25433        Anisha               Bronx     East Morrisania  40.83296   \n",
              "25634  Martial Loft            Brooklyn            Bushwick  40.69467   \n",
              "\n",
              "       longitude     room_type  price  minimum_nights  number_of_reviews  \\\n",
              "23161  -73.95428  Private room      0               4                  1   \n",
              "25433  -73.88668  Private room      0               2                 55   \n",
              "25634  -73.92433  Private room      0               2                 16   \n",
              "\n",
              "      last_review  reviews_per_month  calculated_host_listings_count  \\\n",
              "23161  2018-01-06               0.05                               4   \n",
              "25433  2019-06-24               2.56                               4   \n",
              "25634  2019-05-18               0.71                               5   \n",
              "\n",
              "       availability_365  \n",
              "23161                28  \n",
              "25433               127  \n",
              "25634                 0  "
            ],
            "text/html": [
              "\n",
              "  <div id=\"df-203b06d6-d106-4a3a-95b1-8a31a8461dfd\">\n",
              "    <div class=\"colab-df-container\">\n",
              "      <div>\n",
              "<style scoped>\n",
              "    .dataframe tbody tr th:only-of-type {\n",
              "        vertical-align: middle;\n",
              "    }\n",
              "\n",
              "    .dataframe tbody tr th {\n",
              "        vertical-align: top;\n",
              "    }\n",
              "\n",
              "    .dataframe thead th {\n",
              "        text-align: right;\n",
              "    }\n",
              "</style>\n",
              "<table border=\"1\" class=\"dataframe\">\n",
              "  <thead>\n",
              "    <tr style=\"text-align: right;\">\n",
              "      <th></th>\n",
              "      <th>id</th>\n",
              "      <th>name</th>\n",
              "      <th>host_id</th>\n",
              "      <th>host_name</th>\n",
              "      <th>neighbourhood_group</th>\n",
              "      <th>neighbourhood</th>\n",
              "      <th>latitude</th>\n",
              "      <th>longitude</th>\n",
              "      <th>room_type</th>\n",
              "      <th>price</th>\n",
              "      <th>minimum_nights</th>\n",
              "      <th>number_of_reviews</th>\n",
              "      <th>last_review</th>\n",
              "      <th>reviews_per_month</th>\n",
              "      <th>calculated_host_listings_count</th>\n",
              "      <th>availability_365</th>\n",
              "    </tr>\n",
              "  </thead>\n",
              "  <tbody>\n",
              "    <tr>\n",
              "      <th>23161</th>\n",
              "      <td>18750597</td>\n",
              "      <td>Huge Brooklyn Brownstone Living, Close to it all.</td>\n",
              "      <td>8993084</td>\n",
              "      <td>Kimberly</td>\n",
              "      <td>Brooklyn</td>\n",
              "      <td>Bedford-Stuyvesant</td>\n",
              "      <td>40.69023</td>\n",
              "      <td>-73.95428</td>\n",
              "      <td>Private room</td>\n",
              "      <td>0</td>\n",
              "      <td>4</td>\n",
              "      <td>1</td>\n",
              "      <td>2018-01-06</td>\n",
              "      <td>0.05</td>\n",
              "      <td>4</td>\n",
              "      <td>28</td>\n",
              "    </tr>\n",
              "    <tr>\n",
              "      <th>25433</th>\n",
              "      <td>20333471</td>\n",
              "      <td>★Hostel Style Room | Ideal Traveling Buddies★</td>\n",
              "      <td>131697576</td>\n",
              "      <td>Anisha</td>\n",
              "      <td>Bronx</td>\n",
              "      <td>East Morrisania</td>\n",
              "      <td>40.83296</td>\n",
              "      <td>-73.88668</td>\n",
              "      <td>Private room</td>\n",
              "      <td>0</td>\n",
              "      <td>2</td>\n",
              "      <td>55</td>\n",
              "      <td>2019-06-24</td>\n",
              "      <td>2.56</td>\n",
              "      <td>4</td>\n",
              "      <td>127</td>\n",
              "    </tr>\n",
              "    <tr>\n",
              "      <th>25634</th>\n",
              "      <td>20523843</td>\n",
              "      <td>MARTIAL LOFT 3: REDEMPTION (upstairs, 2nd room)</td>\n",
              "      <td>15787004</td>\n",
              "      <td>Martial Loft</td>\n",
              "      <td>Brooklyn</td>\n",
              "      <td>Bushwick</td>\n",
              "      <td>40.69467</td>\n",
              "      <td>-73.92433</td>\n",
              "      <td>Private room</td>\n",
              "      <td>0</td>\n",
              "      <td>2</td>\n",
              "      <td>16</td>\n",
              "      <td>2019-05-18</td>\n",
              "      <td>0.71</td>\n",
              "      <td>5</td>\n",
              "      <td>0</td>\n",
              "    </tr>\n",
              "  </tbody>\n",
              "</table>\n",
              "</div>\n",
              "      <button class=\"colab-df-convert\" onclick=\"convertToInteractive('df-203b06d6-d106-4a3a-95b1-8a31a8461dfd')\"\n",
              "              title=\"Convert this dataframe to an interactive table.\"\n",
              "              style=\"display:none;\">\n",
              "        \n",
              "  <svg xmlns=\"http://www.w3.org/2000/svg\" height=\"24px\"viewBox=\"0 0 24 24\"\n",
              "       width=\"24px\">\n",
              "    <path d=\"M0 0h24v24H0V0z\" fill=\"none\"/>\n",
              "    <path d=\"M18.56 5.44l.94 2.06.94-2.06 2.06-.94-2.06-.94-.94-2.06-.94 2.06-2.06.94zm-11 1L8.5 8.5l.94-2.06 2.06-.94-2.06-.94L8.5 2.5l-.94 2.06-2.06.94zm10 10l.94 2.06.94-2.06 2.06-.94-2.06-.94-.94-2.06-.94 2.06-2.06.94z\"/><path d=\"M17.41 7.96l-1.37-1.37c-.4-.4-.92-.59-1.43-.59-.52 0-1.04.2-1.43.59L10.3 9.45l-7.72 7.72c-.78.78-.78 2.05 0 2.83L4 21.41c.39.39.9.59 1.41.59.51 0 1.02-.2 1.41-.59l7.78-7.78 2.81-2.81c.8-.78.8-2.07 0-2.86zM5.41 20L4 18.59l7.72-7.72 1.47 1.35L5.41 20z\"/>\n",
              "  </svg>\n",
              "      </button>\n",
              "      \n",
              "  <style>\n",
              "    .colab-df-container {\n",
              "      display:flex;\n",
              "      flex-wrap:wrap;\n",
              "      gap: 12px;\n",
              "    }\n",
              "\n",
              "    .colab-df-convert {\n",
              "      background-color: #E8F0FE;\n",
              "      border: none;\n",
              "      border-radius: 50%;\n",
              "      cursor: pointer;\n",
              "      display: none;\n",
              "      fill: #1967D2;\n",
              "      height: 32px;\n",
              "      padding: 0 0 0 0;\n",
              "      width: 32px;\n",
              "    }\n",
              "\n",
              "    .colab-df-convert:hover {\n",
              "      background-color: #E2EBFA;\n",
              "      box-shadow: 0px 1px 2px rgba(60, 64, 67, 0.3), 0px 1px 3px 1px rgba(60, 64, 67, 0.15);\n",
              "      fill: #174EA6;\n",
              "    }\n",
              "\n",
              "    [theme=dark] .colab-df-convert {\n",
              "      background-color: #3B4455;\n",
              "      fill: #D2E3FC;\n",
              "    }\n",
              "\n",
              "    [theme=dark] .colab-df-convert:hover {\n",
              "      background-color: #434B5C;\n",
              "      box-shadow: 0px 1px 3px 1px rgba(0, 0, 0, 0.15);\n",
              "      filter: drop-shadow(0px 1px 2px rgba(0, 0, 0, 0.3));\n",
              "      fill: #FFFFFF;\n",
              "    }\n",
              "  </style>\n",
              "\n",
              "      <script>\n",
              "        const buttonEl =\n",
              "          document.querySelector('#df-203b06d6-d106-4a3a-95b1-8a31a8461dfd button.colab-df-convert');\n",
              "        buttonEl.style.display =\n",
              "          google.colab.kernel.accessAllowed ? 'block' : 'none';\n",
              "\n",
              "        async function convertToInteractive(key) {\n",
              "          const element = document.querySelector('#df-203b06d6-d106-4a3a-95b1-8a31a8461dfd');\n",
              "          const dataTable =\n",
              "            await google.colab.kernel.invokeFunction('convertToInteractive',\n",
              "                                                     [key], {});\n",
              "          if (!dataTable) return;\n",
              "\n",
              "          const docLinkHtml = 'Like what you see? Visit the ' +\n",
              "            '<a target=\"_blank\" href=https://colab.research.google.com/notebooks/data_table.ipynb>data table notebook</a>'\n",
              "            + ' to learn more about interactive tables.';\n",
              "          element.innerHTML = '';\n",
              "          dataTable['output_type'] = 'display_data';\n",
              "          await google.colab.output.renderOutput(dataTable, element);\n",
              "          const docLink = document.createElement('div');\n",
              "          docLink.innerHTML = docLinkHtml;\n",
              "          element.appendChild(docLink);\n",
              "        }\n",
              "      </script>\n",
              "    </div>\n",
              "  </div>\n",
              "  "
            ]
          },
          "metadata": {},
          "execution_count": 12
        }
      ]
    },
    {
      "cell_type": "code",
      "source": [
        "df_z=df1[df1['price']==0] # TABLE WITH PRICE AS 0\n",
        "df_z"
      ],
      "metadata": {
        "colab": {
          "base_uri": "https://localhost:8080/",
          "height": 1000
        },
        "id": "ajSm6H4sOATf",
        "outputId": "864f55f0-8f64-41bd-ad54-aa786890d1d0"
      },
      "execution_count": null,
      "outputs": [
        {
          "output_type": "execute_result",
          "data": {
            "text/plain": [
              "             id                                               name    host_id  \\\n",
              "23161  18750597  Huge Brooklyn Brownstone Living, Close to it all.    8993084   \n",
              "25433  20333471      ★Hostel Style Room | Ideal Traveling Buddies★  131697576   \n",
              "25634  20523843    MARTIAL LOFT 3: REDEMPTION (upstairs, 2nd room)   15787004   \n",
              "25753  20608117                    Sunny, Quiet Room in Greenpoint    1641537   \n",
              "25778  20624541      Modern apartment in the heart of Williamsburg   10132166   \n",
              "25794  20639628  Spacious comfortable master bedroom with nice ...   86327101   \n",
              "25795  20639792  Contemporary bedroom in brownstone with nice view   86327101   \n",
              "25796  20639914       Cozy yet spacious private brownstone bedroom   86327101   \n",
              "26259  20933849                              the best you can find   13709292   \n",
              "26841  21291569  Coliving in Brooklyn! Modern design / Shared room  101970559   \n",
              "26866  21304320             Best Coliving space ever! Shared room.  101970559   \n",
              "\n",
              "          host_name neighbourhood_group       neighbourhood  latitude  \\\n",
              "23161      Kimberly            Brooklyn  Bedford-Stuyvesant  40.69023   \n",
              "25433        Anisha               Bronx     East Morrisania  40.83296   \n",
              "25634  Martial Loft            Brooklyn            Bushwick  40.69467   \n",
              "25753        Lauren            Brooklyn          Greenpoint  40.72462   \n",
              "25778       Aymeric            Brooklyn        Williamsburg  40.70838   \n",
              "25794       Adeyemi            Brooklyn  Bedford-Stuyvesant  40.68173   \n",
              "25795       Adeyemi            Brooklyn  Bedford-Stuyvesant  40.68279   \n",
              "25796       Adeyemi            Brooklyn  Bedford-Stuyvesant  40.68258   \n",
              "26259        Qiuchi           Manhattan         Murray Hill  40.75091   \n",
              "26841        Sergii            Brooklyn            Bushwick  40.69211   \n",
              "26866        Sergii            Brooklyn            Bushwick  40.69166   \n",
              "\n",
              "       longitude        room_type  price  minimum_nights  number_of_reviews  \\\n",
              "23161  -73.95428     Private room      0               4                  1   \n",
              "25433  -73.88668     Private room      0               2                 55   \n",
              "25634  -73.92433     Private room      0               2                 16   \n",
              "25753  -73.94072     Private room      0               2                 12   \n",
              "25778  -73.94645  Entire home/apt      0               5                  3   \n",
              "25794  -73.91342     Private room      0               1                 93   \n",
              "25795  -73.91170     Private room      0               1                 95   \n",
              "25796  -73.91284     Private room      0               1                 95   \n",
              "26259  -73.97597  Entire home/apt      0               3                  0   \n",
              "26841  -73.90670      Shared room      0              30                  2   \n",
              "26866  -73.90928      Shared room      0              30                  5   \n",
              "\n",
              "      last_review  reviews_per_month  calculated_host_listings_count  \\\n",
              "23161  2018-01-06               0.05                               4   \n",
              "25433  2019-06-24               2.56                               4   \n",
              "25634  2019-05-18               0.71                               5   \n",
              "25753  2017-10-27               0.53                               2   \n",
              "25778  2018-01-02               0.15                               1   \n",
              "25794  2019-06-15               4.28                               6   \n",
              "25795  2019-06-21               4.37                               6   \n",
              "25796  2019-06-23               4.35                               6   \n",
              "26259         NaN               0.00                               1   \n",
              "26841  2019-06-22               0.11                               6   \n",
              "26866  2019-05-24               0.26                               6   \n",
              "\n",
              "       availability_365  \n",
              "23161                28  \n",
              "25433               127  \n",
              "25634                 0  \n",
              "25753                 0  \n",
              "25778                73  \n",
              "25794               176  \n",
              "25795               232  \n",
              "25796               222  \n",
              "26259                 0  \n",
              "26841               333  \n",
              "26866               139  "
            ],
            "text/html": [
              "\n",
              "  <div id=\"df-2827a908-57e0-414c-8a5e-52e541d97c25\">\n",
              "    <div class=\"colab-df-container\">\n",
              "      <div>\n",
              "<style scoped>\n",
              "    .dataframe tbody tr th:only-of-type {\n",
              "        vertical-align: middle;\n",
              "    }\n",
              "\n",
              "    .dataframe tbody tr th {\n",
              "        vertical-align: top;\n",
              "    }\n",
              "\n",
              "    .dataframe thead th {\n",
              "        text-align: right;\n",
              "    }\n",
              "</style>\n",
              "<table border=\"1\" class=\"dataframe\">\n",
              "  <thead>\n",
              "    <tr style=\"text-align: right;\">\n",
              "      <th></th>\n",
              "      <th>id</th>\n",
              "      <th>name</th>\n",
              "      <th>host_id</th>\n",
              "      <th>host_name</th>\n",
              "      <th>neighbourhood_group</th>\n",
              "      <th>neighbourhood</th>\n",
              "      <th>latitude</th>\n",
              "      <th>longitude</th>\n",
              "      <th>room_type</th>\n",
              "      <th>price</th>\n",
              "      <th>minimum_nights</th>\n",
              "      <th>number_of_reviews</th>\n",
              "      <th>last_review</th>\n",
              "      <th>reviews_per_month</th>\n",
              "      <th>calculated_host_listings_count</th>\n",
              "      <th>availability_365</th>\n",
              "    </tr>\n",
              "  </thead>\n",
              "  <tbody>\n",
              "    <tr>\n",
              "      <th>23161</th>\n",
              "      <td>18750597</td>\n",
              "      <td>Huge Brooklyn Brownstone Living, Close to it all.</td>\n",
              "      <td>8993084</td>\n",
              "      <td>Kimberly</td>\n",
              "      <td>Brooklyn</td>\n",
              "      <td>Bedford-Stuyvesant</td>\n",
              "      <td>40.69023</td>\n",
              "      <td>-73.95428</td>\n",
              "      <td>Private room</td>\n",
              "      <td>0</td>\n",
              "      <td>4</td>\n",
              "      <td>1</td>\n",
              "      <td>2018-01-06</td>\n",
              "      <td>0.05</td>\n",
              "      <td>4</td>\n",
              "      <td>28</td>\n",
              "    </tr>\n",
              "    <tr>\n",
              "      <th>25433</th>\n",
              "      <td>20333471</td>\n",
              "      <td>★Hostel Style Room | Ideal Traveling Buddies★</td>\n",
              "      <td>131697576</td>\n",
              "      <td>Anisha</td>\n",
              "      <td>Bronx</td>\n",
              "      <td>East Morrisania</td>\n",
              "      <td>40.83296</td>\n",
              "      <td>-73.88668</td>\n",
              "      <td>Private room</td>\n",
              "      <td>0</td>\n",
              "      <td>2</td>\n",
              "      <td>55</td>\n",
              "      <td>2019-06-24</td>\n",
              "      <td>2.56</td>\n",
              "      <td>4</td>\n",
              "      <td>127</td>\n",
              "    </tr>\n",
              "    <tr>\n",
              "      <th>25634</th>\n",
              "      <td>20523843</td>\n",
              "      <td>MARTIAL LOFT 3: REDEMPTION (upstairs, 2nd room)</td>\n",
              "      <td>15787004</td>\n",
              "      <td>Martial Loft</td>\n",
              "      <td>Brooklyn</td>\n",
              "      <td>Bushwick</td>\n",
              "      <td>40.69467</td>\n",
              "      <td>-73.92433</td>\n",
              "      <td>Private room</td>\n",
              "      <td>0</td>\n",
              "      <td>2</td>\n",
              "      <td>16</td>\n",
              "      <td>2019-05-18</td>\n",
              "      <td>0.71</td>\n",
              "      <td>5</td>\n",
              "      <td>0</td>\n",
              "    </tr>\n",
              "    <tr>\n",
              "      <th>25753</th>\n",
              "      <td>20608117</td>\n",
              "      <td>Sunny, Quiet Room in Greenpoint</td>\n",
              "      <td>1641537</td>\n",
              "      <td>Lauren</td>\n",
              "      <td>Brooklyn</td>\n",
              "      <td>Greenpoint</td>\n",
              "      <td>40.72462</td>\n",
              "      <td>-73.94072</td>\n",
              "      <td>Private room</td>\n",
              "      <td>0</td>\n",
              "      <td>2</td>\n",
              "      <td>12</td>\n",
              "      <td>2017-10-27</td>\n",
              "      <td>0.53</td>\n",
              "      <td>2</td>\n",
              "      <td>0</td>\n",
              "    </tr>\n",
              "    <tr>\n",
              "      <th>25778</th>\n",
              "      <td>20624541</td>\n",
              "      <td>Modern apartment in the heart of Williamsburg</td>\n",
              "      <td>10132166</td>\n",
              "      <td>Aymeric</td>\n",
              "      <td>Brooklyn</td>\n",
              "      <td>Williamsburg</td>\n",
              "      <td>40.70838</td>\n",
              "      <td>-73.94645</td>\n",
              "      <td>Entire home/apt</td>\n",
              "      <td>0</td>\n",
              "      <td>5</td>\n",
              "      <td>3</td>\n",
              "      <td>2018-01-02</td>\n",
              "      <td>0.15</td>\n",
              "      <td>1</td>\n",
              "      <td>73</td>\n",
              "    </tr>\n",
              "    <tr>\n",
              "      <th>25794</th>\n",
              "      <td>20639628</td>\n",
              "      <td>Spacious comfortable master bedroom with nice ...</td>\n",
              "      <td>86327101</td>\n",
              "      <td>Adeyemi</td>\n",
              "      <td>Brooklyn</td>\n",
              "      <td>Bedford-Stuyvesant</td>\n",
              "      <td>40.68173</td>\n",
              "      <td>-73.91342</td>\n",
              "      <td>Private room</td>\n",
              "      <td>0</td>\n",
              "      <td>1</td>\n",
              "      <td>93</td>\n",
              "      <td>2019-06-15</td>\n",
              "      <td>4.28</td>\n",
              "      <td>6</td>\n",
              "      <td>176</td>\n",
              "    </tr>\n",
              "    <tr>\n",
              "      <th>25795</th>\n",
              "      <td>20639792</td>\n",
              "      <td>Contemporary bedroom in brownstone with nice view</td>\n",
              "      <td>86327101</td>\n",
              "      <td>Adeyemi</td>\n",
              "      <td>Brooklyn</td>\n",
              "      <td>Bedford-Stuyvesant</td>\n",
              "      <td>40.68279</td>\n",
              "      <td>-73.91170</td>\n",
              "      <td>Private room</td>\n",
              "      <td>0</td>\n",
              "      <td>1</td>\n",
              "      <td>95</td>\n",
              "      <td>2019-06-21</td>\n",
              "      <td>4.37</td>\n",
              "      <td>6</td>\n",
              "      <td>232</td>\n",
              "    </tr>\n",
              "    <tr>\n",
              "      <th>25796</th>\n",
              "      <td>20639914</td>\n",
              "      <td>Cozy yet spacious private brownstone bedroom</td>\n",
              "      <td>86327101</td>\n",
              "      <td>Adeyemi</td>\n",
              "      <td>Brooklyn</td>\n",
              "      <td>Bedford-Stuyvesant</td>\n",
              "      <td>40.68258</td>\n",
              "      <td>-73.91284</td>\n",
              "      <td>Private room</td>\n",
              "      <td>0</td>\n",
              "      <td>1</td>\n",
              "      <td>95</td>\n",
              "      <td>2019-06-23</td>\n",
              "      <td>4.35</td>\n",
              "      <td>6</td>\n",
              "      <td>222</td>\n",
              "    </tr>\n",
              "    <tr>\n",
              "      <th>26259</th>\n",
              "      <td>20933849</td>\n",
              "      <td>the best you can find</td>\n",
              "      <td>13709292</td>\n",
              "      <td>Qiuchi</td>\n",
              "      <td>Manhattan</td>\n",
              "      <td>Murray Hill</td>\n",
              "      <td>40.75091</td>\n",
              "      <td>-73.97597</td>\n",
              "      <td>Entire home/apt</td>\n",
              "      <td>0</td>\n",
              "      <td>3</td>\n",
              "      <td>0</td>\n",
              "      <td>NaN</td>\n",
              "      <td>0.00</td>\n",
              "      <td>1</td>\n",
              "      <td>0</td>\n",
              "    </tr>\n",
              "    <tr>\n",
              "      <th>26841</th>\n",
              "      <td>21291569</td>\n",
              "      <td>Coliving in Brooklyn! Modern design / Shared room</td>\n",
              "      <td>101970559</td>\n",
              "      <td>Sergii</td>\n",
              "      <td>Brooklyn</td>\n",
              "      <td>Bushwick</td>\n",
              "      <td>40.69211</td>\n",
              "      <td>-73.90670</td>\n",
              "      <td>Shared room</td>\n",
              "      <td>0</td>\n",
              "      <td>30</td>\n",
              "      <td>2</td>\n",
              "      <td>2019-06-22</td>\n",
              "      <td>0.11</td>\n",
              "      <td>6</td>\n",
              "      <td>333</td>\n",
              "    </tr>\n",
              "    <tr>\n",
              "      <th>26866</th>\n",
              "      <td>21304320</td>\n",
              "      <td>Best Coliving space ever! Shared room.</td>\n",
              "      <td>101970559</td>\n",
              "      <td>Sergii</td>\n",
              "      <td>Brooklyn</td>\n",
              "      <td>Bushwick</td>\n",
              "      <td>40.69166</td>\n",
              "      <td>-73.90928</td>\n",
              "      <td>Shared room</td>\n",
              "      <td>0</td>\n",
              "      <td>30</td>\n",
              "      <td>5</td>\n",
              "      <td>2019-05-24</td>\n",
              "      <td>0.26</td>\n",
              "      <td>6</td>\n",
              "      <td>139</td>\n",
              "    </tr>\n",
              "  </tbody>\n",
              "</table>\n",
              "</div>\n",
              "      <button class=\"colab-df-convert\" onclick=\"convertToInteractive('df-2827a908-57e0-414c-8a5e-52e541d97c25')\"\n",
              "              title=\"Convert this dataframe to an interactive table.\"\n",
              "              style=\"display:none;\">\n",
              "        \n",
              "  <svg xmlns=\"http://www.w3.org/2000/svg\" height=\"24px\"viewBox=\"0 0 24 24\"\n",
              "       width=\"24px\">\n",
              "    <path d=\"M0 0h24v24H0V0z\" fill=\"none\"/>\n",
              "    <path d=\"M18.56 5.44l.94 2.06.94-2.06 2.06-.94-2.06-.94-.94-2.06-.94 2.06-2.06.94zm-11 1L8.5 8.5l.94-2.06 2.06-.94-2.06-.94L8.5 2.5l-.94 2.06-2.06.94zm10 10l.94 2.06.94-2.06 2.06-.94-2.06-.94-.94-2.06-.94 2.06-2.06.94z\"/><path d=\"M17.41 7.96l-1.37-1.37c-.4-.4-.92-.59-1.43-.59-.52 0-1.04.2-1.43.59L10.3 9.45l-7.72 7.72c-.78.78-.78 2.05 0 2.83L4 21.41c.39.39.9.59 1.41.59.51 0 1.02-.2 1.41-.59l7.78-7.78 2.81-2.81c.8-.78.8-2.07 0-2.86zM5.41 20L4 18.59l7.72-7.72 1.47 1.35L5.41 20z\"/>\n",
              "  </svg>\n",
              "      </button>\n",
              "      \n",
              "  <style>\n",
              "    .colab-df-container {\n",
              "      display:flex;\n",
              "      flex-wrap:wrap;\n",
              "      gap: 12px;\n",
              "    }\n",
              "\n",
              "    .colab-df-convert {\n",
              "      background-color: #E8F0FE;\n",
              "      border: none;\n",
              "      border-radius: 50%;\n",
              "      cursor: pointer;\n",
              "      display: none;\n",
              "      fill: #1967D2;\n",
              "      height: 32px;\n",
              "      padding: 0 0 0 0;\n",
              "      width: 32px;\n",
              "    }\n",
              "\n",
              "    .colab-df-convert:hover {\n",
              "      background-color: #E2EBFA;\n",
              "      box-shadow: 0px 1px 2px rgba(60, 64, 67, 0.3), 0px 1px 3px 1px rgba(60, 64, 67, 0.15);\n",
              "      fill: #174EA6;\n",
              "    }\n",
              "\n",
              "    [theme=dark] .colab-df-convert {\n",
              "      background-color: #3B4455;\n",
              "      fill: #D2E3FC;\n",
              "    }\n",
              "\n",
              "    [theme=dark] .colab-df-convert:hover {\n",
              "      background-color: #434B5C;\n",
              "      box-shadow: 0px 1px 3px 1px rgba(0, 0, 0, 0.15);\n",
              "      filter: drop-shadow(0px 1px 2px rgba(0, 0, 0, 0.3));\n",
              "      fill: #FFFFFF;\n",
              "    }\n",
              "  </style>\n",
              "\n",
              "      <script>\n",
              "        const buttonEl =\n",
              "          document.querySelector('#df-2827a908-57e0-414c-8a5e-52e541d97c25 button.colab-df-convert');\n",
              "        buttonEl.style.display =\n",
              "          google.colab.kernel.accessAllowed ? 'block' : 'none';\n",
              "\n",
              "        async function convertToInteractive(key) {\n",
              "          const element = document.querySelector('#df-2827a908-57e0-414c-8a5e-52e541d97c25');\n",
              "          const dataTable =\n",
              "            await google.colab.kernel.invokeFunction('convertToInteractive',\n",
              "                                                     [key], {});\n",
              "          if (!dataTable) return;\n",
              "\n",
              "          const docLinkHtml = 'Like what you see? Visit the ' +\n",
              "            '<a target=\"_blank\" href=https://colab.research.google.com/notebooks/data_table.ipynb>data table notebook</a>'\n",
              "            + ' to learn more about interactive tables.';\n",
              "          element.innerHTML = '';\n",
              "          dataTable['output_type'] = 'display_data';\n",
              "          await google.colab.output.renderOutput(dataTable, element);\n",
              "          const docLink = document.createElement('div');\n",
              "          docLink.innerHTML = docLinkHtml;\n",
              "          element.appendChild(docLink);\n",
              "        }\n",
              "      </script>\n",
              "    </div>\n",
              "  </div>\n",
              "  "
            ]
          },
          "metadata": {},
          "execution_count": 13
        }
      ]
    },
    {
      "cell_type": "code",
      "source": [
        "\n",
        "for i,x in df_z.iterrows():\n",
        "  print(x.neighbourhood_group,x.room_type)\n",
        "  for j,r in new.iterrows():\n",
        "    print(r.neighbourhood_group,r.room_type,r.price)"
      ],
      "metadata": {
        "colab": {
          "base_uri": "https://localhost:8080/"
        },
        "id": "C1tmi116EjQy",
        "outputId": "79381952-cdc3-408d-fdbc-87d6cef9c11a"
      },
      "execution_count": null,
      "outputs": [
        {
          "output_type": "stream",
          "name": "stdout",
          "text": [
            "Brooklyn Private room\n",
            "['Bronx'] ['Entire home/apt'] 127.5065963060686\n",
            "['Bronx'] ['Private room'] 66.78834355828221\n",
            "['Bronx'] ['Shared room'] 59.8\n",
            "['Brooklyn'] ['Entire home/apt'] 178.32754472225128\n",
            "['Brooklyn'] ['Private room'] 76.500098697197\n",
            "['Brooklyn'] ['Shared room'] 50.52784503631961\n",
            "['Manhattan'] ['Entire home/apt'] 249.23910902341086\n",
            "['Manhattan'] ['Private room'] 116.7766224004009\n",
            "['Manhattan'] ['Shared room'] 88.97708333333334\n",
            "['Queens'] ['Entire home/apt'] 147.05057251908397\n",
            "['Queens'] ['Private room'] 71.76245551601423\n",
            "['Queens'] ['Shared room'] 69.02020202020202\n",
            "['Staten Island'] ['Entire home/apt'] 173.8465909090909\n",
            "['Staten Island'] ['Private room'] 62.29255319148936\n",
            "['Staten Island'] ['Shared room'] 57.44444444444444\n",
            "Bronx Private room\n",
            "['Bronx'] ['Entire home/apt'] 127.5065963060686\n",
            "['Bronx'] ['Private room'] 66.78834355828221\n",
            "['Bronx'] ['Shared room'] 59.8\n",
            "['Brooklyn'] ['Entire home/apt'] 178.32754472225128\n",
            "['Brooklyn'] ['Private room'] 76.500098697197\n",
            "['Brooklyn'] ['Shared room'] 50.52784503631961\n",
            "['Manhattan'] ['Entire home/apt'] 249.23910902341086\n",
            "['Manhattan'] ['Private room'] 116.7766224004009\n",
            "['Manhattan'] ['Shared room'] 88.97708333333334\n",
            "['Queens'] ['Entire home/apt'] 147.05057251908397\n",
            "['Queens'] ['Private room'] 71.76245551601423\n",
            "['Queens'] ['Shared room'] 69.02020202020202\n",
            "['Staten Island'] ['Entire home/apt'] 173.8465909090909\n",
            "['Staten Island'] ['Private room'] 62.29255319148936\n",
            "['Staten Island'] ['Shared room'] 57.44444444444444\n",
            "Brooklyn Private room\n",
            "['Bronx'] ['Entire home/apt'] 127.5065963060686\n",
            "['Bronx'] ['Private room'] 66.78834355828221\n",
            "['Bronx'] ['Shared room'] 59.8\n",
            "['Brooklyn'] ['Entire home/apt'] 178.32754472225128\n",
            "['Brooklyn'] ['Private room'] 76.500098697197\n",
            "['Brooklyn'] ['Shared room'] 50.52784503631961\n",
            "['Manhattan'] ['Entire home/apt'] 249.23910902341086\n",
            "['Manhattan'] ['Private room'] 116.7766224004009\n",
            "['Manhattan'] ['Shared room'] 88.97708333333334\n",
            "['Queens'] ['Entire home/apt'] 147.05057251908397\n",
            "['Queens'] ['Private room'] 71.76245551601423\n",
            "['Queens'] ['Shared room'] 69.02020202020202\n",
            "['Staten Island'] ['Entire home/apt'] 173.8465909090909\n",
            "['Staten Island'] ['Private room'] 62.29255319148936\n",
            "['Staten Island'] ['Shared room'] 57.44444444444444\n",
            "Brooklyn Private room\n",
            "['Bronx'] ['Entire home/apt'] 127.5065963060686\n",
            "['Bronx'] ['Private room'] 66.78834355828221\n",
            "['Bronx'] ['Shared room'] 59.8\n",
            "['Brooklyn'] ['Entire home/apt'] 178.32754472225128\n",
            "['Brooklyn'] ['Private room'] 76.500098697197\n",
            "['Brooklyn'] ['Shared room'] 50.52784503631961\n",
            "['Manhattan'] ['Entire home/apt'] 249.23910902341086\n",
            "['Manhattan'] ['Private room'] 116.7766224004009\n",
            "['Manhattan'] ['Shared room'] 88.97708333333334\n",
            "['Queens'] ['Entire home/apt'] 147.05057251908397\n",
            "['Queens'] ['Private room'] 71.76245551601423\n",
            "['Queens'] ['Shared room'] 69.02020202020202\n",
            "['Staten Island'] ['Entire home/apt'] 173.8465909090909\n",
            "['Staten Island'] ['Private room'] 62.29255319148936\n",
            "['Staten Island'] ['Shared room'] 57.44444444444444\n",
            "Brooklyn Entire home/apt\n",
            "['Bronx'] ['Entire home/apt'] 127.5065963060686\n",
            "['Bronx'] ['Private room'] 66.78834355828221\n",
            "['Bronx'] ['Shared room'] 59.8\n",
            "['Brooklyn'] ['Entire home/apt'] 178.32754472225128\n",
            "['Brooklyn'] ['Private room'] 76.500098697197\n",
            "['Brooklyn'] ['Shared room'] 50.52784503631961\n",
            "['Manhattan'] ['Entire home/apt'] 249.23910902341086\n",
            "['Manhattan'] ['Private room'] 116.7766224004009\n",
            "['Manhattan'] ['Shared room'] 88.97708333333334\n",
            "['Queens'] ['Entire home/apt'] 147.05057251908397\n",
            "['Queens'] ['Private room'] 71.76245551601423\n",
            "['Queens'] ['Shared room'] 69.02020202020202\n",
            "['Staten Island'] ['Entire home/apt'] 173.8465909090909\n",
            "['Staten Island'] ['Private room'] 62.29255319148936\n",
            "['Staten Island'] ['Shared room'] 57.44444444444444\n",
            "Brooklyn Private room\n",
            "['Bronx'] ['Entire home/apt'] 127.5065963060686\n",
            "['Bronx'] ['Private room'] 66.78834355828221\n",
            "['Bronx'] ['Shared room'] 59.8\n",
            "['Brooklyn'] ['Entire home/apt'] 178.32754472225128\n",
            "['Brooklyn'] ['Private room'] 76.500098697197\n",
            "['Brooklyn'] ['Shared room'] 50.52784503631961\n",
            "['Manhattan'] ['Entire home/apt'] 249.23910902341086\n",
            "['Manhattan'] ['Private room'] 116.7766224004009\n",
            "['Manhattan'] ['Shared room'] 88.97708333333334\n",
            "['Queens'] ['Entire home/apt'] 147.05057251908397\n",
            "['Queens'] ['Private room'] 71.76245551601423\n",
            "['Queens'] ['Shared room'] 69.02020202020202\n",
            "['Staten Island'] ['Entire home/apt'] 173.8465909090909\n",
            "['Staten Island'] ['Private room'] 62.29255319148936\n",
            "['Staten Island'] ['Shared room'] 57.44444444444444\n",
            "Brooklyn Private room\n",
            "['Bronx'] ['Entire home/apt'] 127.5065963060686\n",
            "['Bronx'] ['Private room'] 66.78834355828221\n",
            "['Bronx'] ['Shared room'] 59.8\n",
            "['Brooklyn'] ['Entire home/apt'] 178.32754472225128\n",
            "['Brooklyn'] ['Private room'] 76.500098697197\n",
            "['Brooklyn'] ['Shared room'] 50.52784503631961\n",
            "['Manhattan'] ['Entire home/apt'] 249.23910902341086\n",
            "['Manhattan'] ['Private room'] 116.7766224004009\n",
            "['Manhattan'] ['Shared room'] 88.97708333333334\n",
            "['Queens'] ['Entire home/apt'] 147.05057251908397\n",
            "['Queens'] ['Private room'] 71.76245551601423\n",
            "['Queens'] ['Shared room'] 69.02020202020202\n",
            "['Staten Island'] ['Entire home/apt'] 173.8465909090909\n",
            "['Staten Island'] ['Private room'] 62.29255319148936\n",
            "['Staten Island'] ['Shared room'] 57.44444444444444\n",
            "Brooklyn Private room\n",
            "['Bronx'] ['Entire home/apt'] 127.5065963060686\n",
            "['Bronx'] ['Private room'] 66.78834355828221\n",
            "['Bronx'] ['Shared room'] 59.8\n",
            "['Brooklyn'] ['Entire home/apt'] 178.32754472225128\n",
            "['Brooklyn'] ['Private room'] 76.500098697197\n",
            "['Brooklyn'] ['Shared room'] 50.52784503631961\n",
            "['Manhattan'] ['Entire home/apt'] 249.23910902341086\n",
            "['Manhattan'] ['Private room'] 116.7766224004009\n",
            "['Manhattan'] ['Shared room'] 88.97708333333334\n",
            "['Queens'] ['Entire home/apt'] 147.05057251908397\n",
            "['Queens'] ['Private room'] 71.76245551601423\n",
            "['Queens'] ['Shared room'] 69.02020202020202\n",
            "['Staten Island'] ['Entire home/apt'] 173.8465909090909\n",
            "['Staten Island'] ['Private room'] 62.29255319148936\n",
            "['Staten Island'] ['Shared room'] 57.44444444444444\n",
            "Manhattan Entire home/apt\n",
            "['Bronx'] ['Entire home/apt'] 127.5065963060686\n",
            "['Bronx'] ['Private room'] 66.78834355828221\n",
            "['Bronx'] ['Shared room'] 59.8\n",
            "['Brooklyn'] ['Entire home/apt'] 178.32754472225128\n",
            "['Brooklyn'] ['Private room'] 76.500098697197\n",
            "['Brooklyn'] ['Shared room'] 50.52784503631961\n",
            "['Manhattan'] ['Entire home/apt'] 249.23910902341086\n",
            "['Manhattan'] ['Private room'] 116.7766224004009\n",
            "['Manhattan'] ['Shared room'] 88.97708333333334\n",
            "['Queens'] ['Entire home/apt'] 147.05057251908397\n",
            "['Queens'] ['Private room'] 71.76245551601423\n",
            "['Queens'] ['Shared room'] 69.02020202020202\n",
            "['Staten Island'] ['Entire home/apt'] 173.8465909090909\n",
            "['Staten Island'] ['Private room'] 62.29255319148936\n",
            "['Staten Island'] ['Shared room'] 57.44444444444444\n",
            "Brooklyn Shared room\n",
            "['Bronx'] ['Entire home/apt'] 127.5065963060686\n",
            "['Bronx'] ['Private room'] 66.78834355828221\n",
            "['Bronx'] ['Shared room'] 59.8\n",
            "['Brooklyn'] ['Entire home/apt'] 178.32754472225128\n",
            "['Brooklyn'] ['Private room'] 76.500098697197\n",
            "['Brooklyn'] ['Shared room'] 50.52784503631961\n",
            "['Manhattan'] ['Entire home/apt'] 249.23910902341086\n",
            "['Manhattan'] ['Private room'] 116.7766224004009\n",
            "['Manhattan'] ['Shared room'] 88.97708333333334\n",
            "['Queens'] ['Entire home/apt'] 147.05057251908397\n",
            "['Queens'] ['Private room'] 71.76245551601423\n",
            "['Queens'] ['Shared room'] 69.02020202020202\n",
            "['Staten Island'] ['Entire home/apt'] 173.8465909090909\n",
            "['Staten Island'] ['Private room'] 62.29255319148936\n",
            "['Staten Island'] ['Shared room'] 57.44444444444444\n",
            "Brooklyn Shared room\n",
            "['Bronx'] ['Entire home/apt'] 127.5065963060686\n",
            "['Bronx'] ['Private room'] 66.78834355828221\n",
            "['Bronx'] ['Shared room'] 59.8\n",
            "['Brooklyn'] ['Entire home/apt'] 178.32754472225128\n",
            "['Brooklyn'] ['Private room'] 76.500098697197\n",
            "['Brooklyn'] ['Shared room'] 50.52784503631961\n",
            "['Manhattan'] ['Entire home/apt'] 249.23910902341086\n",
            "['Manhattan'] ['Private room'] 116.7766224004009\n",
            "['Manhattan'] ['Shared room'] 88.97708333333334\n",
            "['Queens'] ['Entire home/apt'] 147.05057251908397\n",
            "['Queens'] ['Private room'] 71.76245551601423\n",
            "['Queens'] ['Shared room'] 69.02020202020202\n",
            "['Staten Island'] ['Entire home/apt'] 173.8465909090909\n",
            "['Staten Island'] ['Private room'] 62.29255319148936\n",
            "['Staten Island'] ['Shared room'] 57.44444444444444\n"
          ]
        }
      ]
    },
    {
      "cell_type": "code",
      "source": [
        "#Replace 0 with mean value\n",
        "for index, row in df2.iterrows():\n",
        "    if row['price']==0:\n",
        "      for i,r in new.iterrows():\n",
        "        if row['neighbourhood_group']==r['neighbourhood_group'] and row['room_type']==r['room_type']:\n",
        "          #row['price']=r['price']\n",
        "          df2.replace(row['price'],r['price'],inplace=True)\n",
        "#Worked"
      ],
      "metadata": {
        "id": "v2ZTJI-n9aKF"
      },
      "execution_count": null,
      "outputs": []
    },
    {
      "cell_type": "code",
      "source": [
        "print(df2['price']==0)#Checking if 0 still present"
      ],
      "metadata": {
        "colab": {
          "base_uri": "https://localhost:8080/"
        },
        "id": "qASMaygt9ckl",
        "outputId": "31c37748-c21c-4dce-8061-787a327ef194"
      },
      "execution_count": null,
      "outputs": [
        {
          "output_type": "stream",
          "name": "stdout",
          "text": [
            "0        False\n",
            "1        False\n",
            "2        False\n",
            "3        False\n",
            "4        False\n",
            "         ...  \n",
            "48890    False\n",
            "48891    False\n",
            "48892    False\n",
            "48893    False\n",
            "48894    False\n",
            "Name: price, Length: 48895, dtype: bool\n"
          ]
        }
      ]
    },
    {
      "cell_type": "code",
      "source": [
        "print(\"Before Updating price:\",df1.loc[23161].price)\n",
        "print(\"After Updating price:\",df2.loc[23161].price)"
      ],
      "metadata": {
        "colab": {
          "base_uri": "https://localhost:8080/"
        },
        "id": "XB-XQvYU_yy2",
        "outputId": "264676f6-2ce5-4af0-aede-b2663cab52f3"
      },
      "execution_count": null,
      "outputs": [
        {
          "output_type": "stream",
          "name": "stdout",
          "text": [
            "Before Updating price: 0\n",
            "After Updating price: 76.500098697197\n"
          ]
        }
      ]
    },
    {
      "cell_type": "markdown",
      "source": [
        "**1. About Host and Area**"
      ],
      "metadata": {
        "id": "hS3ViEiIvVKk"
      }
    },
    {
      "cell_type": "code",
      "source": [
        "df1['host_name'].nunique() #11452 Hosts are present in the data"
      ],
      "metadata": {
        "colab": {
          "base_uri": "https://localhost:8080/"
        },
        "id": "sACUvcm_tUUR",
        "outputId": "c5f81ea8-29b4-4165-e7ad-12e4e142eb64"
      },
      "execution_count": null,
      "outputs": [
        {
          "output_type": "execute_result",
          "data": {
            "text/plain": [
              "11452"
            ]
          },
          "metadata": {},
          "execution_count": 18
        }
      ]
    },
    {
      "cell_type": "code",
      "source": [
        "h=df1['host_name'].value_counts()\n",
        "plt.figure(figsize=(12,6))\n",
        "h[0:10].plot.bar()"
      ],
      "metadata": {
        "colab": {
          "base_uri": "https://localhost:8080/",
          "height": 447
        },
        "id": "inDc0C5TA_8y",
        "outputId": "ddcca567-f4c2-4006-b431-00735a12985a"
      },
      "execution_count": null,
      "outputs": [
        {
          "output_type": "execute_result",
          "data": {
            "text/plain": [
              "<matplotlib.axes._subplots.AxesSubplot at 0x7f9bea55ffd0>"
            ]
          },
          "metadata": {},
          "execution_count": 19
        },
        {
          "output_type": "display_data",
          "data": {
            "text/plain": [
              "<Figure size 864x432 with 1 Axes>"
            ],
            "image/png": "[encoded data removed]"
          },
          "metadata": {
            "needs_background": "light"
          }
        }
      ]
    },
    {
      "cell_type": "markdown",
      "source": [
        "THESE ARE THE NAME OF THE TOP 10 HOST"
      ],
      "metadata": {
        "id": "jCb12sPIuf4R"
      }
    },
    {
      "cell_type": "code",
      "source": [
        "df1.loc[df1['host_name'] == 'Michael', 'neighbourhood_group'].unique()  # Host name with Michael provides the maximum number of Rooms in different neighbour group"
      ],
      "metadata": {
        "colab": {
          "base_uri": "https://localhost:8080/"
        },
        "id": "KVM7YYeKz0HI",
        "outputId": "8a630c90-7b23-4384-894f-88cc71461ab7"
      },
      "execution_count": null,
      "outputs": [
        {
          "output_type": "execute_result",
          "data": {
            "text/plain": [
              "array(['Brooklyn', 'Manhattan', 'Queens', 'Bronx', 'Staten Island'],\n",
              "      dtype=object)"
            ]
          },
          "metadata": {},
          "execution_count": 20
        }
      ]
    },
    {
      "cell_type": "code",
      "source": [
        "count=df1.neighbourhood_group.value_counts()\n",
        "count"
      ],
      "metadata": {
        "colab": {
          "base_uri": "https://localhost:8080/"
        },
        "id": "_bjrllnovDW-",
        "outputId": "bf9e7832-f41d-4c94-8dec-8ac814bbfe56"
      },
      "execution_count": null,
      "outputs": [
        {
          "output_type": "execute_result",
          "data": {
            "text/plain": [
              "Manhattan        21661\n",
              "Brooklyn         20104\n",
              "Queens            5666\n",
              "Bronx             1091\n",
              "Staten Island      373\n",
              "Name: neighbourhood_group, dtype: int64"
            ]
          },
          "metadata": {},
          "execution_count": 21
        }
      ]
    },
    {
      "cell_type": "code",
      "source": [
        "count.plot(kind=\"pie\",autopct='%0.1f%%')"
      ],
      "metadata": {
        "colab": {
          "base_uri": "https://localhost:8080/",
          "height": 265
        },
        "id": "TsWN40z2xAoz",
        "outputId": "d627eacf-96c3-4e3c-a156-62293d64adee"
      },
      "execution_count": null,
      "outputs": [
        {
          "output_type": "execute_result",
          "data": {
            "text/plain": [
              "<matplotlib.axes._subplots.AxesSubplot at 0x7f9beadee390>"
            ]
          },
          "metadata": {},
          "execution_count": 22
        },
        {
          "output_type": "display_data",
          "data": {
            "text/plain": [
              "<Figure size 432x288 with 1 Axes>"
            ],
            "image/png": "[encoded data removed]"
          },
          "metadata": {}
        }
      ]
    },
    {
      "cell_type": "code",
      "source": [
        "plt.figure(figsize=(12,5))\n",
        "count.plot.bar()"
      ],
      "metadata": {
        "colab": {
          "base_uri": "https://localhost:8080/",
          "height": 392
        },
        "id": "E9TOMDcmr-ka",
        "outputId": "8cb9c6c1-c040-4628-be5d-9b970c63db10"
      },
      "execution_count": null,
      "outputs": [
        {
          "output_type": "execute_result",
          "data": {
            "text/plain": [
              "<matplotlib.axes._subplots.AxesSubplot at 0x7f9be9fa1410>"
            ]
          },
          "metadata": {},
          "execution_count": 23
        },
        {
          "output_type": "display_data",
          "data": {
            "text/plain": [
              "<Figure size 864x360 with 1 Axes>"
            ],
            "image/png": "[encoded data removed]"
          },
          "metadata": {
            "needs_background": "light"
          }
        }
      ]
    },
    {
      "cell_type": "markdown",
      "source": [
        "THE ABOVE GRAPHICAL REPRESENTATIONS SHOW THAT THE HIGHEST NUMBER OF HOSTS ARE FROM MANHATTAN FOLLWED BY BROOKLY AND ETC. \n",
        "THE LEAST NUMBER OF HOSTS ARE FROM STATEN ISLAND"
      ],
      "metadata": {
        "id": "dacSG3w7xo5n"
      }
    },
    {
      "cell_type": "code",
      "source": [],
      "metadata": {
        "id": "mF3eV_pImkP4"
      },
      "execution_count": null,
      "outputs": []
    },
    {
      "cell_type": "markdown",
      "source": [
        "**2.What can we learn from predictions? (ex: locations, prices, reviews, etc)**"
      ],
      "metadata": {
        "id": "63CGIKmOzA3b"
      }
    },
    {
      "cell_type": "markdown",
      "source": [
        "Price and Availability"
      ],
      "metadata": {
        "id": "e7Z-NqGoNfEU"
      }
    },
    {
      "cell_type": "code",
      "source": [
        "df1['minimum_price']=df1['minimum_nights']*df1['price']\n",
        "df1[['minimum_price']].describe()\n",
        "df2=df1.query('minimum_price == 0')\n",
        "df2.shape[0]  #There are 11 rows with minimum price as 0\n",
        "df3=df1.groupby(['neighbourhood_group']).agg({'price':'mean','availability_365':'mean'})#Mean price and mean availability of each neighbourhood group\n",
        "plt.figure(figsize=(10,5))\n",
        "df3.plot.bar()"
      ],
      "metadata": {
        "colab": {
          "base_uri": "https://localhost:8080/",
          "height": 371
        },
        "id": "6dJgcguCzF5y",
        "outputId": "b1aef0ff-3770-47c2-8760-b0ad32d64600"
      },
      "execution_count": null,
      "outputs": [
        {
          "output_type": "execute_result",
          "data": {
            "text/plain": [
              "<matplotlib.axes._subplots.AxesSubplot at 0x7f9be9f44210>"
            ]
          },
          "metadata": {},
          "execution_count": 24
        },
        {
          "output_type": "display_data",
          "data": {
            "text/plain": [
              "<Figure size 720x360 with 0 Axes>"
            ]
          },
          "metadata": {}
        },
        {
          "output_type": "display_data",
          "data": {
            "text/plain": [
              "<Figure size 432x288 with 1 Axes>"
            ],
            "image/png": "[encoded data removed]"
          },
          "metadata": {
            "needs_background": "light"
          }
        }
      ]
    },
    {
      "cell_type": "markdown",
      "source": [
        "**SO ACCORDING TO THE GRAPH ABOVE, THE AVERAGE PRICE AND AVERAGE AVAILABILITY IN *BRONX*,*QUEENS* AND *STATEN* *ISLAND* SUITED BEST FOR A CUSTOMER WHEREAS IN *BROOKLY* THE AVERAGE PRICE IS MORE AND AVERAGE AVAILABILTY IS THE LEAST AND IN *MANHATTAN* THE AVERAGE PRICE IS THE HIGHEST AND AVERAGE AVAILABILITY IS THE SECOND LEAST**"
      ],
      "metadata": {
        "id": "X8SSxsDxHRMO"
      }
    },
    {
      "cell_type": "markdown",
      "source": [
        "Reviews Analysis"
      ],
      "metadata": {
        "id": "0XfY69IgNxc7"
      }
    },
    {
      "cell_type": "code",
      "source": [
        "rev=df1.groupby(['neighbourhood_group']).agg({'reviews_per_month':\"mean\"})\n",
        "rev1=rev.sort_values('reviews_per_month', ascending=False)\n",
        "fig=plt.figure(figsize=(10,5))\n",
        "plt.title(\"Average Reviews Per Month\")\n",
        "plt.plot(rev)\n",
        "plt.title(\"Average price\")"
      ],
      "metadata": {
        "colab": {
          "base_uri": "https://localhost:8080/",
          "height": 353
        },
        "id": "ac9rc2TwER-H",
        "outputId": "9d6dcda1-020f-4b9a-8afb-7e86aa05e2a5"
      },
      "execution_count": null,
      "outputs": [
        {
          "output_type": "execute_result",
          "data": {
            "text/plain": [
              "Text(0.5, 1.0, 'Average price')"
            ]
          },
          "metadata": {},
          "execution_count": 25
        },
        {
          "output_type": "display_data",
          "data": {
            "text/plain": [
              "<Figure size 720x360 with 1 Axes>"
            ],
            "image/png": "[encoded data removed]"
          },
          "metadata": {
            "needs_background": "light"
          }
        }
      ]
    },
    {
      "cell_type": "code",
      "source": [
        "rev1"
      ],
      "metadata": {
        "colab": {
          "base_uri": "https://localhost:8080/",
          "height": 238
        },
        "id": "A9RggjFQMv48",
        "outputId": "3a21a9dc-2135-4283-9d38-e7eb93397fa6"
      },
      "execution_count": null,
      "outputs": [
        {
          "output_type": "execute_result",
          "data": {
            "text/plain": [
              "                     reviews_per_month\n",
              "neighbourhood_group                   \n",
              "Staten Island                 1.576381\n",
              "Queens                        1.567076\n",
              "Bronx                         1.475655\n",
              "Brooklyn                      1.049790\n",
              "Manhattan                     0.976782"
            ],
            "text/html": [
              "\n",
              "  <div id=\"df-e4ecf540-a265-4016-b66c-df0af669e0e4\">\n",
              "    <div class=\"colab-df-container\">\n",
              "      <div>\n",
              "<style scoped>\n",
              "    .dataframe tbody tr th:only-of-type {\n",
              "        vertical-align: middle;\n",
              "    }\n",
              "\n",
              "    .dataframe tbody tr th {\n",
              "        vertical-align: top;\n",
              "    }\n",
              "\n",
              "    .dataframe thead th {\n",
              "        text-align: right;\n",
              "    }\n",
              "</style>\n",
              "<table border=\"1\" class=\"dataframe\">\n",
              "  <thead>\n",
              "    <tr style=\"text-align: right;\">\n",
              "      <th></th>\n",
              "      <th>reviews_per_month</th>\n",
              "    </tr>\n",
              "    <tr>\n",
              "      <th>neighbourhood_group</th>\n",
              "      <th></th>\n",
              "    </tr>\n",
              "  </thead>\n",
              "  <tbody>\n",
              "    <tr>\n",
              "      <th>Staten Island</th>\n",
              "      <td>1.576381</td>\n",
              "    </tr>\n",
              "    <tr>\n",
              "      <th>Queens</th>\n",
              "      <td>1.567076</td>\n",
              "    </tr>\n",
              "    <tr>\n",
              "      <th>Bronx</th>\n",
              "      <td>1.475655</td>\n",
              "    </tr>\n",
              "    <tr>\n",
              "      <th>Brooklyn</th>\n",
              "      <td>1.049790</td>\n",
              "    </tr>\n",
              "    <tr>\n",
              "      <th>Manhattan</th>\n",
              "      <td>0.976782</td>\n",
              "    </tr>\n",
              "  </tbody>\n",
              "</table>\n",
              "</div>\n",
              "      <button class=\"colab-df-convert\" onclick=\"convertToInteractive('df-e4ecf540-a265-4016-b66c-df0af669e0e4')\"\n",
              "              title=\"Convert this dataframe to an interactive table.\"\n",
              "              style=\"display:none;\">\n",
              "        \n",
              "  <svg xmlns=\"http://www.w3.org/2000/svg\" height=\"24px\"viewBox=\"0 0 24 24\"\n",
              "       width=\"24px\">\n",
              "    <path d=\"M0 0h24v24H0V0z\" fill=\"none\"/>\n",
              "    <path d=\"M18.56 5.44l.94 2.06.94-2.06 2.06-.94-2.06-.94-.94-2.06-.94 2.06-2.06.94zm-11 1L8.5 8.5l.94-2.06 2.06-.94-2.06-.94L8.5 2.5l-.94 2.06-2.06.94zm10 10l.94 2.06.94-2.06 2.06-.94-2.06-.94-.94-2.06-.94 2.06-2.06.94z\"/><path d=\"M17.41 7.96l-1.37-1.37c-.4-.4-.92-.59-1.43-.59-.52 0-1.04.2-1.43.59L10.3 9.45l-7.72 7.72c-.78.78-.78 2.05 0 2.83L4 21.41c.39.39.9.59 1.41.59.51 0 1.02-.2 1.41-.59l7.78-7.78 2.81-2.81c.8-.78.8-2.07 0-2.86zM5.41 20L4 18.59l7.72-7.72 1.47 1.35L5.41 20z\"/>\n",
              "  </svg>\n",
              "      </button>\n",
              "      \n",
              "  <style>\n",
              "    .colab-df-container {\n",
              "      display:flex;\n",
              "      flex-wrap:wrap;\n",
              "      gap: 12px;\n",
              "    }\n",
              "\n",
              "    .colab-df-convert {\n",
              "      background-color: #E8F0FE;\n",
              "      border: none;\n",
              "      border-radius: 50%;\n",
              "      cursor: pointer;\n",
              "      display: none;\n",
              "      fill: #1967D2;\n",
              "      height: 32px;\n",
              "      padding: 0 0 0 0;\n",
              "      width: 32px;\n",
              "    }\n",
              "\n",
              "    .colab-df-convert:hover {\n",
              "      background-color: #E2EBFA;\n",
              "      box-shadow: 0px 1px 2px rgba(60, 64, 67, 0.3), 0px 1px 3px 1px rgba(60, 64, 67, 0.15);\n",
              "      fill: #174EA6;\n",
              "    }\n",
              "\n",
              "    [theme=dark] .colab-df-convert {\n",
              "      background-color: #3B4455;\n",
              "      fill: #D2E3FC;\n",
              "    }\n",
              "\n",
              "    [theme=dark] .colab-df-convert:hover {\n",
              "      background-color: #434B5C;\n",
              "      box-shadow: 0px 1px 3px 1px rgba(0, 0, 0, 0.15);\n",
              "      filter: drop-shadow(0px 1px 2px rgba(0, 0, 0, 0.3));\n",
              "      fill: #FFFFFF;\n",
              "    }\n",
              "  </style>\n",
              "\n",
              "      <script>\n",
              "        const buttonEl =\n",
              "          document.querySelector('#df-e4ecf540-a265-4016-b66c-df0af669e0e4 button.colab-df-convert');\n",
              "        buttonEl.style.display =\n",
              "          google.colab.kernel.accessAllowed ? 'block' : 'none';\n",
              "\n",
              "        async function convertToInteractive(key) {\n",
              "          const element = document.querySelector('#df-e4ecf540-a265-4016-b66c-df0af669e0e4');\n",
              "          const dataTable =\n",
              "            await google.colab.kernel.invokeFunction('convertToInteractive',\n",
              "                                                     [key], {});\n",
              "          if (!dataTable) return;\n",
              "\n",
              "          const docLinkHtml = 'Like what you see? Visit the ' +\n",
              "            '<a target=\"_blank\" href=https://colab.research.google.com/notebooks/data_table.ipynb>data table notebook</a>'\n",
              "            + ' to learn more about interactive tables.';\n",
              "          element.innerHTML = '';\n",
              "          dataTable['output_type'] = 'display_data';\n",
              "          await google.colab.output.renderOutput(dataTable, element);\n",
              "          const docLink = document.createElement('div');\n",
              "          docLink.innerHTML = docLinkHtml;\n",
              "          element.appendChild(docLink);\n",
              "        }\n",
              "      </script>\n",
              "    </div>\n",
              "  </div>\n",
              "  "
            ]
          },
          "metadata": {},
          "execution_count": 26
        }
      ]
    },
    {
      "cell_type": "markdown",
      "source": [
        "AS WE CAN OBSERVE FROM THE ABOVE TABLE AND THE GRAPH THE CUSTOMER REVIEW PER MONTH IS MORE IN STATEN ISLAND FOLLOWED BY QUEENS AND THEN BRONX WHICH MEANS CUSTOMERS ARE MORE INCLINED TOWARDS THESE PLACES AND THE REASON IS THE LOWER AVERAGE PRICE AND HIGHER AVERAGE AVAILABILITY.\n",
        "MANHATTAN IS THE COSTLIEST AND WITH THE LEAST AVERAGE AVAILABILITY AND IS FOLLOWED BY BROOKLYN.\n"
      ],
      "metadata": {
        "id": "VPvZ-w8AJHlf"
      }
    },
    {
      "cell_type": "code",
      "source": [
        "p=df1.groupby(['neighbourhood_group','name']).agg({'availability_365':\"min\"})\n",
        "p\n",
        "# These are the busiest places since the availability is the least"
      ],
      "metadata": {
        "id": "PojLlhRZYBNI",
        "colab": {
          "base_uri": "https://localhost:8080/",
          "height": 455
        },
        "outputId": "8cfde87f-f14b-4335-88e1-27f4776bd787"
      },
      "execution_count": null,
      "outputs": [
        {
          "output_type": "execute_result",
          "data": {
            "text/plain": [
              "                                                                       availability_365\n",
              "neighbourhood_group name                                                               \n",
              "Bronx               71552588                                                        365\n",
              "                     Affordable & Cozy                                              232\n",
              "                    \"MI Casa es su Casa \"                                            46\n",
              "                    \"Sweet Home near to Bronx Zoo in Little Italy \"                  49\n",
              "                    \"The luxury of Comfort\"                                         179\n",
              "...                                                                                 ...\n",
              "Staten Island       large house with inground pool/spa                                0\n",
              "                    large private Rooms for rent 5 mins from SI Ferry               365\n",
              "                    room b                                                          337\n",
              "                    “No Place Like Home”\\n1st Floor Suburban Apt.                   258\n",
              "                    幸福小屋                                                            363\n",
              "\n",
              "[48012 rows x 1 columns]"
            ],
            "text/html": [
              "\n",
              "  <div id=\"df-f786b778-61db-45a0-be23-92e71fd868e4\">\n",
              "    <div class=\"colab-df-container\">\n",
              "      <div>\n",
              "<style scoped>\n",
              "    .dataframe tbody tr th:only-of-type {\n",
              "        vertical-align: middle;\n",
              "    }\n",
              "\n",
              "    .dataframe tbody tr th {\n",
              "        vertical-align: top;\n",
              "    }\n",
              "\n",
              "    .dataframe thead th {\n",
              "        text-align: right;\n",
              "    }\n",
              "</style>\n",
              "<table border=\"1\" class=\"dataframe\">\n",
              "  <thead>\n",
              "    <tr style=\"text-align: right;\">\n",
              "      <th></th>\n",
              "      <th></th>\n",
              "      <th>availability_365</th>\n",
              "    </tr>\n",
              "    <tr>\n",
              "      <th>neighbourhood_group</th>\n",
              "      <th>name</th>\n",
              "      <th></th>\n",
              "    </tr>\n",
              "  </thead>\n",
              "  <tbody>\n",
              "    <tr>\n",
              "      <th rowspan=\"5\" valign=\"top\">Bronx</th>\n",
              "      <th>71552588</th>\n",
              "      <td>365</td>\n",
              "    </tr>\n",
              "    <tr>\n",
              "      <th>Affordable &amp; Cozy</th>\n",
              "      <td>232</td>\n",
              "    </tr>\n",
              "    <tr>\n",
              "      <th>\"MI Casa es su Casa \"</th>\n",
              "      <td>46</td>\n",
              "    </tr>\n",
              "    <tr>\n",
              "      <th>\"Sweet Home near to Bronx Zoo in Little Italy \"</th>\n",
              "      <td>49</td>\n",
              "    </tr>\n",
              "    <tr>\n",
              "      <th>\"The luxury of Comfort\"</th>\n",
              "      <td>179</td>\n",
              "    </tr>\n",
              "    <tr>\n",
              "      <th>...</th>\n",
              "      <th>...</th>\n",
              "      <td>...</td>\n",
              "    </tr>\n",
              "    <tr>\n",
              "      <th rowspan=\"5\" valign=\"top\">Staten Island</th>\n",
              "      <th>large house with inground pool/spa</th>\n",
              "      <td>0</td>\n",
              "    </tr>\n",
              "    <tr>\n",
              "      <th>large private Rooms for rent 5 mins from SI Ferry</th>\n",
              "      <td>365</td>\n",
              "    </tr>\n",
              "    <tr>\n",
              "      <th>room b</th>\n",
              "      <td>337</td>\n",
              "    </tr>\n",
              "    <tr>\n",
              "      <th>“No Place Like Home”\\n1st Floor Suburban Apt.</th>\n",
              "      <td>258</td>\n",
              "    </tr>\n",
              "    <tr>\n",
              "      <th>幸福小屋</th>\n",
              "      <td>363</td>\n",
              "    </tr>\n",
              "  </tbody>\n",
              "</table>\n",
              "<p>48012 rows × 1 columns</p>\n",
              "</div>\n",
              "      <button class=\"colab-df-convert\" onclick=\"convertToInteractive('df-f786b778-61db-45a0-be23-92e71fd868e4')\"\n",
              "              title=\"Convert this dataframe to an interactive table.\"\n",
              "              style=\"display:none;\">\n",
              "        \n",
              "  <svg xmlns=\"http://www.w3.org/2000/svg\" height=\"24px\"viewBox=\"0 0 24 24\"\n",
              "       width=\"24px\">\n",
              "    <path d=\"M0 0h24v24H0V0z\" fill=\"none\"/>\n",
              "    <path d=\"M18.56 5.44l.94 2.06.94-2.06 2.06-.94-2.06-.94-.94-2.06-.94 2.06-2.06.94zm-11 1L8.5 8.5l.94-2.06 2.06-.94-2.06-.94L8.5 2.5l-.94 2.06-2.06.94zm10 10l.94 2.06.94-2.06 2.06-.94-2.06-.94-.94-2.06-.94 2.06-2.06.94z\"/><path d=\"M17.41 7.96l-1.37-1.37c-.4-.4-.92-.59-1.43-.59-.52 0-1.04.2-1.43.59L10.3 9.45l-7.72 7.72c-.78.78-.78 2.05 0 2.83L4 21.41c.39.39.9.59 1.41.59.51 0 1.02-.2 1.41-.59l7.78-7.78 2.81-2.81c.8-.78.8-2.07 0-2.86zM5.41 20L4 18.59l7.72-7.72 1.47 1.35L5.41 20z\"/>\n",
              "  </svg>\n",
              "      </button>\n",
              "      \n",
              "  <style>\n",
              "    .colab-df-container {\n",
              "      display:flex;\n",
              "      flex-wrap:wrap;\n",
              "      gap: 12px;\n",
              "    }\n",
              "\n",
              "    .colab-df-convert {\n",
              "      background-color: #E8F0FE;\n",
              "      border: none;\n",
              "      border-radius: 50%;\n",
              "      cursor: pointer;\n",
              "      display: none;\n",
              "      fill: #1967D2;\n",
              "      height: 32px;\n",
              "      padding: 0 0 0 0;\n",
              "      width: 32px;\n",
              "    }\n",
              "\n",
              "    .colab-df-convert:hover {\n",
              "      background-color: #E2EBFA;\n",
              "      box-shadow: 0px 1px 2px rgba(60, 64, 67, 0.3), 0px 1px 3px 1px rgba(60, 64, 67, 0.15);\n",
              "      fill: #174EA6;\n",
              "    }\n",
              "\n",
              "    [theme=dark] .colab-df-convert {\n",
              "      background-color: #3B4455;\n",
              "      fill: #D2E3FC;\n",
              "    }\n",
              "\n",
              "    [theme=dark] .colab-df-convert:hover {\n",
              "      background-color: #434B5C;\n",
              "      box-shadow: 0px 1px 3px 1px rgba(0, 0, 0, 0.15);\n",
              "      filter: drop-shadow(0px 1px 2px rgba(0, 0, 0, 0.3));\n",
              "      fill: #FFFFFF;\n",
              "    }\n",
              "  </style>\n",
              "\n",
              "      <script>\n",
              "        const buttonEl =\n",
              "          document.querySelector('#df-f786b778-61db-45a0-be23-92e71fd868e4 button.colab-df-convert');\n",
              "        buttonEl.style.display =\n",
              "          google.colab.kernel.accessAllowed ? 'block' : 'none';\n",
              "\n",
              "        async function convertToInteractive(key) {\n",
              "          const element = document.querySelector('#df-f786b778-61db-45a0-be23-92e71fd868e4');\n",
              "          const dataTable =\n",
              "            await google.colab.kernel.invokeFunction('convertToInteractive',\n",
              "                                                     [key], {});\n",
              "          if (!dataTable) return;\n",
              "\n",
              "          const docLinkHtml = 'Like what you see? Visit the ' +\n",
              "            '<a target=\"_blank\" href=https://colab.research.google.com/notebooks/data_table.ipynb>data table notebook</a>'\n",
              "            + ' to learn more about interactive tables.';\n",
              "          element.innerHTML = '';\n",
              "          dataTable['output_type'] = 'display_data';\n",
              "          await google.colab.output.renderOutput(dataTable, element);\n",
              "          const docLink = document.createElement('div');\n",
              "          docLink.innerHTML = docLinkHtml;\n",
              "          element.appendChild(docLink);\n",
              "        }\n",
              "      </script>\n",
              "    </div>\n",
              "  </div>\n",
              "  "
            ]
          },
          "metadata": {},
          "execution_count": 29
        }
      ]
    },
    {
      "cell_type": "markdown",
      "source": [
        "**3.Which hosts are the busiest and why?**"
      ],
      "metadata": {
        "id": "nee6SdC54pkG"
      }
    },
    {
      "cell_type": "code",
      "source": [
        "h=df1['host_name'].value_counts()\n",
        "plt.figure(figsize=(12,6))\n",
        "h[0:10].plot.bar() #Host Michael is the busiest follwed by David"
      ],
      "metadata": {
        "id": "LrqwahW84xwa",
        "colab": {
          "base_uri": "https://localhost:8080/",
          "height": 447
        },
        "outputId": "000f66d4-9b18-4c30-bf15-79a8ba26d7dc"
      },
      "execution_count": null,
      "outputs": [
        {
          "output_type": "execute_result",
          "data": {
            "text/plain": [
              "<matplotlib.axes._subplots.AxesSubplot at 0x7f9bea59d590>"
            ]
          },
          "metadata": {},
          "execution_count": 30
        },
        {
          "output_type": "display_data",
          "data": {
            "text/plain": [
              "<Figure size 864x432 with 1 Axes>"
            ],
            "image/png": "[encoded data removed]"
          },
          "metadata": {
            "needs_background": "light"
          }
        }
      ]
    },
    {
      "cell_type": "code",
      "source": [
        "m=df[df1['host_name']==\"Michael\"]\n",
        "d=df[df1['host_name']==\"David\"]\n",
        "print(\"Total places hosted by Michael is:\",m.shape[0])\n",
        "print(\"Total places hosted by David is:\",d.shape[0])\n",
        "#Since Michael and David host more than 400 places they are the busiest"
      ],
      "metadata": {
        "id": "D_YNJFezCvKw",
        "colab": {
          "base_uri": "https://localhost:8080/"
        },
        "outputId": "e6d2c21d-6e81-4080-b597-97685bd8ae00"
      },
      "execution_count": null,
      "outputs": [
        {
          "output_type": "stream",
          "name": "stdout",
          "text": [
            "Total places hosted by Michael is: 417\n",
            "Total places hosted by David is: 403\n"
          ]
        }
      ]
    },
    {
      "cell_type": "markdown",
      "source": [
        "**4.Is there any noticeable difference of traffic among different areas and what could be the reason for it?**"
      ],
      "metadata": {
        "id": "BxXR0uDA45v2"
      }
    },
    {
      "cell_type": "code",
      "source": [
        "#find month and year for getting the no. of customers "
      ],
      "metadata": {
        "id": "meFYW_fyz_k5"
      },
      "execution_count": null,
      "outputs": []
    },
    {
      "cell_type": "code",
      "source": [
        "df['last_review']= pd.to_datetime(df['last_review'])\n",
        "df['month'] = pd.DatetimeIndex(df['last_review']).month\n",
        "df['year']=pd.DatetimeIndex(df['last_review']).year\n",
        "plt.figure(figsize=(20,10))\n",
        "plt.subplot(341)\n",
        "df['month'].value_counts().plot.bar()\n",
        "plt.subplot(342)\n",
        "df['year'].value_counts().plot.bar()\n",
        "df['month'].value_counts()"
      ],
      "metadata": {
        "id": "NIJ3UoMB48V1",
        "colab": {
          "base_uri": "https://localhost:8080/",
          "height": 459
        },
        "outputId": "9da993da-95d6-497e-d04e-5f5462b64f2e"
      },
      "execution_count": null,
      "outputs": [
        {
          "output_type": "execute_result",
          "data": {
            "text/plain": [
              "6.0     13589\n",
              "7.0      5937\n",
              "5.0      4701\n",
              "1.0      2773\n",
              "4.0      2109\n",
              "12.0     1770\n",
              "8.0      1667\n",
              "10.0     1546\n",
              "9.0      1535\n",
              "3.0      1288\n",
              "11.0     1158\n",
              "2.0       770\n",
              "Name: month, dtype: int64"
            ]
          },
          "metadata": {},
          "execution_count": 33
        },
        {
          "output_type": "display_data",
          "data": {
            "text/plain": [
              "<Figure size 1440x720 with 2 Axes>"
            ],
            "image/png": "[encoded data removed]"
          },
          "metadata": {
            "needs_background": "light"
          }
        }
      ]
    },
    {
      "cell_type": "markdown",
      "source": [
        "2019 IS THE BUSIEST OF ALL YEARS WHEREAS 2011 AND 2012 WERE THE LEAST.\n",
        "JUNE IS THE BUSIEST MONTH FOLLOWED BY JULY WHEREAS FEBRUARY IS THE LEAST BUSY."
      ],
      "metadata": {
        "id": "be6W573fAZQ5"
      }
    },
    {
      "cell_type": "code",
      "source": [
        "#Details of the latest Airbnb Booked\n",
        "df.iloc[df[\"last_review\"].argmax()]"
      ],
      "metadata": {
        "colab": {
          "base_uri": "https://localhost:8080/"
        },
        "id": "sq3CZpYUDgFE",
        "outputId": "6e6213d7-5dec-4295-f2c6-7b45002f7e32"
      },
      "execution_count": 71,
      "outputs": [
        {
          "output_type": "execute_result",
          "data": {
            "text/plain": [
              "id                                             100184\n",
              "name                                        Bienvenue\n",
              "host_id                                        526653\n",
              "host_name                                         NaN\n",
              "neighbourhood_group                            Queens\n",
              "neighbourhood                          Queens Village\n",
              "latitude                                     40.72413\n",
              "longitude                                   -73.76133\n",
              "room_type                                Private room\n",
              "price                                              50\n",
              "minimum_nights                                      1\n",
              "number_of_reviews                                  43\n",
              "last_review                       2019-07-08 00:00:00\n",
              "reviews_per_month                                0.45\n",
              "calculated_host_listings_count                      1\n",
              "availability_365                                   88\n",
              "month                                             7.0\n",
              "year                                           2019.0\n",
              "Name: 360, dtype: object"
            ]
          },
          "metadata": {},
          "execution_count": 71
        }
      ]
    },
    {
      "cell_type": "code",
      "source": [
        "#TYPES OF ROOM AND THEIR COUNT\n",
        "plt.figure(figsize=(10,5))\n",
        "room = sns.countplot(x='room_type',data = df1)\n",
        "room.set_title('TYPES OF ACCOMODATION')\n",
        "room.set_ylabel('Room Types')\n",
        "room.set_xlabel('Number of Rooms')\n",
        "plt.show()"
      ],
      "metadata": {
        "colab": {
          "base_uri": "https://localhost:8080/",
          "height": 350
        },
        "id": "64yLEnblCYkP",
        "outputId": "3e84d289-1bb7-4b27-8cdd-895e8f8f3c04"
      },
      "execution_count": null,
      "outputs": [
        {
          "output_type": "display_data",
          "data": {
            "text/plain": [
              "<Figure size 720x360 with 1 Axes>"
            ],
            "image/png": "[encoded data removed]"
          },
          "metadata": {
            "needs_background": "light"
          }
        }
      ]
    },
    {
      "cell_type": "code",
      "source": [
        "man=df2[df2.neighbourhood_group=='Manhattan']\n",
        "plt.figure(figsize=(10,10))\n",
        "#Subplot Manhattan\n",
        "plt.subplot(521)\n",
        "bro=df2[df2.neighbourhood_group=='Brooklyn']\n",
        "room = sns.countplot(x='room_type',data=man)\n",
        "room.set_title('MANHATTAN')\n",
        "room.set_ylabel('Room Types')\n",
        "room.set_xlabel('Number of Rooms')\n",
        "#Subplot Brooklyn\n",
        "plt.subplot(522)\n",
        "room = sns.countplot(x='room_type',data=bro)\n",
        "room.set_title('BROOKLYN')\n",
        "room.set_ylabel('Room Types')\n",
        "room.set_xlabel('Number of Rooms')\n",
        "#Subplot Queens\n",
        "que=df2[df2.neighbourhood_group=='Queens']\n",
        "plt.subplot(523)\n",
        "room = sns.countplot(x='room_type',data=que)\n",
        "room.set_title('QUEENS')\n",
        "room.set_ylabel('Room Types')\n",
        "room.set_xlabel('Number of Rooms')\n",
        "#Subplot Bronx\n",
        "bronx=df2[df2.neighbourhood_group=='Bronx']\n",
        "plt.subplot(524)\n",
        "room = sns.countplot(x='room_type',data=bronx)\n",
        "room.set_title('BRONX')\n",
        "room.set_ylabel('Room Types')\n",
        "room.set_xlabel('Number of Rooms')\n",
        "#Subplot Staten Island\n",
        "stat=df2[df2.neighbourhood_group=='Staten Island']\n",
        "plt.subplot(525)\n",
        "room = sns.countplot(x='room_type',data=stat)\n",
        "room.set_title('STATEN ISLAND')\n",
        "room.set_ylabel('Room Types')\n",
        "room.set_xlabel('Number of Rooms')\n",
        "\n",
        "plt.tight_layout()\n",
        "plt.show()"
      ],
      "metadata": {
        "colab": {
          "base_uri": "https://localhost:8080/",
          "height": 464
        },
        "id": "6H8Yag088qkU",
        "outputId": "f42b1d9a-9949-4d1d-9445-a7b9dc95558b"
      },
      "execution_count": 78,
      "outputs": [
        {
          "output_type": "display_data",
          "data": {
            "text/plain": [
              "<Figure size 720x720 with 5 Axes>"
            ],
            "image/png": "[encoded data removed]"
          },
          "metadata": {
            "needs_background": "light"
          }
        }
      ]
    },
    {
      "cell_type": "markdown",
      "source": [
        "THE ABOVE TWO GRAPHICAL REPRESENTATIONS DEPICTS THAT CUSTOMERS PREFER PRIVATE ROOMS MORE WHICH IS FOLLOWED BY ENTIRE HOME/APT AND SHARED ROOM IS PREFERED THE LAST."
      ],
      "metadata": {
        "id": "MciAJ_q6GyAB"
      }
    },
    {
      "cell_type": "code",
      "source": [
        "rmean=df2.groupby('room_type').agg({'price':'mean'})\n",
        "rmean"
      ],
      "metadata": {
        "colab": {
          "base_uri": "https://localhost:8080/",
          "height": 175
        },
        "id": "EHSOOwjHHSMe",
        "outputId": "c36be611-80bd-40b7-c86d-d3054f39a76a"
      },
      "execution_count": 82,
      "outputs": [
        {
          "output_type": "execute_result",
          "data": {
            "text/plain": [
              "                      price\n",
              "room_type                  \n",
              "Entire home/apt  211.800268\n",
              "Private room      89.804958\n",
              "Shared room       70.259483"
            ],
            "text/html": [
              "\n",
              "  <div id=\"df-d6d4987e-4bae-42f8-9606-6b83dc7b409d\">\n",
              "    <div class=\"colab-df-container\">\n",
              "      <div>\n",
              "<style scoped>\n",
              "    .dataframe tbody tr th:only-of-type {\n",
              "        vertical-align: middle;\n",
              "    }\n",
              "\n",
              "    .dataframe tbody tr th {\n",
              "        vertical-align: top;\n",
              "    }\n",
              "\n",
              "    .dataframe thead th {\n",
              "        text-align: right;\n",
              "    }\n",
              "</style>\n",
              "<table border=\"1\" class=\"dataframe\">\n",
              "  <thead>\n",
              "    <tr style=\"text-align: right;\">\n",
              "      <th></th>\n",
              "      <th>price</th>\n",
              "    </tr>\n",
              "    <tr>\n",
              "      <th>room_type</th>\n",
              "      <th></th>\n",
              "    </tr>\n",
              "  </thead>\n",
              "  <tbody>\n",
              "    <tr>\n",
              "      <th>Entire home/apt</th>\n",
              "      <td>211.800268</td>\n",
              "    </tr>\n",
              "    <tr>\n",
              "      <th>Private room</th>\n",
              "      <td>89.804958</td>\n",
              "    </tr>\n",
              "    <tr>\n",
              "      <th>Shared room</th>\n",
              "      <td>70.259483</td>\n",
              "    </tr>\n",
              "  </tbody>\n",
              "</table>\n",
              "</div>\n",
              "      <button class=\"colab-df-convert\" onclick=\"convertToInteractive('df-d6d4987e-4bae-42f8-9606-6b83dc7b409d')\"\n",
              "              title=\"Convert this dataframe to an interactive table.\"\n",
              "              style=\"display:none;\">\n",
              "        \n",
              "  <svg xmlns=\"http://www.w3.org/2000/svg\" height=\"24px\"viewBox=\"0 0 24 24\"\n",
              "       width=\"24px\">\n",
              "    <path d=\"M0 0h24v24H0V0z\" fill=\"none\"/>\n",
              "    <path d=\"M18.56 5.44l.94 2.06.94-2.06 2.06-.94-2.06-.94-.94-2.06-.94 2.06-2.06.94zm-11 1L8.5 8.5l.94-2.06 2.06-.94-2.06-.94L8.5 2.5l-.94 2.06-2.06.94zm10 10l.94 2.06.94-2.06 2.06-.94-2.06-.94-.94-2.06-.94 2.06-2.06.94z\"/><path d=\"M17.41 7.96l-1.37-1.37c-.4-.4-.92-.59-1.43-.59-.52 0-1.04.2-1.43.59L10.3 9.45l-7.72 7.72c-.78.78-.78 2.05 0 2.83L4 21.41c.39.39.9.59 1.41.59.51 0 1.02-.2 1.41-.59l7.78-7.78 2.81-2.81c.8-.78.8-2.07 0-2.86zM5.41 20L4 18.59l7.72-7.72 1.47 1.35L5.41 20z\"/>\n",
              "  </svg>\n",
              "      </button>\n",
              "      \n",
              "  <style>\n",
              "    .colab-df-container {\n",
              "      display:flex;\n",
              "      flex-wrap:wrap;\n",
              "      gap: 12px;\n",
              "    }\n",
              "\n",
              "    .colab-df-convert {\n",
              "      background-color: #E8F0FE;\n",
              "      border: none;\n",
              "      border-radius: 50%;\n",
              "      cursor: pointer;\n",
              "      display: none;\n",
              "      fill: #1967D2;\n",
              "      height: 32px;\n",
              "      padding: 0 0 0 0;\n",
              "      width: 32px;\n",
              "    }\n",
              "\n",
              "    .colab-df-convert:hover {\n",
              "      background-color: #E2EBFA;\n",
              "      box-shadow: 0px 1px 2px rgba(60, 64, 67, 0.3), 0px 1px 3px 1px rgba(60, 64, 67, 0.15);\n",
              "      fill: #174EA6;\n",
              "    }\n",
              "\n",
              "    [theme=dark] .colab-df-convert {\n",
              "      background-color: #3B4455;\n",
              "      fill: #D2E3FC;\n",
              "    }\n",
              "\n",
              "    [theme=dark] .colab-df-convert:hover {\n",
              "      background-color: #434B5C;\n",
              "      box-shadow: 0px 1px 3px 1px rgba(0, 0, 0, 0.15);\n",
              "      filter: drop-shadow(0px 1px 2px rgba(0, 0, 0, 0.3));\n",
              "      fill: #FFFFFF;\n",
              "    }\n",
              "  </style>\n",
              "\n",
              "      <script>\n",
              "        const buttonEl =\n",
              "          document.querySelector('#df-d6d4987e-4bae-42f8-9606-6b83dc7b409d button.colab-df-convert');\n",
              "        buttonEl.style.display =\n",
              "          google.colab.kernel.accessAllowed ? 'block' : 'none';\n",
              "\n",
              "        async function convertToInteractive(key) {\n",
              "          const element = document.querySelector('#df-d6d4987e-4bae-42f8-9606-6b83dc7b409d');\n",
              "          const dataTable =\n",
              "            await google.colab.kernel.invokeFunction('convertToInteractive',\n",
              "                                                     [key], {});\n",
              "          if (!dataTable) return;\n",
              "\n",
              "          const docLinkHtml = 'Like what you see? Visit the ' +\n",
              "            '<a target=\"_blank\" href=https://colab.research.google.com/notebooks/data_table.ipynb>data table notebook</a>'\n",
              "            + ' to learn more about interactive tables.';\n",
              "          element.innerHTML = '';\n",
              "          dataTable['output_type'] = 'display_data';\n",
              "          await google.colab.output.renderOutput(dataTable, element);\n",
              "          const docLink = document.createElement('div');\n",
              "          docLink.innerHTML = docLinkHtml;\n",
              "          element.appendChild(docLink);\n",
              "        }\n",
              "      </script>\n",
              "    </div>\n",
              "  </div>\n",
              "  "
            ]
          },
          "metadata": {},
          "execution_count": 82
        }
      ]
    },
    {
      "cell_type": "code",
      "source": [
        "plt.figure(figsize=(10,5))\n",
        "rmean.plot.bar()"
      ],
      "metadata": {
        "colab": {
          "base_uri": "https://localhost:8080/",
          "height": 385
        },
        "id": "O1WyfJlpH3Uv",
        "outputId": "5e559ff2-f858-4eea-9701-d5572ab9c31f"
      },
      "execution_count": 83,
      "outputs": [
        {
          "output_type": "execute_result",
          "data": {
            "text/plain": [
              "<matplotlib.axes._subplots.AxesSubplot at 0x7f9be40f9990>"
            ]
          },
          "metadata": {},
          "execution_count": 83
        },
        {
          "output_type": "display_data",
          "data": {
            "text/plain": [
              "<Figure size 720x360 with 0 Axes>"
            ]
          },
          "metadata": {}
        },
        {
          "output_type": "display_data",
          "data": {
            "text/plain": [
              "<Figure size 432x288 with 1 Axes>"
            ],
            "image/png": "[encoded data removed]"
          },
          "metadata": {
            "needs_background": "light"
          }
        }
      ]
    },
    {
      "cell_type": "code",
      "source": [
        "#Scattering of Locations\n",
        "plt.figure(figsize=(10,6))\n",
        "ax_5 = sns.scatterplot(df2.longitude,df2.latitude,hue=df2.neighbourhood_group)\n",
        "ax_5.set_title('Room Density')\n",
        "ax_5.set_ylabel('latitude')\n",
        "ax_5.set_xlabel('longitude')\n",
        "plt.show()\n",
        "# Or Manhattan distance formula can be used"
      ],
      "metadata": {
        "colab": {
          "base_uri": "https://localhost:8080/",
          "height": 459
        },
        "id": "EcThyrLn27kg",
        "outputId": "9648d828-247c-4261-f253-3e93dbe28a9b"
      },
      "execution_count": 85,
      "outputs": [
        {
          "output_type": "stream",
          "name": "stderr",
          "text": [
            "/usr/local/lib/python3.7/dist-packages/seaborn/_decorators.py:43: FutureWarning: Pass the following variables as keyword args: x, y. From version 0.12, the only valid positional argument will be `data`, and passing other arguments without an explicit keyword will result in an error or misinterpretation.\n",
            "  FutureWarning\n"
          ]
        },
        {
          "output_type": "display_data",
          "data": {
            "text/plain": [
              "<Figure size 720x432 with 1 Axes>"
            ],
            "image/png": "[encoded data removed]"
          },
          "metadata": {
            "needs_background": "light"
          }
        }
      ]
    }
  ]
}
