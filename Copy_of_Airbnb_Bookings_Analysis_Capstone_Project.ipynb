{
  "nbformat": 4,
  "nbformat_minor": 0,
  "metadata": {
    "kernelspec": {
      "display_name": "Python 3",
      "language": "python",
      "name": "python3"
    },
    "language_info": {
      "codemirror_mode": {
        "name": "ipython",
        "version": 3
      },
      "file_extension": ".py",
      "mimetype": "text/x-python",
      "name": "python",
      "nbconvert_exporter": "python",
      "pygments_lexer": "ipython3",
      "version": "3.6.6"
    },
    "colab": {
      "provenance": [],
      "collapsed_sections": [],
      "include_colab_link": true
    }
  },
  "cells": [
    {
      "cell_type": "markdown",
      "metadata": {
        "id": "view-in-github",
        "colab_type": "text"
      },
      "source": [
        "<a href=\"https://colab.research.google.com/github/Jeetesh-KumarM/CAPSTONE-PROJECT-1/blob/main/Copy_of_Airbnb_Bookings_Analysis_Capstone_Project.ipynb\" target=\"_parent\"><img src=\"https://colab.research.google.com/assets/colab-badge.svg\" alt=\"Open In Colab\"/></a>"
      ]
    },
    {
      "cell_type": "markdown",
      "metadata": {
        "id": "Y06xIdG26kRF"
      },
      "source": [
        "## <b> Since 2008, guests and hosts have used Airbnb to expand on traveling possibilities and present a more unique, personalized way of experiencing the world. Today, Airbnb became one of a kind service that is used and recognized by the whole world. Data analysis on millions of listings provided through Airbnb is a crucial factor for the company. These millions of listings generate a lot of data - data that can be analyzed and used for security, business decisions, understanding of customers' and providers' (hosts) behavior and performance on the platform, guiding marketing initiatives, implementation of innovative additional services and much more. </b>\n",
        "\n",
        "## <b>This dataset has around 49,000 observations in it with 16 columns and it is a mix between categorical and numeric values. </b>\n",
        "\n",
        "## <b> Explore and analyze the data to discover key understandings (not limited to these) such as : \n",
        "* What can we learn about different hosts and areas?\n",
        "* What can we learn from predictions? (ex: locations, prices, reviews, etc)\n",
        "* Which hosts are the busiest and why?\n",
        "* Is there any noticeable difference of traffic among different areas and what could be the reason for it? </b>"
      ]
    },
    {
      "cell_type": "code",
      "metadata": {
        "id": "dByMsuzT8Tnw"
      },
      "source": [
        "import numpy as np\n",
        "import pandas as pd\n",
        "import matplotlib.pyplot as plt\n",
        "import seaborn as sns\n",
        "%matplotlib inline\n",
        "import datetime as dt"
      ],
      "execution_count": null,
      "outputs": []
    },
    {
      "cell_type": "code",
      "source": [
        "from google.colab import drive\n",
        "drive.mount('/content/drive')"
      ],
      "metadata": {
        "id": "PCnVbgaq69-5",
        "outputId": "8e475891-a9f1-4b4a-9b49-c929165c7cb9",
        "colab": {
          "base_uri": "https://localhost:8080/"
        }
      },
      "execution_count": null,
      "outputs": [
        {
          "output_type": "stream",
          "name": "stdout",
          "text": [
            "Mounted at /content/drive\n"
          ]
        }
      ]
    },
    {
      "cell_type": "code",
      "source": [
        "df=pd.read_csv(\"/content/drive/MyDrive/AlmaBetter/AirBnB/AirBnB Bookings Analysis/Airbnb NYC 2019.csv\")"
      ],
      "metadata": {
        "id": "qOf6w0r164C1"
      },
      "execution_count": null,
      "outputs": []
    },
    {
      "cell_type": "code",
      "source": [
        "df.info()"
      ],
      "metadata": {
        "id": "Et6jaxVen4Xd",
        "colab": {
          "base_uri": "https://localhost:8080/"
        },
        "outputId": "cff3ea51-3cdd-4e69-e98e-7435eba14f5a"
      },
      "execution_count": null,
      "outputs": [
        {
          "output_type": "stream",
          "name": "stdout",
          "text": [
            "<class 'pandas.core.frame.DataFrame'>\n",
            "RangeIndex: 48895 entries, 0 to 48894\n",
            "Data columns (total 16 columns):\n",
            " #   Column                          Non-Null Count  Dtype  \n",
            "---  ------                          --------------  -----  \n",
            " 0   id                              48895 non-null  int64  \n",
            " 1   name                            48879 non-null  object \n",
            " 2   host_id                         48895 non-null  int64  \n",
            " 3   host_name                       48874 non-null  object \n",
            " 4   neighbourhood_group             48895 non-null  object \n",
            " 5   neighbourhood                   48895 non-null  object \n",
            " 6   latitude                        48895 non-null  float64\n",
            " 7   longitude                       48895 non-null  float64\n",
            " 8   room_type                       48895 non-null  object \n",
            " 9   price                           48895 non-null  int64  \n",
            " 10  minimum_nights                  48895 non-null  int64  \n",
            " 11  number_of_reviews               48895 non-null  int64  \n",
            " 12  last_review                     38843 non-null  object \n",
            " 13  reviews_per_month               38843 non-null  float64\n",
            " 14  calculated_host_listings_count  48895 non-null  int64  \n",
            " 15  availability_365                48895 non-null  int64  \n",
            "dtypes: float64(3), int64(7), object(6)\n",
            "memory usage: 6.0+ MB\n"
          ]
        }
      ]
    },
    {
      "cell_type": "markdown",
      "source": [
        "**DATA CLEANING:**\n",
        "Checking whether same host id is present multiple times"
      ],
      "metadata": {
        "id": "ANusWqR9q4R6"
      }
    },
    {
      "cell_type": "code",
      "source": [
        "df.isnull().sum()"
      ],
      "metadata": {
        "id": "Io8sXNALX5Zi",
        "colab": {
          "base_uri": "https://localhost:8080/"
        },
        "outputId": "ab3e3f1c-3081-4337-ffe7-6c62303fbf6a"
      },
      "execution_count": null,
      "outputs": [
        {
          "output_type": "execute_result",
          "data": {
            "text/plain": [
              "id                                    0\n",
              "name                                 16\n",
              "host_id                               0\n",
              "host_name                            21\n",
              "neighbourhood_group                   0\n",
              "neighbourhood                         0\n",
              "latitude                              0\n",
              "longitude                             0\n",
              "room_type                             0\n",
              "price                                 0\n",
              "minimum_nights                        0\n",
              "number_of_reviews                     0\n",
              "last_review                       10052\n",
              "reviews_per_month                 10052\n",
              "calculated_host_listings_count        0\n",
              "availability_365                      0\n",
              "dtype: int64"
            ]
          },
          "metadata": {},
          "execution_count": 5
        }
      ]
    },
    {
      "cell_type": "code",
      "source": [
        "df['id'].duplicated().unique() #Host id dupicate has only 1 unique value i.e false. Hence no multiple data with same id exists"
      ],
      "metadata": {
        "id": "3-ea32BhXnMA",
        "colab": {
          "base_uri": "https://localhost:8080/"
        },
        "outputId": "17a6f89f-48ef-4a72-f922-84b9409a3267"
      },
      "execution_count": null,
      "outputs": [
        {
          "output_type": "execute_result",
          "data": {
            "text/plain": [
              "array([False])"
            ]
          },
          "metadata": {},
          "execution_count": 6
        }
      ]
    },
    {
      "cell_type": "code",
      "source": [
        "df['id'].isnull().unique()#No null value in id"
      ],
      "metadata": {
        "colab": {
          "base_uri": "https://localhost:8080/"
        },
        "id": "ZcE19XSeIvRe",
        "outputId": "26213362-29b9-4c19-fbcd-cf558c237381"
      },
      "execution_count": null,
      "outputs": [
        {
          "output_type": "execute_result",
          "data": {
            "text/plain": [
              "array([False])"
            ]
          },
          "metadata": {},
          "execution_count": 7
        }
      ]
    },
    {
      "cell_type": "code",
      "source": [
        "print(df['host_name'].isnull().unique())#Host name has null values\n",
        "name_null=df[df['host_name'].isnull()==True]\n",
        "name_null['id'].shape[0]# 21 entries with name as null\n",
        "s=df.name.fillna(df.host_id,inplace=True)#Replace the null host name with the host id\n",
        "df.name.isnull().unique()"
      ],
      "metadata": {
        "colab": {
          "base_uri": "https://localhost:8080/"
        },
        "id": "M1V2ftgEJP5t",
        "outputId": "e8a06535-37ff-4042-a840-aa2900ab979b"
      },
      "execution_count": null,
      "outputs": [
        {
          "output_type": "stream",
          "name": "stdout",
          "text": [
            "[False  True]\n"
          ]
        },
        {
          "output_type": "execute_result",
          "data": {
            "text/plain": [
              "array([False])"
            ]
          },
          "metadata": {},
          "execution_count": 8
        }
      ]
    },
    {
      "cell_type": "code",
      "source": [
        "df1=df.copy()\n",
        "def check(x):\n",
        "    if 0 in x.values:\n",
        "      return \"0 is present\"\n",
        "    else:\n",
        "      return \"0 is absent\"\n",
        "#Price Values\n",
        "print(\"Price Column\")\n",
        "print(\"\\tNull values:\",df1['price'].isnull().unique())\n",
        "print(\"\\t\",check(df1['price']))\n",
        "#Minimum Nights Values\n",
        "print(\"\\nMinimum Nights Column\")\n",
        "print(\"\\tNull values:\",df1['minimum_nights'].isnull().unique())\n",
        "print(\"\\t\",check(df1['minimum_nights']))\n",
        "#Number of Reviews Values\n",
        "print(\"\\nNumber of reviews Column\")\n",
        "print(\"\\tNull values:\",df1['number_of_reviews'].isnull().unique())\n",
        "print('\\t',check(df1['number_of_reviews']))\n",
        "#Last Review Values\n",
        "print(\"\\nLast review Column\")\n",
        "print(\"\\tNull values:\",df1['last_review'].isnull().unique())\n",
        "print(\"\\t\",check(df1['last_review']))\n",
        "#df1['last_review'].fillna(0,inplace=True)\n",
        "#Reviews per Month Column\n",
        "print(\"\\nReviews Per Month Column\")\n",
        "print(\"\\tNull values:\",df1['reviews_per_month'].isnull().unique())\n",
        "print(\"\\t\",check(df1['reviews_per_month']))\n",
        "df1['reviews_per_month'].fillna(0,inplace=True)"
      ],
      "metadata": {
        "colab": {
          "base_uri": "https://localhost:8080/"
        },
        "id": "PaceEi7jitfD",
        "outputId": "851afada-5079-4687-c34a-70ccf6b5a0b9"
      },
      "execution_count": null,
      "outputs": [
        {
          "output_type": "stream",
          "name": "stdout",
          "text": [
            "Price Column\n",
            "\tNull values: [False]\n",
            "\t 0 is present\n",
            "\n",
            "Minimum Nights Column\n",
            "\tNull values: [False]\n",
            "\t 0 is absent\n",
            "\n",
            "Number of reviews Column\n",
            "\tNull values: [False]\n",
            "\t 0 is present\n",
            "\n",
            "Last review Column\n",
            "\tNull values: [False  True]\n",
            "\t 0 is absent\n",
            "\n",
            "Reviews Per Month Column\n",
            "\tNull values: [False  True]\n",
            "\t 0 is absent\n"
          ]
        }
      ]
    },
    {
      "cell_type": "markdown",
      "source": [],
      "metadata": {
        "id": "mI85NINyU-q0"
      }
    },
    {
      "cell_type": "code",
      "source": [
        "df2=df1.copy()\n",
        "new=df2.groupby(['neighbourhood_group','room_type']).agg({'price':\"mean\"})\n",
        "new"
      ],
      "metadata": {
        "id": "s9FTF6CTPy9p",
        "colab": {
          "base_uri": "https://localhost:8080/",
          "height": 551
        },
        "outputId": "af0d716d-eac1-4197-af8c-611de3deee20"
      },
      "execution_count": null,
      "outputs": [
        {
          "output_type": "execute_result",
          "data": {
            "text/plain": [
              "                                          price\n",
              "neighbourhood_group room_type                  \n",
              "Bronx               Entire home/apt  127.506596\n",
              "                    Private room      66.788344\n",
              "                    Shared room       59.800000\n",
              "Brooklyn            Entire home/apt  178.327545\n",
              "                    Private room      76.500099\n",
              "                    Shared room       50.527845\n",
              "Manhattan           Entire home/apt  249.239109\n",
              "                    Private room     116.776622\n",
              "                    Shared room       88.977083\n",
              "Queens              Entire home/apt  147.050573\n",
              "                    Private room      71.762456\n",
              "                    Shared room       69.020202\n",
              "Staten Island       Entire home/apt  173.846591\n",
              "                    Private room      62.292553\n",
              "                    Shared room       57.444444"
            ],
            "text/html": [
              "\n",
              "  <div id=\"df-ab571415-4269-4c29-8b97-9d7025c198c8\">\n",
              "    <div class=\"colab-df-container\">\n",
              "      <div>\n",
              "<style scoped>\n",
              "    .dataframe tbody tr th:only-of-type {\n",
              "        vertical-align: middle;\n",
              "    }\n",
              "\n",
              "    .dataframe tbody tr th {\n",
              "        vertical-align: top;\n",
              "    }\n",
              "\n",
              "    .dataframe thead th {\n",
              "        text-align: right;\n",
              "    }\n",
              "</style>\n",
              "<table border=\"1\" class=\"dataframe\">\n",
              "  <thead>\n",
              "    <tr style=\"text-align: right;\">\n",
              "      <th></th>\n",
              "      <th></th>\n",
              "      <th>price</th>\n",
              "    </tr>\n",
              "    <tr>\n",
              "      <th>neighbourhood_group</th>\n",
              "      <th>room_type</th>\n",
              "      <th></th>\n",
              "    </tr>\n",
              "  </thead>\n",
              "  <tbody>\n",
              "    <tr>\n",
              "      <th rowspan=\"3\" valign=\"top\">Bronx</th>\n",
              "      <th>Entire home/apt</th>\n",
              "      <td>127.506596</td>\n",
              "    </tr>\n",
              "    <tr>\n",
              "      <th>Private room</th>\n",
              "      <td>66.788344</td>\n",
              "    </tr>\n",
              "    <tr>\n",
              "      <th>Shared room</th>\n",
              "      <td>59.800000</td>\n",
              "    </tr>\n",
              "    <tr>\n",
              "      <th rowspan=\"3\" valign=\"top\">Brooklyn</th>\n",
              "      <th>Entire home/apt</th>\n",
              "      <td>178.327545</td>\n",
              "    </tr>\n",
              "    <tr>\n",
              "      <th>Private room</th>\n",
              "      <td>76.500099</td>\n",
              "    </tr>\n",
              "    <tr>\n",
              "      <th>Shared room</th>\n",
              "      <td>50.527845</td>\n",
              "    </tr>\n",
              "    <tr>\n",
              "      <th rowspan=\"3\" valign=\"top\">Manhattan</th>\n",
              "      <th>Entire home/apt</th>\n",
              "      <td>249.239109</td>\n",
              "    </tr>\n",
              "    <tr>\n",
              "      <th>Private room</th>\n",
              "      <td>116.776622</td>\n",
              "    </tr>\n",
              "    <tr>\n",
              "      <th>Shared room</th>\n",
              "      <td>88.977083</td>\n",
              "    </tr>\n",
              "    <tr>\n",
              "      <th rowspan=\"3\" valign=\"top\">Queens</th>\n",
              "      <th>Entire home/apt</th>\n",
              "      <td>147.050573</td>\n",
              "    </tr>\n",
              "    <tr>\n",
              "      <th>Private room</th>\n",
              "      <td>71.762456</td>\n",
              "    </tr>\n",
              "    <tr>\n",
              "      <th>Shared room</th>\n",
              "      <td>69.020202</td>\n",
              "    </tr>\n",
              "    <tr>\n",
              "      <th rowspan=\"3\" valign=\"top\">Staten Island</th>\n",
              "      <th>Entire home/apt</th>\n",
              "      <td>173.846591</td>\n",
              "    </tr>\n",
              "    <tr>\n",
              "      <th>Private room</th>\n",
              "      <td>62.292553</td>\n",
              "    </tr>\n",
              "    <tr>\n",
              "      <th>Shared room</th>\n",
              "      <td>57.444444</td>\n",
              "    </tr>\n",
              "  </tbody>\n",
              "</table>\n",
              "</div>\n",
              "      <button class=\"colab-df-convert\" onclick=\"convertToInteractive('df-ab571415-4269-4c29-8b97-9d7025c198c8')\"\n",
              "              title=\"Convert this dataframe to an interactive table.\"\n",
              "              style=\"display:none;\">\n",
              "        \n",
              "  <svg xmlns=\"http://www.w3.org/2000/svg\" height=\"24px\"viewBox=\"0 0 24 24\"\n",
              "       width=\"24px\">\n",
              "    <path d=\"M0 0h24v24H0V0z\" fill=\"none\"/>\n",
              "    <path d=\"M18.56 5.44l.94 2.06.94-2.06 2.06-.94-2.06-.94-.94-2.06-.94 2.06-2.06.94zm-11 1L8.5 8.5l.94-2.06 2.06-.94-2.06-.94L8.5 2.5l-.94 2.06-2.06.94zm10 10l.94 2.06.94-2.06 2.06-.94-2.06-.94-.94-2.06-.94 2.06-2.06.94z\"/><path d=\"M17.41 7.96l-1.37-1.37c-.4-.4-.92-.59-1.43-.59-.52 0-1.04.2-1.43.59L10.3 9.45l-7.72 7.72c-.78.78-.78 2.05 0 2.83L4 21.41c.39.39.9.59 1.41.59.51 0 1.02-.2 1.41-.59l7.78-7.78 2.81-2.81c.8-.78.8-2.07 0-2.86zM5.41 20L4 18.59l7.72-7.72 1.47 1.35L5.41 20z\"/>\n",
              "  </svg>\n",
              "      </button>\n",
              "      \n",
              "  <style>\n",
              "    .colab-df-container {\n",
              "      display:flex;\n",
              "      flex-wrap:wrap;\n",
              "      gap: 12px;\n",
              "    }\n",
              "\n",
              "    .colab-df-convert {\n",
              "      background-color: #E8F0FE;\n",
              "      border: none;\n",
              "      border-radius: 50%;\n",
              "      cursor: pointer;\n",
              "      display: none;\n",
              "      fill: #1967D2;\n",
              "      height: 32px;\n",
              "      padding: 0 0 0 0;\n",
              "      width: 32px;\n",
              "    }\n",
              "\n",
              "    .colab-df-convert:hover {\n",
              "      background-color: #E2EBFA;\n",
              "      box-shadow: 0px 1px 2px rgba(60, 64, 67, 0.3), 0px 1px 3px 1px rgba(60, 64, 67, 0.15);\n",
              "      fill: #174EA6;\n",
              "    }\n",
              "\n",
              "    [theme=dark] .colab-df-convert {\n",
              "      background-color: #3B4455;\n",
              "      fill: #D2E3FC;\n",
              "    }\n",
              "\n",
              "    [theme=dark] .colab-df-convert:hover {\n",
              "      background-color: #434B5C;\n",
              "      box-shadow: 0px 1px 3px 1px rgba(0, 0, 0, 0.15);\n",
              "      filter: drop-shadow(0px 1px 2px rgba(0, 0, 0, 0.3));\n",
              "      fill: #FFFFFF;\n",
              "    }\n",
              "  </style>\n",
              "\n",
              "      <script>\n",
              "        const buttonEl =\n",
              "          document.querySelector('#df-ab571415-4269-4c29-8b97-9d7025c198c8 button.colab-df-convert');\n",
              "        buttonEl.style.display =\n",
              "          google.colab.kernel.accessAllowed ? 'block' : 'none';\n",
              "\n",
              "        async function convertToInteractive(key) {\n",
              "          const element = document.querySelector('#df-ab571415-4269-4c29-8b97-9d7025c198c8');\n",
              "          const dataTable =\n",
              "            await google.colab.kernel.invokeFunction('convertToInteractive',\n",
              "                                                     [key], {});\n",
              "          if (!dataTable) return;\n",
              "\n",
              "          const docLinkHtml = 'Like what you see? Visit the ' +\n",
              "            '<a target=\"_blank\" href=https://colab.research.google.com/notebooks/data_table.ipynb>data table notebook</a>'\n",
              "            + ' to learn more about interactive tables.';\n",
              "          element.innerHTML = '';\n",
              "          dataTable['output_type'] = 'display_data';\n",
              "          await google.colab.output.renderOutput(dataTable, element);\n",
              "          const docLink = document.createElement('div');\n",
              "          docLink.innerHTML = docLinkHtml;\n",
              "          element.appendChild(docLink);\n",
              "        }\n",
              "      </script>\n",
              "    </div>\n",
              "  </div>\n",
              "  "
            ]
          },
          "metadata": {},
          "execution_count": 10
        }
      ]
    },
    {
      "cell_type": "code",
      "source": [
        " new=df2.groupby(['neighbourhood_group','room_type']).agg({'neighbourhood_group':'unique','room_type':'unique','price':\"mean\"})\n",
        " #Include neighbourhood_group and room_type into the table\n"
      ],
      "metadata": {
        "id": "WJRBQga5rSbs"
      },
      "execution_count": null,
      "outputs": []
    },
    {
      "cell_type": "code",
      "source": [
        "df1[df1['price']==0][0:3]"
      ],
      "metadata": {
        "colab": {
          "base_uri": "https://localhost:8080/",
          "height": 381
        },
        "id": "YK6aSXC3965i",
        "outputId": "3df81f07-7762-4adf-a7cf-c1954a0ce0de"
      },
      "execution_count": null,
      "outputs": [
        {
          "output_type": "execute_result",
          "data": {
            "text/plain": [
              "             id                                               name    host_id  \\\n",
              "23161  18750597  Huge Brooklyn Brownstone Living, Close to it all.    8993084   \n",
              "25433  20333471      ★Hostel Style Room | Ideal Traveling Buddies★  131697576   \n",
              "25634  20523843    MARTIAL LOFT 3: REDEMPTION (upstairs, 2nd room)   15787004   \n",
              "\n",
              "          host_name neighbourhood_group       neighbourhood  latitude  \\\n",
              "23161      Kimberly            Brooklyn  Bedford-Stuyvesant  40.69023   \n",
              "25433        Anisha               Bronx     East Morrisania  40.83296   \n",
              "25634  Martial Loft            Brooklyn            Bushwick  40.69467   \n",
              "\n",
              "       longitude     room_type  price  minimum_nights  number_of_reviews  \\\n",
              "23161  -73.95428  Private room      0               4                  1   \n",
              "25433  -73.88668  Private room      0               2                 55   \n",
              "25634  -73.92433  Private room      0               2                 16   \n",
              "\n",
              "      last_review  reviews_per_month  calculated_host_listings_count  \\\n",
              "23161  2018-01-06               0.05                               4   \n",
              "25433  2019-06-24               2.56                               4   \n",
              "25634  2019-05-18               0.71                               5   \n",
              "\n",
              "       availability_365  \n",
              "23161                28  \n",
              "25433               127  \n",
              "25634                 0  "
            ],
            "text/html": [
              "\n",
              "  <div id=\"df-f20a8f0d-748c-4e42-a9ca-48e9decf2e48\">\n",
              "    <div class=\"colab-df-container\">\n",
              "      <div>\n",
              "<style scoped>\n",
              "    .dataframe tbody tr th:only-of-type {\n",
              "        vertical-align: middle;\n",
              "    }\n",
              "\n",
              "    .dataframe tbody tr th {\n",
              "        vertical-align: top;\n",
              "    }\n",
              "\n",
              "    .dataframe thead th {\n",
              "        text-align: right;\n",
              "    }\n",
              "</style>\n",
              "<table border=\"1\" class=\"dataframe\">\n",
              "  <thead>\n",
              "    <tr style=\"text-align: right;\">\n",
              "      <th></th>\n",
              "      <th>id</th>\n",
              "      <th>name</th>\n",
              "      <th>host_id</th>\n",
              "      <th>host_name</th>\n",
              "      <th>neighbourhood_group</th>\n",
              "      <th>neighbourhood</th>\n",
              "      <th>latitude</th>\n",
              "      <th>longitude</th>\n",
              "      <th>room_type</th>\n",
              "      <th>price</th>\n",
              "      <th>minimum_nights</th>\n",
              "      <th>number_of_reviews</th>\n",
              "      <th>last_review</th>\n",
              "      <th>reviews_per_month</th>\n",
              "      <th>calculated_host_listings_count</th>\n",
              "      <th>availability_365</th>\n",
              "    </tr>\n",
              "  </thead>\n",
              "  <tbody>\n",
              "    <tr>\n",
              "      <th>23161</th>\n",
              "      <td>18750597</td>\n",
              "      <td>Huge Brooklyn Brownstone Living, Close to it all.</td>\n",
              "      <td>8993084</td>\n",
              "      <td>Kimberly</td>\n",
              "      <td>Brooklyn</td>\n",
              "      <td>Bedford-Stuyvesant</td>\n",
              "      <td>40.69023</td>\n",
              "      <td>-73.95428</td>\n",
              "      <td>Private room</td>\n",
              "      <td>0</td>\n",
              "      <td>4</td>\n",
              "      <td>1</td>\n",
              "      <td>2018-01-06</td>\n",
              "      <td>0.05</td>\n",
              "      <td>4</td>\n",
              "      <td>28</td>\n",
              "    </tr>\n",
              "    <tr>\n",
              "      <th>25433</th>\n",
              "      <td>20333471</td>\n",
              "      <td>★Hostel Style Room | Ideal Traveling Buddies★</td>\n",
              "      <td>131697576</td>\n",
              "      <td>Anisha</td>\n",
              "      <td>Bronx</td>\n",
              "      <td>East Morrisania</td>\n",
              "      <td>40.83296</td>\n",
              "      <td>-73.88668</td>\n",
              "      <td>Private room</td>\n",
              "      <td>0</td>\n",
              "      <td>2</td>\n",
              "      <td>55</td>\n",
              "      <td>2019-06-24</td>\n",
              "      <td>2.56</td>\n",
              "      <td>4</td>\n",
              "      <td>127</td>\n",
              "    </tr>\n",
              "    <tr>\n",
              "      <th>25634</th>\n",
              "      <td>20523843</td>\n",
              "      <td>MARTIAL LOFT 3: REDEMPTION (upstairs, 2nd room)</td>\n",
              "      <td>15787004</td>\n",
              "      <td>Martial Loft</td>\n",
              "      <td>Brooklyn</td>\n",
              "      <td>Bushwick</td>\n",
              "      <td>40.69467</td>\n",
              "      <td>-73.92433</td>\n",
              "      <td>Private room</td>\n",
              "      <td>0</td>\n",
              "      <td>2</td>\n",
              "      <td>16</td>\n",
              "      <td>2019-05-18</td>\n",
              "      <td>0.71</td>\n",
              "      <td>5</td>\n",
              "      <td>0</td>\n",
              "    </tr>\n",
              "  </tbody>\n",
              "</table>\n",
              "</div>\n",
              "      <button class=\"colab-df-convert\" onclick=\"convertToInteractive('df-f20a8f0d-748c-4e42-a9ca-48e9decf2e48')\"\n",
              "              title=\"Convert this dataframe to an interactive table.\"\n",
              "              style=\"display:none;\">\n",
              "        \n",
              "  <svg xmlns=\"http://www.w3.org/2000/svg\" height=\"24px\"viewBox=\"0 0 24 24\"\n",
              "       width=\"24px\">\n",
              "    <path d=\"M0 0h24v24H0V0z\" fill=\"none\"/>\n",
              "    <path d=\"M18.56 5.44l.94 2.06.94-2.06 2.06-.94-2.06-.94-.94-2.06-.94 2.06-2.06.94zm-11 1L8.5 8.5l.94-2.06 2.06-.94-2.06-.94L8.5 2.5l-.94 2.06-2.06.94zm10 10l.94 2.06.94-2.06 2.06-.94-2.06-.94-.94-2.06-.94 2.06-2.06.94z\"/><path d=\"M17.41 7.96l-1.37-1.37c-.4-.4-.92-.59-1.43-.59-.52 0-1.04.2-1.43.59L10.3 9.45l-7.72 7.72c-.78.78-.78 2.05 0 2.83L4 21.41c.39.39.9.59 1.41.59.51 0 1.02-.2 1.41-.59l7.78-7.78 2.81-2.81c.8-.78.8-2.07 0-2.86zM5.41 20L4 18.59l7.72-7.72 1.47 1.35L5.41 20z\"/>\n",
              "  </svg>\n",
              "      </button>\n",
              "      \n",
              "  <style>\n",
              "    .colab-df-container {\n",
              "      display:flex;\n",
              "      flex-wrap:wrap;\n",
              "      gap: 12px;\n",
              "    }\n",
              "\n",
              "    .colab-df-convert {\n",
              "      background-color: #E8F0FE;\n",
              "      border: none;\n",
              "      border-radius: 50%;\n",
              "      cursor: pointer;\n",
              "      display: none;\n",
              "      fill: #1967D2;\n",
              "      height: 32px;\n",
              "      padding: 0 0 0 0;\n",
              "      width: 32px;\n",
              "    }\n",
              "\n",
              "    .colab-df-convert:hover {\n",
              "      background-color: #E2EBFA;\n",
              "      box-shadow: 0px 1px 2px rgba(60, 64, 67, 0.3), 0px 1px 3px 1px rgba(60, 64, 67, 0.15);\n",
              "      fill: #174EA6;\n",
              "    }\n",
              "\n",
              "    [theme=dark] .colab-df-convert {\n",
              "      background-color: #3B4455;\n",
              "      fill: #D2E3FC;\n",
              "    }\n",
              "\n",
              "    [theme=dark] .colab-df-convert:hover {\n",
              "      background-color: #434B5C;\n",
              "      box-shadow: 0px 1px 3px 1px rgba(0, 0, 0, 0.15);\n",
              "      filter: drop-shadow(0px 1px 2px rgba(0, 0, 0, 0.3));\n",
              "      fill: #FFFFFF;\n",
              "    }\n",
              "  </style>\n",
              "\n",
              "      <script>\n",
              "        const buttonEl =\n",
              "          document.querySelector('#df-f20a8f0d-748c-4e42-a9ca-48e9decf2e48 button.colab-df-convert');\n",
              "        buttonEl.style.display =\n",
              "          google.colab.kernel.accessAllowed ? 'block' : 'none';\n",
              "\n",
              "        async function convertToInteractive(key) {\n",
              "          const element = document.querySelector('#df-f20a8f0d-748c-4e42-a9ca-48e9decf2e48');\n",
              "          const dataTable =\n",
              "            await google.colab.kernel.invokeFunction('convertToInteractive',\n",
              "                                                     [key], {});\n",
              "          if (!dataTable) return;\n",
              "\n",
              "          const docLinkHtml = 'Like what you see? Visit the ' +\n",
              "            '<a target=\"_blank\" href=https://colab.research.google.com/notebooks/data_table.ipynb>data table notebook</a>'\n",
              "            + ' to learn more about interactive tables.';\n",
              "          element.innerHTML = '';\n",
              "          dataTable['output_type'] = 'display_data';\n",
              "          await google.colab.output.renderOutput(dataTable, element);\n",
              "          const docLink = document.createElement('div');\n",
              "          docLink.innerHTML = docLinkHtml;\n",
              "          element.appendChild(docLink);\n",
              "        }\n",
              "      </script>\n",
              "    </div>\n",
              "  </div>\n",
              "  "
            ]
          },
          "metadata": {},
          "execution_count": 12
        }
      ]
    },
    {
      "cell_type": "code",
      "source": [
        "df_z=df1[df1['price']==0] # TABLE WITH PRICE AS 0\n",
        "df_z"
      ],
      "metadata": {
        "colab": {
          "base_uri": "https://localhost:8080/",
          "height": 1000
        },
        "id": "ajSm6H4sOATf",
        "outputId": "a02754e0-1746-4d10-84cf-3a58b5629125"
      },
      "execution_count": null,
      "outputs": [
        {
          "output_type": "execute_result",
          "data": {
            "text/plain": [
              "             id                                               name    host_id  \\\n",
              "23161  18750597  Huge Brooklyn Brownstone Living, Close to it all.    8993084   \n",
              "25433  20333471      ★Hostel Style Room | Ideal Traveling Buddies★  131697576   \n",
              "25634  20523843    MARTIAL LOFT 3: REDEMPTION (upstairs, 2nd room)   15787004   \n",
              "25753  20608117                    Sunny, Quiet Room in Greenpoint    1641537   \n",
              "25778  20624541      Modern apartment in the heart of Williamsburg   10132166   \n",
              "25794  20639628  Spacious comfortable master bedroom with nice ...   86327101   \n",
              "25795  20639792  Contemporary bedroom in brownstone with nice view   86327101   \n",
              "25796  20639914       Cozy yet spacious private brownstone bedroom   86327101   \n",
              "26259  20933849                              the best you can find   13709292   \n",
              "26841  21291569  Coliving in Brooklyn! Modern design / Shared room  101970559   \n",
              "26866  21304320             Best Coliving space ever! Shared room.  101970559   \n",
              "\n",
              "          host_name neighbourhood_group       neighbourhood  latitude  \\\n",
              "23161      Kimberly            Brooklyn  Bedford-Stuyvesant  40.69023   \n",
              "25433        Anisha               Bronx     East Morrisania  40.83296   \n",
              "25634  Martial Loft            Brooklyn            Bushwick  40.69467   \n",
              "25753        Lauren            Brooklyn          Greenpoint  40.72462   \n",
              "25778       Aymeric            Brooklyn        Williamsburg  40.70838   \n",
              "25794       Adeyemi            Brooklyn  Bedford-Stuyvesant  40.68173   \n",
              "25795       Adeyemi            Brooklyn  Bedford-Stuyvesant  40.68279   \n",
              "25796       Adeyemi            Brooklyn  Bedford-Stuyvesant  40.68258   \n",
              "26259        Qiuchi           Manhattan         Murray Hill  40.75091   \n",
              "26841        Sergii            Brooklyn            Bushwick  40.69211   \n",
              "26866        Sergii            Brooklyn            Bushwick  40.69166   \n",
              "\n",
              "       longitude        room_type  price  minimum_nights  number_of_reviews  \\\n",
              "23161  -73.95428     Private room      0               4                  1   \n",
              "25433  -73.88668     Private room      0               2                 55   \n",
              "25634  -73.92433     Private room      0               2                 16   \n",
              "25753  -73.94072     Private room      0               2                 12   \n",
              "25778  -73.94645  Entire home/apt      0               5                  3   \n",
              "25794  -73.91342     Private room      0               1                 93   \n",
              "25795  -73.91170     Private room      0               1                 95   \n",
              "25796  -73.91284     Private room      0               1                 95   \n",
              "26259  -73.97597  Entire home/apt      0               3                  0   \n",
              "26841  -73.90670      Shared room      0              30                  2   \n",
              "26866  -73.90928      Shared room      0              30                  5   \n",
              "\n",
              "      last_review  reviews_per_month  calculated_host_listings_count  \\\n",
              "23161  2018-01-06               0.05                               4   \n",
              "25433  2019-06-24               2.56                               4   \n",
              "25634  2019-05-18               0.71                               5   \n",
              "25753  2017-10-27               0.53                               2   \n",
              "25778  2018-01-02               0.15                               1   \n",
              "25794  2019-06-15               4.28                               6   \n",
              "25795  2019-06-21               4.37                               6   \n",
              "25796  2019-06-23               4.35                               6   \n",
              "26259           0               0.00                               1   \n",
              "26841  2019-06-22               0.11                               6   \n",
              "26866  2019-05-24               0.26                               6   \n",
              "\n",
              "       availability_365  \n",
              "23161                28  \n",
              "25433               127  \n",
              "25634                 0  \n",
              "25753                 0  \n",
              "25778                73  \n",
              "25794               176  \n",
              "25795               232  \n",
              "25796               222  \n",
              "26259                 0  \n",
              "26841               333  \n",
              "26866               139  "
            ],
            "text/html": [
              "\n",
              "  <div id=\"df-d62fc6d0-1ed5-4c8a-95f9-00a3be7e6269\">\n",
              "    <div class=\"colab-df-container\">\n",
              "      <div>\n",
              "<style scoped>\n",
              "    .dataframe tbody tr th:only-of-type {\n",
              "        vertical-align: middle;\n",
              "    }\n",
              "\n",
              "    .dataframe tbody tr th {\n",
              "        vertical-align: top;\n",
              "    }\n",
              "\n",
              "    .dataframe thead th {\n",
              "        text-align: right;\n",
              "    }\n",
              "</style>\n",
              "<table border=\"1\" class=\"dataframe\">\n",
              "  <thead>\n",
              "    <tr style=\"text-align: right;\">\n",
              "      <th></th>\n",
              "      <th>id</th>\n",
              "      <th>name</th>\n",
              "      <th>host_id</th>\n",
              "      <th>host_name</th>\n",
              "      <th>neighbourhood_group</th>\n",
              "      <th>neighbourhood</th>\n",
              "      <th>latitude</th>\n",
              "      <th>longitude</th>\n",
              "      <th>room_type</th>\n",
              "      <th>price</th>\n",
              "      <th>minimum_nights</th>\n",
              "      <th>number_of_reviews</th>\n",
              "      <th>last_review</th>\n",
              "      <th>reviews_per_month</th>\n",
              "      <th>calculated_host_listings_count</th>\n",
              "      <th>availability_365</th>\n",
              "    </tr>\n",
              "  </thead>\n",
              "  <tbody>\n",
              "    <tr>\n",
              "      <th>23161</th>\n",
              "      <td>18750597</td>\n",
              "      <td>Huge Brooklyn Brownstone Living, Close to it all.</td>\n",
              "      <td>8993084</td>\n",
              "      <td>Kimberly</td>\n",
              "      <td>Brooklyn</td>\n",
              "      <td>Bedford-Stuyvesant</td>\n",
              "      <td>40.69023</td>\n",
              "      <td>-73.95428</td>\n",
              "      <td>Private room</td>\n",
              "      <td>0</td>\n",
              "      <td>4</td>\n",
              "      <td>1</td>\n",
              "      <td>2018-01-06</td>\n",
              "      <td>0.05</td>\n",
              "      <td>4</td>\n",
              "      <td>28</td>\n",
              "    </tr>\n",
              "    <tr>\n",
              "      <th>25433</th>\n",
              "      <td>20333471</td>\n",
              "      <td>★Hostel Style Room | Ideal Traveling Buddies★</td>\n",
              "      <td>131697576</td>\n",
              "      <td>Anisha</td>\n",
              "      <td>Bronx</td>\n",
              "      <td>East Morrisania</td>\n",
              "      <td>40.83296</td>\n",
              "      <td>-73.88668</td>\n",
              "      <td>Private room</td>\n",
              "      <td>0</td>\n",
              "      <td>2</td>\n",
              "      <td>55</td>\n",
              "      <td>2019-06-24</td>\n",
              "      <td>2.56</td>\n",
              "      <td>4</td>\n",
              "      <td>127</td>\n",
              "    </tr>\n",
              "    <tr>\n",
              "      <th>25634</th>\n",
              "      <td>20523843</td>\n",
              "      <td>MARTIAL LOFT 3: REDEMPTION (upstairs, 2nd room)</td>\n",
              "      <td>15787004</td>\n",
              "      <td>Martial Loft</td>\n",
              "      <td>Brooklyn</td>\n",
              "      <td>Bushwick</td>\n",
              "      <td>40.69467</td>\n",
              "      <td>-73.92433</td>\n",
              "      <td>Private room</td>\n",
              "      <td>0</td>\n",
              "      <td>2</td>\n",
              "      <td>16</td>\n",
              "      <td>2019-05-18</td>\n",
              "      <td>0.71</td>\n",
              "      <td>5</td>\n",
              "      <td>0</td>\n",
              "    </tr>\n",
              "    <tr>\n",
              "      <th>25753</th>\n",
              "      <td>20608117</td>\n",
              "      <td>Sunny, Quiet Room in Greenpoint</td>\n",
              "      <td>1641537</td>\n",
              "      <td>Lauren</td>\n",
              "      <td>Brooklyn</td>\n",
              "      <td>Greenpoint</td>\n",
              "      <td>40.72462</td>\n",
              "      <td>-73.94072</td>\n",
              "      <td>Private room</td>\n",
              "      <td>0</td>\n",
              "      <td>2</td>\n",
              "      <td>12</td>\n",
              "      <td>2017-10-27</td>\n",
              "      <td>0.53</td>\n",
              "      <td>2</td>\n",
              "      <td>0</td>\n",
              "    </tr>\n",
              "    <tr>\n",
              "      <th>25778</th>\n",
              "      <td>20624541</td>\n",
              "      <td>Modern apartment in the heart of Williamsburg</td>\n",
              "      <td>10132166</td>\n",
              "      <td>Aymeric</td>\n",
              "      <td>Brooklyn</td>\n",
              "      <td>Williamsburg</td>\n",
              "      <td>40.70838</td>\n",
              "      <td>-73.94645</td>\n",
              "      <td>Entire home/apt</td>\n",
              "      <td>0</td>\n",
              "      <td>5</td>\n",
              "      <td>3</td>\n",
              "      <td>2018-01-02</td>\n",
              "      <td>0.15</td>\n",
              "      <td>1</td>\n",
              "      <td>73</td>\n",
              "    </tr>\n",
              "    <tr>\n",
              "      <th>25794</th>\n",
              "      <td>20639628</td>\n",
              "      <td>Spacious comfortable master bedroom with nice ...</td>\n",
              "      <td>86327101</td>\n",
              "      <td>Adeyemi</td>\n",
              "      <td>Brooklyn</td>\n",
              "      <td>Bedford-Stuyvesant</td>\n",
              "      <td>40.68173</td>\n",
              "      <td>-73.91342</td>\n",
              "      <td>Private room</td>\n",
              "      <td>0</td>\n",
              "      <td>1</td>\n",
              "      <td>93</td>\n",
              "      <td>2019-06-15</td>\n",
              "      <td>4.28</td>\n",
              "      <td>6</td>\n",
              "      <td>176</td>\n",
              "    </tr>\n",
              "    <tr>\n",
              "      <th>25795</th>\n",
              "      <td>20639792</td>\n",
              "      <td>Contemporary bedroom in brownstone with nice view</td>\n",
              "      <td>86327101</td>\n",
              "      <td>Adeyemi</td>\n",
              "      <td>Brooklyn</td>\n",
              "      <td>Bedford-Stuyvesant</td>\n",
              "      <td>40.68279</td>\n",
              "      <td>-73.91170</td>\n",
              "      <td>Private room</td>\n",
              "      <td>0</td>\n",
              "      <td>1</td>\n",
              "      <td>95</td>\n",
              "      <td>2019-06-21</td>\n",
              "      <td>4.37</td>\n",
              "      <td>6</td>\n",
              "      <td>232</td>\n",
              "    </tr>\n",
              "    <tr>\n",
              "      <th>25796</th>\n",
              "      <td>20639914</td>\n",
              "      <td>Cozy yet spacious private brownstone bedroom</td>\n",
              "      <td>86327101</td>\n",
              "      <td>Adeyemi</td>\n",
              "      <td>Brooklyn</td>\n",
              "      <td>Bedford-Stuyvesant</td>\n",
              "      <td>40.68258</td>\n",
              "      <td>-73.91284</td>\n",
              "      <td>Private room</td>\n",
              "      <td>0</td>\n",
              "      <td>1</td>\n",
              "      <td>95</td>\n",
              "      <td>2019-06-23</td>\n",
              "      <td>4.35</td>\n",
              "      <td>6</td>\n",
              "      <td>222</td>\n",
              "    </tr>\n",
              "    <tr>\n",
              "      <th>26259</th>\n",
              "      <td>20933849</td>\n",
              "      <td>the best you can find</td>\n",
              "      <td>13709292</td>\n",
              "      <td>Qiuchi</td>\n",
              "      <td>Manhattan</td>\n",
              "      <td>Murray Hill</td>\n",
              "      <td>40.75091</td>\n",
              "      <td>-73.97597</td>\n",
              "      <td>Entire home/apt</td>\n",
              "      <td>0</td>\n",
              "      <td>3</td>\n",
              "      <td>0</td>\n",
              "      <td>0</td>\n",
              "      <td>0.00</td>\n",
              "      <td>1</td>\n",
              "      <td>0</td>\n",
              "    </tr>\n",
              "    <tr>\n",
              "      <th>26841</th>\n",
              "      <td>21291569</td>\n",
              "      <td>Coliving in Brooklyn! Modern design / Shared room</td>\n",
              "      <td>101970559</td>\n",
              "      <td>Sergii</td>\n",
              "      <td>Brooklyn</td>\n",
              "      <td>Bushwick</td>\n",
              "      <td>40.69211</td>\n",
              "      <td>-73.90670</td>\n",
              "      <td>Shared room</td>\n",
              "      <td>0</td>\n",
              "      <td>30</td>\n",
              "      <td>2</td>\n",
              "      <td>2019-06-22</td>\n",
              "      <td>0.11</td>\n",
              "      <td>6</td>\n",
              "      <td>333</td>\n",
              "    </tr>\n",
              "    <tr>\n",
              "      <th>26866</th>\n",
              "      <td>21304320</td>\n",
              "      <td>Best Coliving space ever! Shared room.</td>\n",
              "      <td>101970559</td>\n",
              "      <td>Sergii</td>\n",
              "      <td>Brooklyn</td>\n",
              "      <td>Bushwick</td>\n",
              "      <td>40.69166</td>\n",
              "      <td>-73.90928</td>\n",
              "      <td>Shared room</td>\n",
              "      <td>0</td>\n",
              "      <td>30</td>\n",
              "      <td>5</td>\n",
              "      <td>2019-05-24</td>\n",
              "      <td>0.26</td>\n",
              "      <td>6</td>\n",
              "      <td>139</td>\n",
              "    </tr>\n",
              "  </tbody>\n",
              "</table>\n",
              "</div>\n",
              "      <button class=\"colab-df-convert\" onclick=\"convertToInteractive('df-d62fc6d0-1ed5-4c8a-95f9-00a3be7e6269')\"\n",
              "              title=\"Convert this dataframe to an interactive table.\"\n",
              "              style=\"display:none;\">\n",
              "        \n",
              "  <svg xmlns=\"http://www.w3.org/2000/svg\" height=\"24px\"viewBox=\"0 0 24 24\"\n",
              "       width=\"24px\">\n",
              "    <path d=\"M0 0h24v24H0V0z\" fill=\"none\"/>\n",
              "    <path d=\"M18.56 5.44l.94 2.06.94-2.06 2.06-.94-2.06-.94-.94-2.06-.94 2.06-2.06.94zm-11 1L8.5 8.5l.94-2.06 2.06-.94-2.06-.94L8.5 2.5l-.94 2.06-2.06.94zm10 10l.94 2.06.94-2.06 2.06-.94-2.06-.94-.94-2.06-.94 2.06-2.06.94z\"/><path d=\"M17.41 7.96l-1.37-1.37c-.4-.4-.92-.59-1.43-.59-.52 0-1.04.2-1.43.59L10.3 9.45l-7.72 7.72c-.78.78-.78 2.05 0 2.83L4 21.41c.39.39.9.59 1.41.59.51 0 1.02-.2 1.41-.59l7.78-7.78 2.81-2.81c.8-.78.8-2.07 0-2.86zM5.41 20L4 18.59l7.72-7.72 1.47 1.35L5.41 20z\"/>\n",
              "  </svg>\n",
              "      </button>\n",
              "      \n",
              "  <style>\n",
              "    .colab-df-container {\n",
              "      display:flex;\n",
              "      flex-wrap:wrap;\n",
              "      gap: 12px;\n",
              "    }\n",
              "\n",
              "    .colab-df-convert {\n",
              "      background-color: #E8F0FE;\n",
              "      border: none;\n",
              "      border-radius: 50%;\n",
              "      cursor: pointer;\n",
              "      display: none;\n",
              "      fill: #1967D2;\n",
              "      height: 32px;\n",
              "      padding: 0 0 0 0;\n",
              "      width: 32px;\n",
              "    }\n",
              "\n",
              "    .colab-df-convert:hover {\n",
              "      background-color: #E2EBFA;\n",
              "      box-shadow: 0px 1px 2px rgba(60, 64, 67, 0.3), 0px 1px 3px 1px rgba(60, 64, 67, 0.15);\n",
              "      fill: #174EA6;\n",
              "    }\n",
              "\n",
              "    [theme=dark] .colab-df-convert {\n",
              "      background-color: #3B4455;\n",
              "      fill: #D2E3FC;\n",
              "    }\n",
              "\n",
              "    [theme=dark] .colab-df-convert:hover {\n",
              "      background-color: #434B5C;\n",
              "      box-shadow: 0px 1px 3px 1px rgba(0, 0, 0, 0.15);\n",
              "      filter: drop-shadow(0px 1px 2px rgba(0, 0, 0, 0.3));\n",
              "      fill: #FFFFFF;\n",
              "    }\n",
              "  </style>\n",
              "\n",
              "      <script>\n",
              "        const buttonEl =\n",
              "          document.querySelector('#df-d62fc6d0-1ed5-4c8a-95f9-00a3be7e6269 button.colab-df-convert');\n",
              "        buttonEl.style.display =\n",
              "          google.colab.kernel.accessAllowed ? 'block' : 'none';\n",
              "\n",
              "        async function convertToInteractive(key) {\n",
              "          const element = document.querySelector('#df-d62fc6d0-1ed5-4c8a-95f9-00a3be7e6269');\n",
              "          const dataTable =\n",
              "            await google.colab.kernel.invokeFunction('convertToInteractive',\n",
              "                                                     [key], {});\n",
              "          if (!dataTable) return;\n",
              "\n",
              "          const docLinkHtml = 'Like what you see? Visit the ' +\n",
              "            '<a target=\"_blank\" href=https://colab.research.google.com/notebooks/data_table.ipynb>data table notebook</a>'\n",
              "            + ' to learn more about interactive tables.';\n",
              "          element.innerHTML = '';\n",
              "          dataTable['output_type'] = 'display_data';\n",
              "          await google.colab.output.renderOutput(dataTable, element);\n",
              "          const docLink = document.createElement('div');\n",
              "          docLink.innerHTML = docLinkHtml;\n",
              "          element.appendChild(docLink);\n",
              "        }\n",
              "      </script>\n",
              "    </div>\n",
              "  </div>\n",
              "  "
            ]
          },
          "metadata": {},
          "execution_count": 13
        }
      ]
    },
    {
      "cell_type": "code",
      "source": [
        "\n",
        "for i,x in df_z.iterrows():\n",
        "  print(x.neighbourhood_group,x.room_type)\n",
        "  for j,r in new.iterrows():\n",
        "    print(r.neighbourhood_group,r.room_type,r.price)"
      ],
      "metadata": {
        "colab": {
          "base_uri": "https://localhost:8080/"
        },
        "id": "C1tmi116EjQy",
        "outputId": "e41eae06-f435-4a53-c116-9037848d4bb0"
      },
      "execution_count": null,
      "outputs": [
        {
          "output_type": "stream",
          "name": "stdout",
          "text": [
            "Brooklyn Private room\n",
            "['Bronx'] ['Entire home/apt'] 127.5065963060686\n",
            "['Bronx'] ['Private room'] 66.78834355828221\n",
            "['Bronx'] ['Shared room'] 59.8\n",
            "['Brooklyn'] ['Entire home/apt'] 178.32754472225128\n",
            "['Brooklyn'] ['Private room'] 76.500098697197\n",
            "['Brooklyn'] ['Shared room'] 50.52784503631961\n",
            "['Manhattan'] ['Entire home/apt'] 249.23910902341086\n",
            "['Manhattan'] ['Private room'] 116.7766224004009\n",
            "['Manhattan'] ['Shared room'] 88.97708333333334\n",
            "['Queens'] ['Entire home/apt'] 147.05057251908397\n",
            "['Queens'] ['Private room'] 71.76245551601423\n",
            "['Queens'] ['Shared room'] 69.02020202020202\n",
            "['Staten Island'] ['Entire home/apt'] 173.8465909090909\n",
            "['Staten Island'] ['Private room'] 62.29255319148936\n",
            "['Staten Island'] ['Shared room'] 57.44444444444444\n",
            "Bronx Private room\n",
            "['Bronx'] ['Entire home/apt'] 127.5065963060686\n",
            "['Bronx'] ['Private room'] 66.78834355828221\n",
            "['Bronx'] ['Shared room'] 59.8\n",
            "['Brooklyn'] ['Entire home/apt'] 178.32754472225128\n",
            "['Brooklyn'] ['Private room'] 76.500098697197\n",
            "['Brooklyn'] ['Shared room'] 50.52784503631961\n",
            "['Manhattan'] ['Entire home/apt'] 249.23910902341086\n",
            "['Manhattan'] ['Private room'] 116.7766224004009\n",
            "['Manhattan'] ['Shared room'] 88.97708333333334\n",
            "['Queens'] ['Entire home/apt'] 147.05057251908397\n",
            "['Queens'] ['Private room'] 71.76245551601423\n",
            "['Queens'] ['Shared room'] 69.02020202020202\n",
            "['Staten Island'] ['Entire home/apt'] 173.8465909090909\n",
            "['Staten Island'] ['Private room'] 62.29255319148936\n",
            "['Staten Island'] ['Shared room'] 57.44444444444444\n",
            "Brooklyn Private room\n",
            "['Bronx'] ['Entire home/apt'] 127.5065963060686\n",
            "['Bronx'] ['Private room'] 66.78834355828221\n",
            "['Bronx'] ['Shared room'] 59.8\n",
            "['Brooklyn'] ['Entire home/apt'] 178.32754472225128\n",
            "['Brooklyn'] ['Private room'] 76.500098697197\n",
            "['Brooklyn'] ['Shared room'] 50.52784503631961\n",
            "['Manhattan'] ['Entire home/apt'] 249.23910902341086\n",
            "['Manhattan'] ['Private room'] 116.7766224004009\n",
            "['Manhattan'] ['Shared room'] 88.97708333333334\n",
            "['Queens'] ['Entire home/apt'] 147.05057251908397\n",
            "['Queens'] ['Private room'] 71.76245551601423\n",
            "['Queens'] ['Shared room'] 69.02020202020202\n",
            "['Staten Island'] ['Entire home/apt'] 173.8465909090909\n",
            "['Staten Island'] ['Private room'] 62.29255319148936\n",
            "['Staten Island'] ['Shared room'] 57.44444444444444\n",
            "Brooklyn Private room\n",
            "['Bronx'] ['Entire home/apt'] 127.5065963060686\n",
            "['Bronx'] ['Private room'] 66.78834355828221\n",
            "['Bronx'] ['Shared room'] 59.8\n",
            "['Brooklyn'] ['Entire home/apt'] 178.32754472225128\n",
            "['Brooklyn'] ['Private room'] 76.500098697197\n",
            "['Brooklyn'] ['Shared room'] 50.52784503631961\n",
            "['Manhattan'] ['Entire home/apt'] 249.23910902341086\n",
            "['Manhattan'] ['Private room'] 116.7766224004009\n",
            "['Manhattan'] ['Shared room'] 88.97708333333334\n",
            "['Queens'] ['Entire home/apt'] 147.05057251908397\n",
            "['Queens'] ['Private room'] 71.76245551601423\n",
            "['Queens'] ['Shared room'] 69.02020202020202\n",
            "['Staten Island'] ['Entire home/apt'] 173.8465909090909\n",
            "['Staten Island'] ['Private room'] 62.29255319148936\n",
            "['Staten Island'] ['Shared room'] 57.44444444444444\n",
            "Brooklyn Entire home/apt\n",
            "['Bronx'] ['Entire home/apt'] 127.5065963060686\n",
            "['Bronx'] ['Private room'] 66.78834355828221\n",
            "['Bronx'] ['Shared room'] 59.8\n",
            "['Brooklyn'] ['Entire home/apt'] 178.32754472225128\n",
            "['Brooklyn'] ['Private room'] 76.500098697197\n",
            "['Brooklyn'] ['Shared room'] 50.52784503631961\n",
            "['Manhattan'] ['Entire home/apt'] 249.23910902341086\n",
            "['Manhattan'] ['Private room'] 116.7766224004009\n",
            "['Manhattan'] ['Shared room'] 88.97708333333334\n",
            "['Queens'] ['Entire home/apt'] 147.05057251908397\n",
            "['Queens'] ['Private room'] 71.76245551601423\n",
            "['Queens'] ['Shared room'] 69.02020202020202\n",
            "['Staten Island'] ['Entire home/apt'] 173.8465909090909\n",
            "['Staten Island'] ['Private room'] 62.29255319148936\n",
            "['Staten Island'] ['Shared room'] 57.44444444444444\n",
            "Brooklyn Private room\n",
            "['Bronx'] ['Entire home/apt'] 127.5065963060686\n",
            "['Bronx'] ['Private room'] 66.78834355828221\n",
            "['Bronx'] ['Shared room'] 59.8\n",
            "['Brooklyn'] ['Entire home/apt'] 178.32754472225128\n",
            "['Brooklyn'] ['Private room'] 76.500098697197\n",
            "['Brooklyn'] ['Shared room'] 50.52784503631961\n",
            "['Manhattan'] ['Entire home/apt'] 249.23910902341086\n",
            "['Manhattan'] ['Private room'] 116.7766224004009\n",
            "['Manhattan'] ['Shared room'] 88.97708333333334\n",
            "['Queens'] ['Entire home/apt'] 147.05057251908397\n",
            "['Queens'] ['Private room'] 71.76245551601423\n",
            "['Queens'] ['Shared room'] 69.02020202020202\n",
            "['Staten Island'] ['Entire home/apt'] 173.8465909090909\n",
            "['Staten Island'] ['Private room'] 62.29255319148936\n",
            "['Staten Island'] ['Shared room'] 57.44444444444444\n",
            "Brooklyn Private room\n",
            "['Bronx'] ['Entire home/apt'] 127.5065963060686\n",
            "['Bronx'] ['Private room'] 66.78834355828221\n",
            "['Bronx'] ['Shared room'] 59.8\n",
            "['Brooklyn'] ['Entire home/apt'] 178.32754472225128\n",
            "['Brooklyn'] ['Private room'] 76.500098697197\n",
            "['Brooklyn'] ['Shared room'] 50.52784503631961\n",
            "['Manhattan'] ['Entire home/apt'] 249.23910902341086\n",
            "['Manhattan'] ['Private room'] 116.7766224004009\n",
            "['Manhattan'] ['Shared room'] 88.97708333333334\n",
            "['Queens'] ['Entire home/apt'] 147.05057251908397\n",
            "['Queens'] ['Private room'] 71.76245551601423\n",
            "['Queens'] ['Shared room'] 69.02020202020202\n",
            "['Staten Island'] ['Entire home/apt'] 173.8465909090909\n",
            "['Staten Island'] ['Private room'] 62.29255319148936\n",
            "['Staten Island'] ['Shared room'] 57.44444444444444\n",
            "Brooklyn Private room\n",
            "['Bronx'] ['Entire home/apt'] 127.5065963060686\n",
            "['Bronx'] ['Private room'] 66.78834355828221\n",
            "['Bronx'] ['Shared room'] 59.8\n",
            "['Brooklyn'] ['Entire home/apt'] 178.32754472225128\n",
            "['Brooklyn'] ['Private room'] 76.500098697197\n",
            "['Brooklyn'] ['Shared room'] 50.52784503631961\n",
            "['Manhattan'] ['Entire home/apt'] 249.23910902341086\n",
            "['Manhattan'] ['Private room'] 116.7766224004009\n",
            "['Manhattan'] ['Shared room'] 88.97708333333334\n",
            "['Queens'] ['Entire home/apt'] 147.05057251908397\n",
            "['Queens'] ['Private room'] 71.76245551601423\n",
            "['Queens'] ['Shared room'] 69.02020202020202\n",
            "['Staten Island'] ['Entire home/apt'] 173.8465909090909\n",
            "['Staten Island'] ['Private room'] 62.29255319148936\n",
            "['Staten Island'] ['Shared room'] 57.44444444444444\n",
            "Manhattan Entire home/apt\n",
            "['Bronx'] ['Entire home/apt'] 127.5065963060686\n",
            "['Bronx'] ['Private room'] 66.78834355828221\n",
            "['Bronx'] ['Shared room'] 59.8\n",
            "['Brooklyn'] ['Entire home/apt'] 178.32754472225128\n",
            "['Brooklyn'] ['Private room'] 76.500098697197\n",
            "['Brooklyn'] ['Shared room'] 50.52784503631961\n",
            "['Manhattan'] ['Entire home/apt'] 249.23910902341086\n",
            "['Manhattan'] ['Private room'] 116.7766224004009\n",
            "['Manhattan'] ['Shared room'] 88.97708333333334\n",
            "['Queens'] ['Entire home/apt'] 147.05057251908397\n",
            "['Queens'] ['Private room'] 71.76245551601423\n",
            "['Queens'] ['Shared room'] 69.02020202020202\n",
            "['Staten Island'] ['Entire home/apt'] 173.8465909090909\n",
            "['Staten Island'] ['Private room'] 62.29255319148936\n",
            "['Staten Island'] ['Shared room'] 57.44444444444444\n",
            "Brooklyn Shared room\n",
            "['Bronx'] ['Entire home/apt'] 127.5065963060686\n",
            "['Bronx'] ['Private room'] 66.78834355828221\n",
            "['Bronx'] ['Shared room'] 59.8\n",
            "['Brooklyn'] ['Entire home/apt'] 178.32754472225128\n",
            "['Brooklyn'] ['Private room'] 76.500098697197\n",
            "['Brooklyn'] ['Shared room'] 50.52784503631961\n",
            "['Manhattan'] ['Entire home/apt'] 249.23910902341086\n",
            "['Manhattan'] ['Private room'] 116.7766224004009\n",
            "['Manhattan'] ['Shared room'] 88.97708333333334\n",
            "['Queens'] ['Entire home/apt'] 147.05057251908397\n",
            "['Queens'] ['Private room'] 71.76245551601423\n",
            "['Queens'] ['Shared room'] 69.02020202020202\n",
            "['Staten Island'] ['Entire home/apt'] 173.8465909090909\n",
            "['Staten Island'] ['Private room'] 62.29255319148936\n",
            "['Staten Island'] ['Shared room'] 57.44444444444444\n",
            "Brooklyn Shared room\n",
            "['Bronx'] ['Entire home/apt'] 127.5065963060686\n",
            "['Bronx'] ['Private room'] 66.78834355828221\n",
            "['Bronx'] ['Shared room'] 59.8\n",
            "['Brooklyn'] ['Entire home/apt'] 178.32754472225128\n",
            "['Brooklyn'] ['Private room'] 76.500098697197\n",
            "['Brooklyn'] ['Shared room'] 50.52784503631961\n",
            "['Manhattan'] ['Entire home/apt'] 249.23910902341086\n",
            "['Manhattan'] ['Private room'] 116.7766224004009\n",
            "['Manhattan'] ['Shared room'] 88.97708333333334\n",
            "['Queens'] ['Entire home/apt'] 147.05057251908397\n",
            "['Queens'] ['Private room'] 71.76245551601423\n",
            "['Queens'] ['Shared room'] 69.02020202020202\n",
            "['Staten Island'] ['Entire home/apt'] 173.8465909090909\n",
            "['Staten Island'] ['Private room'] 62.29255319148936\n",
            "['Staten Island'] ['Shared room'] 57.44444444444444\n"
          ]
        }
      ]
    },
    {
      "cell_type": "code",
      "source": [
        "\n",
        "for index, row in df2.iterrows():\n",
        "    if row['price']==0:\n",
        "      for i,r in new.iterrows():\n",
        "        if row['neighbourhood_group']==r['neighbourhood_group'] and row['room_type']==r['room_type']:\n",
        "          row['price']=r['price']\n"
      ],
      "metadata": {
        "id": "v2ZTJI-n9aKF"
      },
      "execution_count": null,
      "outputs": []
    },
    {
      "cell_type": "markdown",
      "source": [
        "**1. About Host and Area**"
      ],
      "metadata": {
        "id": "hS3ViEiIvVKk"
      }
    },
    {
      "cell_type": "code",
      "source": [
        "df1['host_name'].nunique() #11452 Hosts are present in the data"
      ],
      "metadata": {
        "colab": {
          "base_uri": "https://localhost:8080/"
        },
        "id": "sACUvcm_tUUR",
        "outputId": "8711d42c-bd3b-43e1-9bfb-4e91ebda1143"
      },
      "execution_count": null,
      "outputs": [
        {
          "output_type": "execute_result",
          "data": {
            "text/plain": [
              "11452"
            ]
          },
          "metadata": {},
          "execution_count": 16
        }
      ]
    },
    {
      "cell_type": "code",
      "source": [
        "h=df1['host_name'].value_counts()\n",
        "plt.figure(figsize=(12,6))\n",
        "h[0:10].plot.bar()"
      ],
      "metadata": {
        "colab": {
          "base_uri": "https://localhost:8080/",
          "height": 447
        },
        "id": "inDc0C5TA_8y",
        "outputId": "0fc3d9b4-2cb5-4b81-874d-955510f00353"
      },
      "execution_count": null,
      "outputs": [
        {
          "output_type": "execute_result",
          "data": {
            "text/plain": [
              "<matplotlib.axes._subplots.AxesSubplot at 0x7f3b28c2e710>"
            ]
          },
          "metadata": {},
          "execution_count": 17
        },
        {
          "output_type": "display_data",
          "data": {
            "text/plain": [
              "<Figure size 864x432 with 1 Axes>"
            ],
            "image/png": "[encoded data removed]"
          },
          "metadata": {
            "needs_background": "light"
          }
        }
      ]
    },
    {
      "cell_type": "markdown",
      "source": [
        "THESE ARE THE NAME OF THE TOP 10 HOST"
      ],
      "metadata": {
        "id": "jCb12sPIuf4R"
      }
    },
    {
      "cell_type": "code",
      "source": [
        "df1.loc[df1['host_name'] == 'Michael', 'neighbourhood_group'].unique()  # Host name with Michael provides the maximum number of Rooms in different neighbour group"
      ],
      "metadata": {
        "colab": {
          "base_uri": "https://localhost:8080/"
        },
        "id": "KVM7YYeKz0HI",
        "outputId": "42634047-5f5a-4e19-91cf-3aee63c7bc7a"
      },
      "execution_count": null,
      "outputs": [
        {
          "output_type": "execute_result",
          "data": {
            "text/plain": [
              "array(['Brooklyn', 'Manhattan', 'Queens', 'Bronx', 'Staten Island'],\n",
              "      dtype=object)"
            ]
          },
          "metadata": {},
          "execution_count": 18
        }
      ]
    },
    {
      "cell_type": "code",
      "source": [
        "count=df1.neighbourhood_group.value_counts()\n",
        "count"
      ],
      "metadata": {
        "colab": {
          "base_uri": "https://localhost:8080/"
        },
        "id": "_bjrllnovDW-",
        "outputId": "a7190d62-4407-40d5-e52c-68fd3c992f17"
      },
      "execution_count": null,
      "outputs": [
        {
          "output_type": "execute_result",
          "data": {
            "text/plain": [
              "Manhattan        21661\n",
              "Brooklyn         20104\n",
              "Queens            5666\n",
              "Bronx             1091\n",
              "Staten Island      373\n",
              "Name: neighbourhood_group, dtype: int64"
            ]
          },
          "metadata": {},
          "execution_count": 19
        }
      ]
    },
    {
      "cell_type": "code",
      "source": [
        "count.plot(kind=\"pie\",autopct='%0.1f%%')"
      ],
      "metadata": {
        "colab": {
          "base_uri": "https://localhost:8080/",
          "height": 265
        },
        "id": "TsWN40z2xAoz",
        "outputId": "32abb659-4328-4406-e181-74e3fa9527d4"
      },
      "execution_count": null,
      "outputs": [
        {
          "output_type": "execute_result",
          "data": {
            "text/plain": [
              "<matplotlib.axes._subplots.AxesSubplot at 0x7f3b2828dc50>"
            ]
          },
          "metadata": {},
          "execution_count": 20
        },
        {
          "output_type": "display_data",
          "data": {
            "text/plain": [
              "<Figure size 432x288 with 1 Axes>"
            ],
            "image/png": "[encoded data removed]"
          },
          "metadata": {}
        }
      ]
    },
    {
      "cell_type": "code",
      "source": [
        "plt.figure(figsize=(12,5))\n",
        "count.plot.bar()"
      ],
      "metadata": {
        "colab": {
          "base_uri": "https://localhost:8080/",
          "height": 392
        },
        "id": "E9TOMDcmr-ka",
        "outputId": "c61a1614-0325-4ee8-d3db-83ed6778f01d"
      },
      "execution_count": null,
      "outputs": [
        {
          "output_type": "execute_result",
          "data": {
            "text/plain": [
              "<matplotlib.axes._subplots.AxesSubplot at 0x7f3b27db7ad0>"
            ]
          },
          "metadata": {},
          "execution_count": 21
        },
        {
          "output_type": "display_data",
          "data": {
            "text/plain": [
              "<Figure size 864x360 with 1 Axes>"
            ],
            "image/png": "[encoded data removed]"
          },
          "metadata": {
            "needs_background": "light"
          }
        }
      ]
    },
    {
      "cell_type": "markdown",
      "source": [
        "THE ABOVE GRAPHICAL REPRESENTATIONS SHOW THAT THE HIGHEST NUMBER OF HOSTS ARE FROM MANHATTAN FOLLWED BY BROOKLY AND ETC. \n",
        "THE LEAST NUMBER OF HOSTS ARE FROM STATEN ISLAND"
      ],
      "metadata": {
        "id": "dacSG3w7xo5n"
      }
    },
    {
      "cell_type": "code",
      "source": [],
      "metadata": {
        "id": "mF3eV_pImkP4"
      },
      "execution_count": null,
      "outputs": []
    },
    {
      "cell_type": "markdown",
      "source": [
        "**2.What can we learn from predictions? (ex: locations, prices, reviews, etc)**"
      ],
      "metadata": {
        "id": "63CGIKmOzA3b"
      }
    },
    {
      "cell_type": "markdown",
      "source": [
        "Price and Availability"
      ],
      "metadata": {
        "id": "e7Z-NqGoNfEU"
      }
    },
    {
      "cell_type": "code",
      "source": [
        "df1['minimum_price']=df1['minimum_nights']*df1['price']\n",
        "df1[['minimum_price']].describe()\n",
        "df2=df1.query('minimum_price == 0')\n",
        "df2.shape[0]  #There are 11 rows with minimum price as 0\n",
        "df3=df1.groupby(['neighbourhood_group']).agg({'price':'mean','availability_365':'mean'})#Mean price and mean availability of each neighbourhood group\n",
        "plt.figure(figsize=(10,5))\n",
        "df3.plot.bar()"
      ],
      "metadata": {
        "colab": {
          "base_uri": "https://localhost:8080/",
          "height": 371
        },
        "id": "6dJgcguCzF5y",
        "outputId": "3fb0e90b-867e-4da6-c085-afbbc43954c9"
      },
      "execution_count": null,
      "outputs": [
        {
          "output_type": "execute_result",
          "data": {
            "text/plain": [
              "<matplotlib.axes._subplots.AxesSubplot at 0x7f3b27d3dc90>"
            ]
          },
          "metadata": {},
          "execution_count": 22
        },
        {
          "output_type": "display_data",
          "data": {
            "text/plain": [
              "<Figure size 720x360 with 0 Axes>"
            ]
          },
          "metadata": {}
        },
        {
          "output_type": "display_data",
          "data": {
            "text/plain": [
              "<Figure size 432x288 with 1 Axes>"
            ],
            "image/png": "[encoded data removed]"
          },
          "metadata": {
            "needs_background": "light"
          }
        }
      ]
    },
    {
      "cell_type": "markdown",
      "source": [
        "**SO ACCORDING TO THE GRAPH ABOVE, THE AVERAGE PRICE AND AVERAGE AVAILABILITY IN *BRONX*,*QUEENS* AND *STATEN* *ISLAND* SUITED BEST FOR A CUSTOMER WHEREAS IN *BROOKLY* THE AVERAGE PRICE IS MORE AND AVERAGE AVAILABILTY IS THE LEAST AND IN *MANHATTAN* THE AVERAGE PRICE IS THE HIGHEST AND AVERAGE AVAILABILITY IS THE SECOND LEAST**"
      ],
      "metadata": {
        "id": "X8SSxsDxHRMO"
      }
    },
    {
      "cell_type": "markdown",
      "source": [
        "Reviews Analysis"
      ],
      "metadata": {
        "id": "0XfY69IgNxc7"
      }
    },
    {
      "cell_type": "code",
      "source": [
        "rev=df1.groupby(['neighbourhood_group']).agg({'reviews_per_month':\"mean\"})\n",
        "rev1=rev.sort_values('reviews_per_month', ascending=False)\n",
        "fig=plt.figure(figsize=(10,5))\n",
        "plt.title(\"Average Reviews Per Month\")\n",
        "plt.plot(rev)\n",
        "plt.title(\"Average price\")"
      ],
      "metadata": {
        "colab": {
          "base_uri": "https://localhost:8080/",
          "height": 353
        },
        "id": "ac9rc2TwER-H",
        "outputId": "d503dc02-2e8b-472a-bef3-12f8429b9d95"
      },
      "execution_count": null,
      "outputs": [
        {
          "output_type": "execute_result",
          "data": {
            "text/plain": [
              "Text(0.5, 1.0, 'Average price')"
            ]
          },
          "metadata": {},
          "execution_count": 23
        },
        {
          "output_type": "display_data",
          "data": {
            "text/plain": [
              "<Figure size 720x360 with 1 Axes>"
            ],
            "image/png": "[encoded data removed]"
          },
          "metadata": {
            "needs_background": "light"
          }
        }
      ]
    },
    {
      "cell_type": "code",
      "source": [
        "rev1"
      ],
      "metadata": {
        "colab": {
          "base_uri": "https://localhost:8080/",
          "height": 238
        },
        "id": "A9RggjFQMv48",
        "outputId": "513fe58f-d52a-45f2-9d54-48f6b26a6897"
      },
      "execution_count": null,
      "outputs": [
        {
          "output_type": "execute_result",
          "data": {
            "text/plain": [
              "                     reviews_per_month\n",
              "neighbourhood_group                   \n",
              "Staten Island                 1.576381\n",
              "Queens                        1.567076\n",
              "Bronx                         1.475655\n",
              "Brooklyn                      1.049790\n",
              "Manhattan                     0.976782"
            ],
            "text/html": [
              "\n",
              "  <div id=\"df-e5ee27a6-47a1-4eae-9815-19495f80af4d\">\n",
              "    <div class=\"colab-df-container\">\n",
              "      <div>\n",
              "<style scoped>\n",
              "    .dataframe tbody tr th:only-of-type {\n",
              "        vertical-align: middle;\n",
              "    }\n",
              "\n",
              "    .dataframe tbody tr th {\n",
              "        vertical-align: top;\n",
              "    }\n",
              "\n",
              "    .dataframe thead th {\n",
              "        text-align: right;\n",
              "    }\n",
              "</style>\n",
              "<table border=\"1\" class=\"dataframe\">\n",
              "  <thead>\n",
              "    <tr style=\"text-align: right;\">\n",
              "      <th></th>\n",
              "      <th>reviews_per_month</th>\n",
              "    </tr>\n",
              "    <tr>\n",
              "      <th>neighbourhood_group</th>\n",
              "      <th></th>\n",
              "    </tr>\n",
              "  </thead>\n",
              "  <tbody>\n",
              "    <tr>\n",
              "      <th>Staten Island</th>\n",
              "      <td>1.576381</td>\n",
              "    </tr>\n",
              "    <tr>\n",
              "      <th>Queens</th>\n",
              "      <td>1.567076</td>\n",
              "    </tr>\n",
              "    <tr>\n",
              "      <th>Bronx</th>\n",
              "      <td>1.475655</td>\n",
              "    </tr>\n",
              "    <tr>\n",
              "      <th>Brooklyn</th>\n",
              "      <td>1.049790</td>\n",
              "    </tr>\n",
              "    <tr>\n",
              "      <th>Manhattan</th>\n",
              "      <td>0.976782</td>\n",
              "    </tr>\n",
              "  </tbody>\n",
              "</table>\n",
              "</div>\n",
              "      <button class=\"colab-df-convert\" onclick=\"convertToInteractive('df-e5ee27a6-47a1-4eae-9815-19495f80af4d')\"\n",
              "              title=\"Convert this dataframe to an interactive table.\"\n",
              "              style=\"display:none;\">\n",
              "        \n",
              "  <svg xmlns=\"http://www.w3.org/2000/svg\" height=\"24px\"viewBox=\"0 0 24 24\"\n",
              "       width=\"24px\">\n",
              "    <path d=\"M0 0h24v24H0V0z\" fill=\"none\"/>\n",
              "    <path d=\"M18.56 5.44l.94 2.06.94-2.06 2.06-.94-2.06-.94-.94-2.06-.94 2.06-2.06.94zm-11 1L8.5 8.5l.94-2.06 2.06-.94-2.06-.94L8.5 2.5l-.94 2.06-2.06.94zm10 10l.94 2.06.94-2.06 2.06-.94-2.06-.94-.94-2.06-.94 2.06-2.06.94z\"/><path d=\"M17.41 7.96l-1.37-1.37c-.4-.4-.92-.59-1.43-.59-.52 0-1.04.2-1.43.59L10.3 9.45l-7.72 7.72c-.78.78-.78 2.05 0 2.83L4 21.41c.39.39.9.59 1.41.59.51 0 1.02-.2 1.41-.59l7.78-7.78 2.81-2.81c.8-.78.8-2.07 0-2.86zM5.41 20L4 18.59l7.72-7.72 1.47 1.35L5.41 20z\"/>\n",
              "  </svg>\n",
              "      </button>\n",
              "      \n",
              "  <style>\n",
              "    .colab-df-container {\n",
              "      display:flex;\n",
              "      flex-wrap:wrap;\n",
              "      gap: 12px;\n",
              "    }\n",
              "\n",
              "    .colab-df-convert {\n",
              "      background-color: #E8F0FE;\n",
              "      border: none;\n",
              "      border-radius: 50%;\n",
              "      cursor: pointer;\n",
              "      display: none;\n",
              "      fill: #1967D2;\n",
              "      height: 32px;\n",
              "      padding: 0 0 0 0;\n",
              "      width: 32px;\n",
              "    }\n",
              "\n",
              "    .colab-df-convert:hover {\n",
              "      background-color: #E2EBFA;\n",
              "      box-shadow: 0px 1px 2px rgba(60, 64, 67, 0.3), 0px 1px 3px 1px rgba(60, 64, 67, 0.15);\n",
              "      fill: #174EA6;\n",
              "    }\n",
              "\n",
              "    [theme=dark] .colab-df-convert {\n",
              "      background-color: #3B4455;\n",
              "      fill: #D2E3FC;\n",
              "    }\n",
              "\n",
              "    [theme=dark] .colab-df-convert:hover {\n",
              "      background-color: #434B5C;\n",
              "      box-shadow: 0px 1px 3px 1px rgba(0, 0, 0, 0.15);\n",
              "      filter: drop-shadow(0px 1px 2px rgba(0, 0, 0, 0.3));\n",
              "      fill: #FFFFFF;\n",
              "    }\n",
              "  </style>\n",
              "\n",
              "      <script>\n",
              "        const buttonEl =\n",
              "          document.querySelector('#df-e5ee27a6-47a1-4eae-9815-19495f80af4d button.colab-df-convert');\n",
              "        buttonEl.style.display =\n",
              "          google.colab.kernel.accessAllowed ? 'block' : 'none';\n",
              "\n",
              "        async function convertToInteractive(key) {\n",
              "          const element = document.querySelector('#df-e5ee27a6-47a1-4eae-9815-19495f80af4d');\n",
              "          const dataTable =\n",
              "            await google.colab.kernel.invokeFunction('convertToInteractive',\n",
              "                                                     [key], {});\n",
              "          if (!dataTable) return;\n",
              "\n",
              "          const docLinkHtml = 'Like what you see? Visit the ' +\n",
              "            '<a target=\"_blank\" href=https://colab.research.google.com/notebooks/data_table.ipynb>data table notebook</a>'\n",
              "            + ' to learn more about interactive tables.';\n",
              "          element.innerHTML = '';\n",
              "          dataTable['output_type'] = 'display_data';\n",
              "          await google.colab.output.renderOutput(dataTable, element);\n",
              "          const docLink = document.createElement('div');\n",
              "          docLink.innerHTML = docLinkHtml;\n",
              "          element.appendChild(docLink);\n",
              "        }\n",
              "      </script>\n",
              "    </div>\n",
              "  </div>\n",
              "  "
            ]
          },
          "metadata": {},
          "execution_count": 24
        }
      ]
    },
    {
      "cell_type": "markdown",
      "source": [
        "AS WE CAN OBSERVE FROM THE ABOVE TABLE AND THE GRAPH THE CUSTOMER REVIEW PER MONTH IS MORE IN STATEN ISLAND FOLLOWED BY QUEENS AND THEN BRONX WHICH MEANS CUSTOMERS ARE MORE INCLINED TOWARDS THESE PLACES AND THE REASON IS THE LOWER AVERAGE PRICE AND HIGHER AVERAGE AVAILABILITY.\n",
        "MANHATTAN IS THE COSTLIEST AND WITH THE LEAST AVERAGE AVAILABILITY AND IS FOLLOWED BY BROOKLYN.\n"
      ],
      "metadata": {
        "id": "VPvZ-w8AJHlf"
      }
    },
    {
      "cell_type": "code",
      "source": [
        "df1.groupby(['neighbourhood_group']).agg({'neighbourhood':'items'})#Neighbour hood of Particular neighbourhood group"
      ],
      "metadata": {
        "colab": {
          "base_uri": "https://localhost:8080/",
          "height": 312
        },
        "id": "1tEDrAcmNcat",
        "outputId": "e758a0b1-cd41-4305-88c6-89af6a48fc3c"
      },
      "execution_count": null,
      "outputs": [
        {
          "output_type": "error",
          "ename": "AttributeError",
          "evalue": "ignored",
          "traceback": [
            "\u001b[0;31m---------------------------------------------------------------------------\u001b[0m",
            "\u001b[0;31mAttributeError\u001b[0m                            Traceback (most recent call last)",
            "\u001b[0;32m<ipython-input-25-5ec2424bfdb4>\u001b[0m in \u001b[0;36m<module>\u001b[0;34m\u001b[0m\n\u001b[0;32m----> 1\u001b[0;31m \u001b[0mdf1\u001b[0m\u001b[0;34m.\u001b[0m\u001b[0mgroupby\u001b[0m\u001b[0;34m(\u001b[0m\u001b[0;34m[\u001b[0m\u001b[0;34m'neighbourhood_group'\u001b[0m\u001b[0;34m]\u001b[0m\u001b[0;34m)\u001b[0m\u001b[0;34m.\u001b[0m\u001b[0magg\u001b[0m\u001b[0;34m(\u001b[0m\u001b[0;34m{\u001b[0m\u001b[0;34m'neighbourhood'\u001b[0m\u001b[0;34m:\u001b[0m\u001b[0;34m'items'\u001b[0m\u001b[0;34m}\u001b[0m\u001b[0;34m)\u001b[0m\u001b[0;31m#Neighbour hood of Particular neighbourhood group\u001b[0m\u001b[0;34m\u001b[0m\u001b[0;34m\u001b[0m\u001b[0m\n\u001b[0m",
            "\u001b[0;32m/usr/local/lib/python3.7/dist-packages/pandas/core/groupby/generic.py\u001b[0m in \u001b[0;36maggregate\u001b[0;34m(self, func, engine, engine_kwargs, *args, **kwargs)\u001b[0m\n\u001b[1;32m    977\u001b[0m \u001b[0;34m\u001b[0m\u001b[0m\n\u001b[1;32m    978\u001b[0m         \u001b[0mop\u001b[0m \u001b[0;34m=\u001b[0m \u001b[0mGroupByApply\u001b[0m\u001b[0;34m(\u001b[0m\u001b[0mself\u001b[0m\u001b[0;34m,\u001b[0m \u001b[0mfunc\u001b[0m\u001b[0;34m,\u001b[0m \u001b[0margs\u001b[0m\u001b[0;34m,\u001b[0m \u001b[0mkwargs\u001b[0m\u001b[0;34m)\u001b[0m\u001b[0;34m\u001b[0m\u001b[0;34m\u001b[0m\u001b[0m\n\u001b[0;32m--> 979\u001b[0;31m         \u001b[0mresult\u001b[0m \u001b[0;34m=\u001b[0m \u001b[0mop\u001b[0m\u001b[0;34m.\u001b[0m\u001b[0magg\u001b[0m\u001b[0;34m(\u001b[0m\u001b[0;34m)\u001b[0m\u001b[0;34m\u001b[0m\u001b[0;34m\u001b[0m\u001b[0m\n\u001b[0m\u001b[1;32m    980\u001b[0m         \u001b[0;32mif\u001b[0m \u001b[0;32mnot\u001b[0m \u001b[0mis_dict_like\u001b[0m\u001b[0;34m(\u001b[0m\u001b[0mfunc\u001b[0m\u001b[0;34m)\u001b[0m \u001b[0;32mand\u001b[0m \u001b[0mresult\u001b[0m \u001b[0;32mis\u001b[0m \u001b[0;32mnot\u001b[0m \u001b[0;32mNone\u001b[0m\u001b[0;34m:\u001b[0m\u001b[0;34m\u001b[0m\u001b[0;34m\u001b[0m\u001b[0m\n\u001b[1;32m    981\u001b[0m             \u001b[0;32mreturn\u001b[0m \u001b[0mresult\u001b[0m\u001b[0;34m\u001b[0m\u001b[0;34m\u001b[0m\u001b[0m\n",
            "\u001b[0;32m/usr/local/lib/python3.7/dist-packages/pandas/core/apply.py\u001b[0m in \u001b[0;36magg\u001b[0;34m(self)\u001b[0m\n\u001b[1;32m    159\u001b[0m \u001b[0;34m\u001b[0m\u001b[0m\n\u001b[1;32m    160\u001b[0m         \u001b[0;32mif\u001b[0m \u001b[0mis_dict_like\u001b[0m\u001b[0;34m(\u001b[0m\u001b[0marg\u001b[0m\u001b[0;34m)\u001b[0m\u001b[0;34m:\u001b[0m\u001b[0;34m\u001b[0m\u001b[0;34m\u001b[0m\u001b[0m\n\u001b[0;32m--> 161\u001b[0;31m             \u001b[0;32mreturn\u001b[0m \u001b[0mself\u001b[0m\u001b[0;34m.\u001b[0m\u001b[0magg_dict_like\u001b[0m\u001b[0;34m(\u001b[0m\u001b[0;34m)\u001b[0m\u001b[0;34m\u001b[0m\u001b[0;34m\u001b[0m\u001b[0m\n\u001b[0m\u001b[1;32m    162\u001b[0m         \u001b[0;32melif\u001b[0m \u001b[0mis_list_like\u001b[0m\u001b[0;34m(\u001b[0m\u001b[0marg\u001b[0m\u001b[0;34m)\u001b[0m\u001b[0;34m:\u001b[0m\u001b[0;34m\u001b[0m\u001b[0;34m\u001b[0m\u001b[0m\n\u001b[1;32m    163\u001b[0m             \u001b[0;31m# we require a list, but not a 'str'\u001b[0m\u001b[0;34m\u001b[0m\u001b[0;34m\u001b[0m\u001b[0;34m\u001b[0m\u001b[0m\n",
            "\u001b[0;32m/usr/local/lib/python3.7/dist-packages/pandas/core/apply.py\u001b[0m in \u001b[0;36magg_dict_like\u001b[0;34m(self)\u001b[0m\n\u001b[1;32m    434\u001b[0m             \u001b[0;31m# key used for column selection and output\u001b[0m\u001b[0;34m\u001b[0m\u001b[0;34m\u001b[0m\u001b[0;34m\u001b[0m\u001b[0m\n\u001b[1;32m    435\u001b[0m             results = {\n\u001b[0;32m--> 436\u001b[0;31m                 \u001b[0mkey\u001b[0m\u001b[0;34m:\u001b[0m \u001b[0mobj\u001b[0m\u001b[0;34m.\u001b[0m\u001b[0m_gotitem\u001b[0m\u001b[0;34m(\u001b[0m\u001b[0mkey\u001b[0m\u001b[0;34m,\u001b[0m \u001b[0mndim\u001b[0m\u001b[0;34m=\u001b[0m\u001b[0;36m1\u001b[0m\u001b[0;34m)\u001b[0m\u001b[0;34m.\u001b[0m\u001b[0magg\u001b[0m\u001b[0;34m(\u001b[0m\u001b[0mhow\u001b[0m\u001b[0;34m)\u001b[0m \u001b[0;32mfor\u001b[0m \u001b[0mkey\u001b[0m\u001b[0;34m,\u001b[0m \u001b[0mhow\u001b[0m \u001b[0;32min\u001b[0m \u001b[0marg\u001b[0m\u001b[0;34m.\u001b[0m\u001b[0mitems\u001b[0m\u001b[0;34m(\u001b[0m\u001b[0;34m)\u001b[0m\u001b[0;34m\u001b[0m\u001b[0;34m\u001b[0m\u001b[0m\n\u001b[0m\u001b[1;32m    437\u001b[0m             }\n\u001b[1;32m    438\u001b[0m \u001b[0;34m\u001b[0m\u001b[0m\n",
            "\u001b[0;32m/usr/local/lib/python3.7/dist-packages/pandas/core/apply.py\u001b[0m in \u001b[0;36m<dictcomp>\u001b[0;34m(.0)\u001b[0m\n\u001b[1;32m    434\u001b[0m             \u001b[0;31m# key used for column selection and output\u001b[0m\u001b[0;34m\u001b[0m\u001b[0;34m\u001b[0m\u001b[0;34m\u001b[0m\u001b[0m\n\u001b[1;32m    435\u001b[0m             results = {\n\u001b[0;32m--> 436\u001b[0;31m                 \u001b[0mkey\u001b[0m\u001b[0;34m:\u001b[0m \u001b[0mobj\u001b[0m\u001b[0;34m.\u001b[0m\u001b[0m_gotitem\u001b[0m\u001b[0;34m(\u001b[0m\u001b[0mkey\u001b[0m\u001b[0;34m,\u001b[0m \u001b[0mndim\u001b[0m\u001b[0;34m=\u001b[0m\u001b[0;36m1\u001b[0m\u001b[0;34m)\u001b[0m\u001b[0;34m.\u001b[0m\u001b[0magg\u001b[0m\u001b[0;34m(\u001b[0m\u001b[0mhow\u001b[0m\u001b[0;34m)\u001b[0m \u001b[0;32mfor\u001b[0m \u001b[0mkey\u001b[0m\u001b[0;34m,\u001b[0m \u001b[0mhow\u001b[0m \u001b[0;32min\u001b[0m \u001b[0marg\u001b[0m\u001b[0;34m.\u001b[0m\u001b[0mitems\u001b[0m\u001b[0;34m(\u001b[0m\u001b[0;34m)\u001b[0m\u001b[0;34m\u001b[0m\u001b[0;34m\u001b[0m\u001b[0m\n\u001b[0m\u001b[1;32m    437\u001b[0m             }\n\u001b[1;32m    438\u001b[0m \u001b[0;34m\u001b[0m\u001b[0m\n",
            "\u001b[0;32m/usr/local/lib/python3.7/dist-packages/pandas/core/groupby/generic.py\u001b[0m in \u001b[0;36maggregate\u001b[0;34m(self, func, engine, engine_kwargs, *args, **kwargs)\u001b[0m\n\u001b[1;32m    241\u001b[0m \u001b[0;34m\u001b[0m\u001b[0m\n\u001b[1;32m    242\u001b[0m         \u001b[0;32mif\u001b[0m \u001b[0misinstance\u001b[0m\u001b[0;34m(\u001b[0m\u001b[0mfunc\u001b[0m\u001b[0;34m,\u001b[0m \u001b[0mstr\u001b[0m\u001b[0;34m)\u001b[0m\u001b[0;34m:\u001b[0m\u001b[0;34m\u001b[0m\u001b[0;34m\u001b[0m\u001b[0m\n\u001b[0;32m--> 243\u001b[0;31m             \u001b[0;32mreturn\u001b[0m \u001b[0mgetattr\u001b[0m\u001b[0;34m(\u001b[0m\u001b[0mself\u001b[0m\u001b[0;34m,\u001b[0m \u001b[0mfunc\u001b[0m\u001b[0;34m)\u001b[0m\u001b[0;34m(\u001b[0m\u001b[0;34m*\u001b[0m\u001b[0margs\u001b[0m\u001b[0;34m,\u001b[0m \u001b[0;34m**\u001b[0m\u001b[0mkwargs\u001b[0m\u001b[0;34m)\u001b[0m\u001b[0;34m\u001b[0m\u001b[0;34m\u001b[0m\u001b[0m\n\u001b[0m\u001b[1;32m    244\u001b[0m \u001b[0;34m\u001b[0m\u001b[0m\n\u001b[1;32m    245\u001b[0m         \u001b[0;32melif\u001b[0m \u001b[0misinstance\u001b[0m\u001b[0;34m(\u001b[0m\u001b[0mfunc\u001b[0m\u001b[0;34m,\u001b[0m \u001b[0mabc\u001b[0m\u001b[0;34m.\u001b[0m\u001b[0mIterable\u001b[0m\u001b[0;34m)\u001b[0m\u001b[0;34m:\u001b[0m\u001b[0;34m\u001b[0m\u001b[0;34m\u001b[0m\u001b[0m\n",
            "\u001b[0;32m/usr/local/lib/python3.7/dist-packages/pandas/core/groupby/groupby.py\u001b[0m in \u001b[0;36m__getattr__\u001b[0;34m(self, attr)\u001b[0m\n\u001b[1;32m    910\u001b[0m \u001b[0;34m\u001b[0m\u001b[0m\n\u001b[1;32m    911\u001b[0m         raise AttributeError(\n\u001b[0;32m--> 912\u001b[0;31m             \u001b[0;34mf\"'{type(self).__name__}' object has no attribute '{attr}'\"\u001b[0m\u001b[0;34m\u001b[0m\u001b[0;34m\u001b[0m\u001b[0m\n\u001b[0m\u001b[1;32m    913\u001b[0m         )\n\u001b[1;32m    914\u001b[0m \u001b[0;34m\u001b[0m\u001b[0m\n",
            "\u001b[0;31mAttributeError\u001b[0m: 'SeriesGroupBy' object has no attribute 'items'"
          ]
        }
      ]
    },
    {
      "cell_type": "code",
      "source": [
        "p=df1.groupby(['neighbourhood_group','name']).agg({'availability_365':\"min\"})\n",
        "p\n",
        "# These are the busiest places since the availability is the least"
      ],
      "metadata": {
        "id": "PojLlhRZYBNI"
      },
      "execution_count": null,
      "outputs": []
    },
    {
      "cell_type": "markdown",
      "source": [
        "**3.Which hosts are the busiest and why?**"
      ],
      "metadata": {
        "id": "nee6SdC54pkG"
      }
    },
    {
      "cell_type": "code",
      "source": [
        "h=df1['host_name'].value_counts()\n",
        "plt.figure(figsize=(12,6))\n",
        "h[0:10].plot.bar() #Host Michael is the busiest follwed by David"
      ],
      "metadata": {
        "id": "LrqwahW84xwa"
      },
      "execution_count": null,
      "outputs": []
    },
    {
      "cell_type": "code",
      "source": [
        "m=df[df1['host_name']==\"Michael\"]\n",
        "d=df[df1['host_name']==\"David\"]\n",
        "print(\"Total places hosted by Michael is:\",m.shape[0])\n",
        "print(\"Total places hosted by David is:\",d.shape[0])\n",
        "#Since Michael and David host more than 400 places they are the busiest"
      ],
      "metadata": {
        "id": "D_YNJFezCvKw"
      },
      "execution_count": null,
      "outputs": []
    },
    {
      "cell_type": "markdown",
      "source": [
        "**4.Is there any noticeable difference of traffic among different areas and what could be the reason for it?**"
      ],
      "metadata": {
        "id": "BxXR0uDA45v2"
      }
    },
    {
      "cell_type": "code",
      "source": [
        "#find month and year for getting the no. of customers "
      ],
      "metadata": {
        "id": "meFYW_fyz_k5"
      },
      "execution_count": null,
      "outputs": []
    },
    {
      "cell_type": "code",
      "source": [
        "df['last_review']= pd.to_datetime(df['last_review'])\n",
        "df['month'] = pd.DatetimeIndex(df['last_review']).month\n",
        "df['year']=pd.DatetimeIndex(df['last_review']).year\n",
        "plt.figure(figsize=(20,10))\n",
        "plt.subplot(341)\n",
        "df['month'].value_counts().plot.bar()\n",
        "plt.subplot(342)\n",
        "df['year'].value_counts().plot.bar()\n",
        "df['month'].value_counts()"
      ],
      "metadata": {
        "id": "NIJ3UoMB48V1",
        "colab": {
          "base_uri": "https://localhost:8080/",
          "height": 459
        },
        "outputId": "20de1208-fe3a-4024-95e4-ed7045e8fbca"
      },
      "execution_count": null,
      "outputs": [
        {
          "output_type": "execute_result",
          "data": {
            "text/plain": [
              "6.0     13589\n",
              "7.0      5937\n",
              "5.0      4701\n",
              "1.0      2773\n",
              "4.0      2109\n",
              "12.0     1770\n",
              "8.0      1667\n",
              "10.0     1546\n",
              "9.0      1535\n",
              "3.0      1288\n",
              "11.0     1158\n",
              "2.0       770\n",
              "Name: month, dtype: int64"
            ]
          },
          "metadata": {},
          "execution_count": 52
        },
        {
          "output_type": "display_data",
          "data": {
            "text/plain": [
              "<Figure size 1440x720 with 2 Axes>"
            ],
            "image/png": "[encoded data removed]"
          },
          "metadata": {
            "needs_background": "light"
          }
        }
      ]
    },
    {
      "cell_type": "code",
      "source": [
        "#To be altered \n",
        "sns.barplot(y=df['month'].value_counts(),x=df['month'])\n",
        "plt.xlabel('Month')\n",
        "plt.ylabel('Number of hotels booked')\n",
        "plt.show() "
      ],
      "metadata": {
        "colab": {
          "base_uri": "https://localhost:8080/",
          "height": 279
        },
        "id": "tEcZT8sH7NJH",
        "outputId": "7c44ebb5-b31b-46f8-ac67-0d10f09d8b9d"
      },
      "execution_count": null,
      "outputs": [
        {
          "output_type": "display_data",
          "data": {
            "text/plain": [
              "<Figure size 432x288 with 1 Axes>"
            ],
            "image/png": "[encoded data removed]"
          },
          "metadata": {
            "needs_background": "light"
          }
        }
      ]
    }
  ]
}