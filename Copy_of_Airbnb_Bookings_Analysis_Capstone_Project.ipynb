{
  "nbformat": 4,
  "nbformat_minor": 0,
  "metadata": {
    "kernelspec": {
      "display_name": "Python 3",
      "language": "python",
      "name": "python3"
    },
    "language_info": {
      "codemirror_mode": {
        "name": "ipython",
        "version": 3
      },
      "file_extension": ".py",
      "mimetype": "text/x-python",
      "name": "python",
      "nbconvert_exporter": "python",
      "pygments_lexer": "ipython3",
      "version": "3.6.6"
    },
    "colab": {
      "provenance": [],
      "collapsed_sections": [],
      "include_colab_link": true
    }
  },
  "cells": [
    {
      "cell_type": "markdown",
      "metadata": {
        "id": "view-in-github",
        "colab_type": "text"
      },
      "source": [
        "<a href=\"https://colab.research.google.com/github/Jeetesh-KumarM/CAPSTONE-PROJECT-1-/blob/main/Copy_of_Airbnb_Bookings_Analysis_Capstone_Project.ipynb\" target=\"_parent\"><img src=\"https://colab.research.google.com/assets/colab-badge.svg\" alt=\"Open In Colab\"/></a>"
      ]
    },
    {
      "cell_type": "markdown",
      "metadata": {
        "id": "Y06xIdG26kRF"
      },
      "source": [
        "## <b> Since 2008, guests and hosts have used Airbnb to expand on traveling possibilities and present a more unique, personalized way of experiencing the world. Today, Airbnb became one of a kind service that is used and recognized by the whole world. Data analysis on millions of listings provided through Airbnb is a crucial factor for the company. These millions of listings generate a lot of data - data that can be analyzed and used for security, business decisions, understanding of customers' and providers' (hosts) behavior and performance on the platform, guiding marketing initiatives, implementation of innovative additional services and much more. </b>\n",
        "\n",
        "## <b>This dataset has around 49,000 observations in it with 16 columns and it is a mix between categorical and numeric values. </b>\n",
        "\n",
        "## <b> Explore and analyze the data to discover key understandings (not limited to these) such as : \n",
        "* What can we learn about different hosts and areas?\n",
        "* What can we learn from predictions? (ex: locations, prices, reviews, etc)\n",
        "* Which hosts are the busiest and why?\n",
        "* Is there any noticeable difference of traffic among different areas and what could be the reason for it? </b>"
      ]
    },
    {
      "cell_type": "code",
      "metadata": {
        "id": "dByMsuzT8Tnw"
      },
      "source": [
        "import numpy as np\n",
        "import pandas as pd\n",
        "import matplotlib.pyplot as plt\n",
        "import seaborn as sns\n",
        "%matplotlib inline"
      ],
      "execution_count": 1,
      "outputs": []
    },
    {
      "cell_type": "code",
      "source": [
        "from google.colab import drive\n",
        "drive.mount('/content/drive')"
      ],
      "metadata": {
        "id": "PCnVbgaq69-5"
      },
      "execution_count": null,
      "outputs": []
    },
    {
      "cell_type": "code",
      "source": [
        "df=pd.read_csv(\"/content/drive/MyDrive/AlmaBetter/AirBnB/AirBnB Bookings Analysis/Airbnb NYC 2019.csv\")"
      ],
      "metadata": {
        "id": "qOf6w0r164C1"
      },
      "execution_count": null,
      "outputs": []
    },
    {
      "cell_type": "code",
      "source": [
        "df.info()"
      ],
      "metadata": {
        "id": "Et6jaxVen4Xd"
      },
      "execution_count": null,
      "outputs": []
    },
    {
      "cell_type": "markdown",
      "source": [
        "**DATA CLEANING:**\n",
        "Checking whether same host id is present multiple times"
      ],
      "metadata": {
        "id": "ANusWqR9q4R6"
      }
    },
    {
      "cell_type": "code",
      "source": [
        "df.isnull().sum()"
      ],
      "metadata": {
        "id": "Io8sXNALX5Zi"
      },
      "execution_count": null,
      "outputs": []
    },
    {
      "cell_type": "code",
      "source": [
        "df['id'].duplicated().unique() #Host id dupicate has only 1 unique value i.e false. Hence no multiple data with same id exists"
      ],
      "metadata": {
        "id": "3-ea32BhXnMA"
      },
      "execution_count": null,
      "outputs": []
    },
    {
      "cell_type": "code",
      "source": [
        "df['id'].isnull().unique()#No null value in id"
      ],
      "metadata": {
        "id": "ZcE19XSeIvRe"
      },
      "execution_count": null,
      "outputs": []
    },
    {
      "cell_type": "code",
      "source": [
        "print(df['host_name'].isnull().unique())#Host name has null values\n",
        "name_null=df[df['host_name'].isnull()==True]\n",
        "name_null['id'].shape[0]# 21 entries with name as null\n",
        "s=df.name.fillna(df.host_id,inplace=True)#Replace the null host name with the host id\n",
        "df.name.isnull().unique()"
      ],
      "metadata": {
        "id": "M1V2ftgEJP5t"
      },
      "execution_count": null,
      "outputs": []
    },
    {
      "cell_type": "code",
      "source": [
        "df1=df.copy()\n",
        "print(\"Price null values:\",df1['price'].isnull().unique())\n",
        "print(\"Minimum nights null values:\",df1['minimum_nights'].isnull().unique())\n",
        "print(\"Number of reviews null values:\",df1['number_of_reviews'].isnull().unique())\n",
        "print(\"Last review null values:\",df1['last_review'].isnull().unique())\n",
        "df1['last_review'].fillna(0,inplace=True)\n",
        "print(\"Reviews per month null values:\",df1['reviews_per_month'].isnull().unique())\n",
        "df1['reviews_per_month'].fillna(0,inplace=True)\n"
      ],
      "metadata": {
        "id": "PaceEi7jitfD"
      },
      "execution_count": null,
      "outputs": []
    },
    {
      "cell_type": "code",
      "source": [],
      "metadata": {
        "id": "s9FTF6CTPy9p"
      },
      "execution_count": null,
      "outputs": []
    },
    {
      "cell_type": "markdown",
      "source": [
        "**1. About Host and Area**"
      ],
      "metadata": {
        "id": "hS3ViEiIvVKk"
      }
    },
    {
      "cell_type": "code",
      "source": [
        "df1['host_name'].nunique() #11452 Hosts are present in the data"
      ],
      "metadata": {
        "id": "sACUvcm_tUUR"
      },
      "execution_count": null,
      "outputs": []
    },
    {
      "cell_type": "code",
      "source": [
        "h=df1['host_name'].value_counts()\n",
        "plt.figure(figsize=(12,6))\n",
        "h[0:10].plot.bar()"
      ],
      "metadata": {
        "id": "inDc0C5TA_8y"
      },
      "execution_count": null,
      "outputs": []
    },
    {
      "cell_type": "markdown",
      "source": [
        "THESE ARE THE NAME OF THE TOP 10 HOST"
      ],
      "metadata": {
        "id": "jCb12sPIuf4R"
      }
    },
    {
      "cell_type": "code",
      "source": [
        "df1.loc[df1['host_name'] == 'Michael', 'neighbourhood_group'].unique()  # Host name with Michael provides the maximum number of Rooms in different neighbour group"
      ],
      "metadata": {
        "id": "KVM7YYeKz0HI"
      },
      "execution_count": null,
      "outputs": []
    },
    {
      "cell_type": "code",
      "source": [
        "count=df1.neighbourhood_group.value_counts()\n",
        "count"
      ],
      "metadata": {
        "id": "_bjrllnovDW-"
      },
      "execution_count": null,
      "outputs": []
    },
    {
      "cell_type": "code",
      "source": [
        "count.plot(kind=\"pie\",autopct='%0.1f%%')"
      ],
      "metadata": {
        "id": "TsWN40z2xAoz"
      },
      "execution_count": null,
      "outputs": []
    },
    {
      "cell_type": "code",
      "source": [
        "plt.figure(figsize=(12,5))\n",
        "count.plot.bar()"
      ],
      "metadata": {
        "id": "E9TOMDcmr-ka"
      },
      "execution_count": null,
      "outputs": []
    },
    {
      "cell_type": "markdown",
      "source": [
        "THE ABOVE GRAPHICAL REPRESENTATIONS SHOW THAT THE HIGHEST NUMBER OF HOSTS ARE FROM MANHATTAN FOLLWED BY BROOKLY AND ETC. \n",
        "THE LEAST NUMBER OF HOSTS ARE FROM STATEN ISLAND"
      ],
      "metadata": {
        "id": "dacSG3w7xo5n"
      }
    },
    {
      "cell_type": "code",
      "source": [],
      "metadata": {
        "id": "mF3eV_pImkP4"
      },
      "execution_count": null,
      "outputs": []
    },
    {
      "cell_type": "markdown",
      "source": [
        "**2.What can we learn from predictions? (ex: locations, prices, reviews, etc)**"
      ],
      "metadata": {
        "id": "63CGIKmOzA3b"
      }
    },
    {
      "cell_type": "markdown",
      "source": [
        "Price and Availability"
      ],
      "metadata": {
        "id": "e7Z-NqGoNfEU"
      }
    },
    {
      "cell_type": "code",
      "source": [
        "df1['minimum_price']=df1['minimum_nights']*df1['price']\n",
        "df1[['minimum_price']].describe()\n",
        "df2=df1.query('minimum_price == 0')\n",
        "df2.shape[0]  #There are 11 rows with minimum price as 0\n",
        "df3=df1.groupby(['neighbourhood_group']).agg({'price':'mean','availability_365':'mean'})#Mean price and mean availability of each neighbourhood group\n",
        "plt.figure(figsize=(10,5))\n",
        "df3.plot.bar()"
      ],
      "metadata": {
        "id": "6dJgcguCzF5y"
      },
      "execution_count": null,
      "outputs": []
    },
    {
      "cell_type": "markdown",
      "source": [
        "**SO ACCORDING TO THE GRAPH ABOVE, THE AVERAGE PRICE AND AVERAGE AVAILABILITY IN *BRONX*,*QUEENS* AND *STATEN* *ISLAND* SUITED BEST FOR A CUSTOMER WHEREAS IN *BROOKLY* THE AVERAGE PRICE IS MORE AND AVERAGE AVAILABILTY IS THE LEAST AND IN *MANHATTAN* THE AVERAGE PRICE IS THE HIGHEST AND AVERAGE AVAILABILITY IS THE SECOND LEAST**"
      ],
      "metadata": {
        "id": "X8SSxsDxHRMO"
      }
    },
    {
      "cell_type": "markdown",
      "source": [
        "Reviews Analysis"
      ],
      "metadata": {
        "id": "0XfY69IgNxc7"
      }
    },
    {
      "cell_type": "code",
      "source": [
        "rev=df1.groupby(['neighbourhood_group']).agg({'reviews_per_month':\"mean\"})\n",
        "rev1=rev.sort_values('reviews_per_month', ascending=False)\n",
        "fig=plt.figure(figsize=(10,5))\n",
        "plt.title(\"Average Reviews Per Month\")\n",
        "plt.plot(rev)\n",
        "plt.title(\"Average price\")"
      ],
      "metadata": {
        "id": "ac9rc2TwER-H"
      },
      "execution_count": null,
      "outputs": []
    },
    {
      "cell_type": "code",
      "source": [
        "rev1"
      ],
      "metadata": {
        "id": "A9RggjFQMv48"
      },
      "execution_count": null,
      "outputs": []
    },
    {
      "cell_type": "markdown",
      "source": [
        "AS WE CAN OBSERVE FROM THE ABOVE TABLE AND THE GRAPH THE CUSTOMER REVIEW PER MONTH IS MORE IN STATEN ISLAND FOLLOWED BY QUEENS AND THEN BRONX WHICH MEANS CUSTOMERS ARE MORE INCLINED TOWARDS THESE PLACES AND THE REASON IS THE LOWER AVERAGE PRICE AND HIGHER AVERAGE AVAILABILITY.\n",
        "MANHATTAN IS THE COSTLIEST AND WITH THE LEAST AVERAGE AVAILABILITY AND IS FOLLOWED BY BROOKLYN.\n"
      ],
      "metadata": {
        "id": "VPvZ-w8AJHlf"
      }
    },
    {
      "cell_type": "code",
      "source": [
        "df1.groupby(['neighbourhood_group']).agg({'neighbourhood':'items'})#Neighbour hood of Particular neighbourhood group"
      ],
      "metadata": {
        "id": "1tEDrAcmNcat"
      },
      "execution_count": null,
      "outputs": []
    },
    {
      "cell_type": "code",
      "source": [
        "p=df1.groupby(['neighbourhood_group','name']).agg({'availability_365':\"min\"})\n",
        "p\n",
        "# These are the busiest places since the availability is the least"
      ],
      "metadata": {
        "id": "PojLlhRZYBNI"
      },
      "execution_count": null,
      "outputs": []
    },
    {
      "cell_type": "markdown",
      "source": [
        "**3.Which hosts are the busiest and why?**"
      ],
      "metadata": {
        "id": "nee6SdC54pkG"
      }
    },
    {
      "cell_type": "code",
      "source": [
        "h=df1['host_name'].value_counts()\n",
        "plt.figure(figsize=(12,6))\n",
        "h[0:10].plot.bar() #Host Michael is the busiest follwed by David"
      ],
      "metadata": {
        "colab": {
          "base_uri": "https://localhost:8080/",
          "height": 447
        },
        "id": "LrqwahW84xwa",
        "outputId": "8da871d1-0a07-4e11-e3cd-8a2724e752d0"
      },
      "execution_count": null,
      "outputs": [
        {
          "output_type": "execute_result",
          "data": {
            "text/plain": [
              "<matplotlib.axes._subplots.AxesSubplot at 0x7f469c670210>"
            ]
          },
          "metadata": {},
          "execution_count": 69
        },
        {
          "output_type": "display_data",
          "data": {
            "text/plain": [
              "<Figure size 864x432 with 1 Axes>"
            ],
            "image/png": "[encoded data removed]"
          },
          "metadata": {
            "needs_background": "light"
          }
        }
      ]
    },
    {
      "cell_type": "code",
      "source": [
        "m=df[df1['host_name']==\"Michael\"]\n",
        "d=df[df1['host_name']==\"David\"]\n",
        "print(\"Total places hosted by Michael is:\",m.shape[0])\n",
        "print(\"Total places hosted by David is:\",d.shape[0])\n",
        "#Since Michael and David host more than 400 places they are the busiest"
      ],
      "metadata": {
        "colab": {
          "base_uri": "https://localhost:8080/"
        },
        "id": "D_YNJFezCvKw",
        "outputId": "35666887-76e9-4c33-96d8-212f2825f9b2"
      },
      "execution_count": null,
      "outputs": [
        {
          "output_type": "stream",
          "name": "stdout",
          "text": [
            "Total places hosted by Michael is: 417\n",
            "Total places hosted by David is: 403\n"
          ]
        }
      ]
    },
    {
      "cell_type": "markdown",
      "source": [
        "**4.Is there any noticeable difference of traffic among different areas and what could be the reason for it?**"
      ],
      "metadata": {
        "id": "BxXR0uDA45v2"
      }
    },
    {
      "cell_type": "code",
      "source": [],
      "metadata": {
        "id": "NIJ3UoMB48V1"
      },
      "execution_count": null,
      "outputs": []
    }
  ]
}